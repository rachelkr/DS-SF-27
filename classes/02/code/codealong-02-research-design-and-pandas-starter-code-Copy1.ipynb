{
 "cells": [
  {
   "cell_type": "markdown",
   "metadata": {},
   "source": [
    "# DS-SF-27 | Codealong 02 | Research Design and `pandas`"
   ]
  },
  {
   "cell_type": "markdown",
   "metadata": {},
   "source": [
    "## Part A - Introduction to `pandas` with the SF Housing dataset"
   ]
  },
  {
   "cell_type": "markdown",
   "metadata": {},
   "source": [
    "> ### Set up the environment"
   ]
  },
  {
   "cell_type": "code",
   "execution_count": 1,
   "metadata": {
    "collapsed": false
   },
   "outputs": [],
   "source": [
    "import os\n",
    "\n",
    "import pandas as pd\n",
    "pd.set_option('display.max_rows', 8)\n",
    "pd.set_option('display.notebook_repr_html', True)\n",
    "pd.set_option('display.max_columns', 10)"
   ]
  },
  {
   "cell_type": "markdown",
   "metadata": {},
   "source": [
    "> ### Load data from files and the Web"
   ]
  },
  {
   "cell_type": "markdown",
   "metadata": {},
   "source": [
    "`pandas` provides powerful facilities for easy retrieval of data from a variety of data sources.  In particular, it provides built-in support for loading data in `.csv` format, a common means of storing structured data in text files."
   ]
  },
  {
   "cell_type": "code",
   "execution_count": 2,
   "metadata": {
    "collapsed": false
   },
   "outputs": [],
   "source": [
    "df = pd.read_csv(os.path.join('..', 'datasets', 'zillow-02-starter.csv'))"
   ]
  },
  {
   "cell_type": "markdown",
   "metadata": {},
   "source": [
    "> Let's verify the type of `df`:"
   ]
  },
  {
   "cell_type": "code",
   "execution_count": 3,
   "metadata": {
    "collapsed": false
   },
   "outputs": [
    {
     "data": {
      "text/plain": [
       "pandas.core.frame.DataFrame"
      ]
     },
     "execution_count": 3,
     "metadata": {},
     "output_type": "execute_result"
    }
   ],
   "source": [
    "# TODO\n",
    "type(df)"
   ]
  },
  {
   "cell_type": "markdown",
   "metadata": {},
   "source": [
    "The result is a `DataFrame`.  A `DataFrame` stores tabular data:"
   ]
  },
  {
   "cell_type": "code",
   "execution_count": 4,
   "metadata": {
    "collapsed": false
   },
   "outputs": [
    {
     "data": {
      "text/html": [
       "<div>\n",
       "<table border=\"1\" class=\"dataframe\">\n",
       "  <thead>\n",
       "    <tr style=\"text-align: right;\">\n",
       "      <th></th>\n",
       "      <th>ID</th>\n",
       "      <th>Address</th>\n",
       "      <th>Latitude</th>\n",
       "      <th>Longitude</th>\n",
       "      <th>DateOfSale</th>\n",
       "      <th>...</th>\n",
       "      <th>Size</th>\n",
       "      <th>SizeUnit</th>\n",
       "      <th>LotSize</th>\n",
       "      <th>LotSizeUnit</th>\n",
       "      <th>BuiltInYear</th>\n",
       "    </tr>\n",
       "  </thead>\n",
       "  <tbody>\n",
       "    <tr>\n",
       "      <th>0</th>\n",
       "      <td>15063471</td>\n",
       "      <td>55 Vandewater St APT 9, San Francisco, CA</td>\n",
       "      <td>37805103</td>\n",
       "      <td>-122412856</td>\n",
       "      <td>12/4/15</td>\n",
       "      <td>...</td>\n",
       "      <td>550.0</td>\n",
       "      <td>sqft</td>\n",
       "      <td>NaN</td>\n",
       "      <td>NaN</td>\n",
       "      <td>1980.0</td>\n",
       "    </tr>\n",
       "    <tr>\n",
       "      <th>1</th>\n",
       "      <td>15063505</td>\n",
       "      <td>740 Francisco St, San Francisco, CA</td>\n",
       "      <td>37804420</td>\n",
       "      <td>-122417389</td>\n",
       "      <td>11/30/15</td>\n",
       "      <td>...</td>\n",
       "      <td>1430.0</td>\n",
       "      <td>sqft</td>\n",
       "      <td>2435.0</td>\n",
       "      <td>sqft</td>\n",
       "      <td>1948.0</td>\n",
       "    </tr>\n",
       "    <tr>\n",
       "      <th>2</th>\n",
       "      <td>15063609</td>\n",
       "      <td>819 Francisco St, San Francisco, CA</td>\n",
       "      <td>37803728</td>\n",
       "      <td>-122419055</td>\n",
       "      <td>11/12/15</td>\n",
       "      <td>...</td>\n",
       "      <td>2040.0</td>\n",
       "      <td>sqft</td>\n",
       "      <td>3920.0</td>\n",
       "      <td>sqft</td>\n",
       "      <td>1976.0</td>\n",
       "    </tr>\n",
       "    <tr>\n",
       "      <th>3</th>\n",
       "      <td>15064044</td>\n",
       "      <td>199 Chestnut St APT 5, San Francisco, CA</td>\n",
       "      <td>37804392</td>\n",
       "      <td>-122406590</td>\n",
       "      <td>12/11/15</td>\n",
       "      <td>...</td>\n",
       "      <td>1060.0</td>\n",
       "      <td>sqft</td>\n",
       "      <td>NaN</td>\n",
       "      <td>NaN</td>\n",
       "      <td>1930.0</td>\n",
       "    </tr>\n",
       "    <tr>\n",
       "      <th>...</th>\n",
       "      <td>...</td>\n",
       "      <td>...</td>\n",
       "      <td>...</td>\n",
       "      <td>...</td>\n",
       "      <td>...</td>\n",
       "      <td>...</td>\n",
       "      <td>...</td>\n",
       "      <td>...</td>\n",
       "      <td>...</td>\n",
       "      <td>...</td>\n",
       "      <td>...</td>\n",
       "    </tr>\n",
       "    <tr>\n",
       "      <th>996</th>\n",
       "      <td>2126960082</td>\n",
       "      <td>355 1st St UNIT 1905, San Francisco, CA</td>\n",
       "      <td>37787029</td>\n",
       "      <td>-122393638</td>\n",
       "      <td>11/20/15</td>\n",
       "      <td>...</td>\n",
       "      <td>691.0</td>\n",
       "      <td>sqft</td>\n",
       "      <td>NaN</td>\n",
       "      <td>NaN</td>\n",
       "      <td>2004.0</td>\n",
       "    </tr>\n",
       "    <tr>\n",
       "      <th>997</th>\n",
       "      <td>2128308939</td>\n",
       "      <td>33 Santa Cruz Ave, San Francisco, CA</td>\n",
       "      <td>37709136</td>\n",
       "      <td>-122465332</td>\n",
       "      <td>12/10/15</td>\n",
       "      <td>...</td>\n",
       "      <td>1738.0</td>\n",
       "      <td>sqft</td>\n",
       "      <td>2299.0</td>\n",
       "      <td>sqft</td>\n",
       "      <td>1976.0</td>\n",
       "    </tr>\n",
       "    <tr>\n",
       "      <th>998</th>\n",
       "      <td>2131957929</td>\n",
       "      <td>1821 Grant Ave, San Francisco, CA</td>\n",
       "      <td>37803760</td>\n",
       "      <td>-122408531</td>\n",
       "      <td>12/15/15</td>\n",
       "      <td>...</td>\n",
       "      <td>1048.0</td>\n",
       "      <td>sqft</td>\n",
       "      <td>NaN</td>\n",
       "      <td>NaN</td>\n",
       "      <td>1975.0</td>\n",
       "    </tr>\n",
       "    <tr>\n",
       "      <th>999</th>\n",
       "      <td>2136213970</td>\n",
       "      <td>1200 Gough St, San Francisco, CA</td>\n",
       "      <td>37784770</td>\n",
       "      <td>-122424100</td>\n",
       "      <td>1/10/16</td>\n",
       "      <td>...</td>\n",
       "      <td>900.0</td>\n",
       "      <td>sqft</td>\n",
       "      <td>NaN</td>\n",
       "      <td>NaN</td>\n",
       "      <td>1966.0</td>\n",
       "    </tr>\n",
       "  </tbody>\n",
       "</table>\n",
       "<p>1000 rows × 15 columns</p>\n",
       "</div>"
      ],
      "text/plain": [
       "             ID                                    Address  Latitude  \\\n",
       "0      15063471  55 Vandewater St APT 9, San Francisco, CA  37805103   \n",
       "1      15063505        740 Francisco St, San Francisco, CA  37804420   \n",
       "2      15063609        819 Francisco St, San Francisco, CA  37803728   \n",
       "3      15064044   199 Chestnut St APT 5, San Francisco, CA  37804392   \n",
       "..          ...                                        ...       ...   \n",
       "996  2126960082    355 1st St UNIT 1905, San Francisco, CA  37787029   \n",
       "997  2128308939       33 Santa Cruz Ave, San Francisco, CA  37709136   \n",
       "998  2131957929          1821 Grant Ave, San Francisco, CA  37803760   \n",
       "999  2136213970           1200 Gough St, San Francisco, CA  37784770   \n",
       "\n",
       "     Longitude DateOfSale     ...         Size SizeUnit LotSize  LotSizeUnit  \\\n",
       "0   -122412856    12/4/15     ...        550.0     sqft     NaN          NaN   \n",
       "1   -122417389   11/30/15     ...       1430.0     sqft  2435.0         sqft   \n",
       "2   -122419055   11/12/15     ...       2040.0     sqft  3920.0         sqft   \n",
       "3   -122406590   12/11/15     ...       1060.0     sqft     NaN          NaN   \n",
       "..         ...        ...     ...          ...      ...     ...          ...   \n",
       "996 -122393638   11/20/15     ...        691.0     sqft     NaN          NaN   \n",
       "997 -122465332   12/10/15     ...       1738.0     sqft  2299.0         sqft   \n",
       "998 -122408531   12/15/15     ...       1048.0     sqft     NaN          NaN   \n",
       "999 -122424100    1/10/16     ...        900.0     sqft     NaN          NaN   \n",
       "\n",
       "     BuiltInYear  \n",
       "0         1980.0  \n",
       "1         1948.0  \n",
       "2         1976.0  \n",
       "3         1930.0  \n",
       "..           ...  \n",
       "996       2004.0  \n",
       "997       1976.0  \n",
       "998       1975.0  \n",
       "999       1966.0  \n",
       "\n",
       "[1000 rows x 15 columns]"
      ]
     },
     "execution_count": 4,
     "metadata": {},
     "output_type": "execute_result"
    }
   ],
   "source": [
    "df"
   ]
  },
  {
   "cell_type": "markdown",
   "metadata": {},
   "source": [
    "> ### Shape of the `DataFrame`: number of rows and columns"
   ]
  },
  {
   "cell_type": "code",
   "execution_count": 5,
   "metadata": {
    "collapsed": false
   },
   "outputs": [
    {
     "data": {
      "text/plain": [
       "(1000, 15)"
      ]
     },
     "execution_count": 5,
     "metadata": {},
     "output_type": "execute_result"
    }
   ],
   "source": [
    "df.shape"
   ]
  },
  {
   "cell_type": "markdown",
   "metadata": {},
   "source": [
    "The first value is the number of rows, the second the number of columns."
   ]
  },
  {
   "cell_type": "code",
   "execution_count": 6,
   "metadata": {
    "collapsed": false
   },
   "outputs": [
    {
     "data": {
      "text/plain": [
       "1000"
      ]
     },
     "execution_count": 6,
     "metadata": {},
     "output_type": "execute_result"
    }
   ],
   "source": [
    "df.shape[0]"
   ]
  },
  {
   "cell_type": "code",
   "execution_count": 7,
   "metadata": {
    "collapsed": false
   },
   "outputs": [
    {
     "data": {
      "text/plain": [
       "15"
      ]
     },
     "execution_count": 7,
     "metadata": {},
     "output_type": "execute_result"
    }
   ],
   "source": [
    "df.shape[1]"
   ]
  },
  {
   "cell_type": "markdown",
   "metadata": {},
   "source": [
    "(you can also use the idiomatic `len` to get the number of rows)"
   ]
  },
  {
   "cell_type": "code",
   "execution_count": 8,
   "metadata": {
    "collapsed": false
   },
   "outputs": [
    {
     "data": {
      "text/plain": [
       "1000"
      ]
     },
     "execution_count": 8,
     "metadata": {},
     "output_type": "execute_result"
    }
   ],
   "source": [
    "len(df)"
   ]
  },
  {
   "cell_type": "markdown",
   "metadata": {},
   "source": [
    "> We can get the \"names\" of the rows of the `DataFrame` with the `index` property."
   ]
  },
  {
   "cell_type": "code",
   "execution_count": 9,
   "metadata": {
    "collapsed": false
   },
   "outputs": [
    {
     "data": {
      "text/plain": [
       "RangeIndex(start=0, stop=1000, step=1)"
      ]
     },
     "execution_count": 9,
     "metadata": {},
     "output_type": "execute_result"
    }
   ],
   "source": [
    "df.index"
   ]
  },
  {
   "cell_type": "markdown",
   "metadata": {},
   "source": [
    "Here, rows are just numbered from 0 to 1,000 (excluded)."
   ]
  },
  {
   "cell_type": "markdown",
   "metadata": {},
   "source": [
    "> We can also get the names of the different columns of the `DataFrame` with the `column` property."
   ]
  },
  {
   "cell_type": "code",
   "execution_count": 10,
   "metadata": {
    "collapsed": false
   },
   "outputs": [
    {
     "data": {
      "text/plain": [
       "Index([u'ID', u'Address', u'Latitude', u'Longitude', u'DateOfSale',\n",
       "       u'SalePrice', u'SalePriceUnit', u'IsAStudio', u'BedCount', u'BathCount',\n",
       "       u'Size', u'SizeUnit', u'LotSize', u'LotSizeUnit', u'BuiltInYear'],\n",
       "      dtype='object')"
      ]
     },
     "execution_count": 10,
     "metadata": {},
     "output_type": "execute_result"
    }
   ],
   "source": [
    "df.columns"
   ]
  },
  {
   "cell_type": "markdown",
   "metadata": {},
   "source": [
    "> ### Subsetting on columns of a `DataFrame`"
   ]
  },
  {
   "cell_type": "markdown",
   "metadata": {},
   "source": [
    "Selecting data in specific columns of a `DataFrame` is performed by using the `[]` operator.\n",
    "\n",
    "Passing a single integer, or a list of integers, to `[]` will perform a location based lookup of the columns."
   ]
  },
  {
   "cell_type": "markdown",
   "metadata": {},
   "source": [
    "> E.g., columns #5 and #6:"
   ]
  },
  {
   "cell_type": "code",
   "execution_count": 11,
   "metadata": {
    "collapsed": false
   },
   "outputs": [
    {
     "data": {
      "text/html": [
       "<div>\n",
       "<table border=\"1\" class=\"dataframe\">\n",
       "  <thead>\n",
       "    <tr style=\"text-align: right;\">\n",
       "      <th></th>\n",
       "      <th>Address</th>\n",
       "      <th>SalePrice</th>\n",
       "      <th>SalePriceUnit</th>\n",
       "    </tr>\n",
       "  </thead>\n",
       "  <tbody>\n",
       "    <tr>\n",
       "      <th>0</th>\n",
       "      <td>55 Vandewater St APT 9, San Francisco, CA</td>\n",
       "      <td>710000.00</td>\n",
       "      <td>$</td>\n",
       "    </tr>\n",
       "    <tr>\n",
       "      <th>1</th>\n",
       "      <td>740 Francisco St, San Francisco, CA</td>\n",
       "      <td>2.15</td>\n",
       "      <td>$M</td>\n",
       "    </tr>\n",
       "    <tr>\n",
       "      <th>2</th>\n",
       "      <td>819 Francisco St, San Francisco, CA</td>\n",
       "      <td>5.60</td>\n",
       "      <td>$M</td>\n",
       "    </tr>\n",
       "    <tr>\n",
       "      <th>3</th>\n",
       "      <td>199 Chestnut St APT 5, San Francisco, CA</td>\n",
       "      <td>1.50</td>\n",
       "      <td>$M</td>\n",
       "    </tr>\n",
       "    <tr>\n",
       "      <th>...</th>\n",
       "      <td>...</td>\n",
       "      <td>...</td>\n",
       "      <td>...</td>\n",
       "    </tr>\n",
       "    <tr>\n",
       "      <th>996</th>\n",
       "      <td>355 1st St UNIT 1905, San Francisco, CA</td>\n",
       "      <td>860000.00</td>\n",
       "      <td>$</td>\n",
       "    </tr>\n",
       "    <tr>\n",
       "      <th>997</th>\n",
       "      <td>33 Santa Cruz Ave, San Francisco, CA</td>\n",
       "      <td>830000.00</td>\n",
       "      <td>$</td>\n",
       "    </tr>\n",
       "    <tr>\n",
       "      <th>998</th>\n",
       "      <td>1821 Grant Ave, San Francisco, CA</td>\n",
       "      <td>835000.00</td>\n",
       "      <td>$</td>\n",
       "    </tr>\n",
       "    <tr>\n",
       "      <th>999</th>\n",
       "      <td>1200 Gough St, San Francisco, CA</td>\n",
       "      <td>825000.00</td>\n",
       "      <td>$</td>\n",
       "    </tr>\n",
       "  </tbody>\n",
       "</table>\n",
       "<p>1000 rows × 3 columns</p>\n",
       "</div>"
      ],
      "text/plain": [
       "                                       Address  SalePrice SalePriceUnit\n",
       "0    55 Vandewater St APT 9, San Francisco, CA  710000.00             $\n",
       "1          740 Francisco St, San Francisco, CA       2.15            $M\n",
       "2          819 Francisco St, San Francisco, CA       5.60            $M\n",
       "3     199 Chestnut St APT 5, San Francisco, CA       1.50            $M\n",
       "..                                         ...        ...           ...\n",
       "996    355 1st St UNIT 1905, San Francisco, CA  860000.00             $\n",
       "997       33 Santa Cruz Ave, San Francisco, CA  830000.00             $\n",
       "998          1821 Grant Ave, San Francisco, CA  835000.00             $\n",
       "999           1200 Gough St, San Francisco, CA  825000.00             $\n",
       "\n",
       "[1000 rows x 3 columns]"
      ]
     },
     "execution_count": 11,
     "metadata": {},
     "output_type": "execute_result"
    }
   ],
   "source": [
    "# TODO\n",
    "df[[1,5,6]]"
   ]
  },
  {
   "cell_type": "markdown",
   "metadata": {},
   "source": [
    "> Let's check that the column subsetting returns a `DataFrame`:"
   ]
  },
  {
   "cell_type": "code",
   "execution_count": 12,
   "metadata": {
    "collapsed": false
   },
   "outputs": [
    {
     "data": {
      "text/plain": [
       "pandas.core.frame.DataFrame"
      ]
     },
     "execution_count": 12,
     "metadata": {},
     "output_type": "execute_result"
    }
   ],
   "source": [
    "# TODO\n",
    "type(df[[5, 6]])"
   ]
  },
  {
   "cell_type": "markdown",
   "metadata": {},
   "source": [
    "A `DataFrame` can be made of a single column."
   ]
  },
  {
   "cell_type": "markdown",
   "metadata": {},
   "source": [
    "> E.g., column #7 only:"
   ]
  },
  {
   "cell_type": "code",
   "execution_count": 13,
   "metadata": {
    "collapsed": false
   },
   "outputs": [
    {
     "data": {
      "text/html": [
       "<div>\n",
       "<table border=\"1\" class=\"dataframe\">\n",
       "  <thead>\n",
       "    <tr style=\"text-align: right;\">\n",
       "      <th></th>\n",
       "      <th>IsAStudio</th>\n",
       "    </tr>\n",
       "  </thead>\n",
       "  <tbody>\n",
       "    <tr>\n",
       "      <th>0</th>\n",
       "      <td>False</td>\n",
       "    </tr>\n",
       "    <tr>\n",
       "      <th>1</th>\n",
       "      <td>False</td>\n",
       "    </tr>\n",
       "    <tr>\n",
       "      <th>2</th>\n",
       "      <td>False</td>\n",
       "    </tr>\n",
       "    <tr>\n",
       "      <th>3</th>\n",
       "      <td>False</td>\n",
       "    </tr>\n",
       "    <tr>\n",
       "      <th>...</th>\n",
       "      <td>...</td>\n",
       "    </tr>\n",
       "    <tr>\n",
       "      <th>996</th>\n",
       "      <td>False</td>\n",
       "    </tr>\n",
       "    <tr>\n",
       "      <th>997</th>\n",
       "      <td>False</td>\n",
       "    </tr>\n",
       "    <tr>\n",
       "      <th>998</th>\n",
       "      <td>False</td>\n",
       "    </tr>\n",
       "    <tr>\n",
       "      <th>999</th>\n",
       "      <td>False</td>\n",
       "    </tr>\n",
       "  </tbody>\n",
       "</table>\n",
       "<p>1000 rows × 1 columns</p>\n",
       "</div>"
      ],
      "text/plain": [
       "    IsAStudio\n",
       "0       False\n",
       "1       False\n",
       "2       False\n",
       "3       False\n",
       "..        ...\n",
       "996     False\n",
       "997     False\n",
       "998     False\n",
       "999     False\n",
       "\n",
       "[1000 rows x 1 columns]"
      ]
     },
     "execution_count": 13,
     "metadata": {},
     "output_type": "execute_result"
    }
   ],
   "source": [
    "# TODO\n",
    "df[[7]]"
   ]
  },
  {
   "cell_type": "markdown",
   "metadata": {},
   "source": [
    "If the values passed to `[]` are non-integers, the `DataFrame` will attempt to match them to those in the `columns` property."
   ]
  },
  {
   "cell_type": "code",
   "execution_count": 14,
   "metadata": {
    "collapsed": false
   },
   "outputs": [
    {
     "data": {
      "text/plain": [
       "Index([u'ID', u'Address', u'Latitude', u'Longitude', u'DateOfSale',\n",
       "       u'SalePrice', u'SalePriceUnit', u'IsAStudio', u'BedCount', u'BathCount',\n",
       "       u'Size', u'SizeUnit', u'LotSize', u'LotSizeUnit', u'BuiltInYear'],\n",
       "      dtype='object')"
      ]
     },
     "execution_count": 14,
     "metadata": {},
     "output_type": "execute_result"
    }
   ],
   "source": [
    "df.columns"
   ]
  },
  {
   "cell_type": "markdown",
   "metadata": {},
   "source": [
    "> Let's subset the `DataFrame` on columns `SalePrice` and `SalePriceUnit`:"
   ]
  },
  {
   "cell_type": "code",
   "execution_count": 15,
   "metadata": {
    "collapsed": false
   },
   "outputs": [
    {
     "data": {
      "text/html": [
       "<div>\n",
       "<table border=\"1\" class=\"dataframe\">\n",
       "  <thead>\n",
       "    <tr style=\"text-align: right;\">\n",
       "      <th></th>\n",
       "      <th>Address</th>\n",
       "      <th>ID</th>\n",
       "    </tr>\n",
       "  </thead>\n",
       "  <tbody>\n",
       "    <tr>\n",
       "      <th>0</th>\n",
       "      <td>55 Vandewater St APT 9, San Francisco, CA</td>\n",
       "      <td>15063471</td>\n",
       "    </tr>\n",
       "    <tr>\n",
       "      <th>1</th>\n",
       "      <td>740 Francisco St, San Francisco, CA</td>\n",
       "      <td>15063505</td>\n",
       "    </tr>\n",
       "    <tr>\n",
       "      <th>2</th>\n",
       "      <td>819 Francisco St, San Francisco, CA</td>\n",
       "      <td>15063609</td>\n",
       "    </tr>\n",
       "    <tr>\n",
       "      <th>3</th>\n",
       "      <td>199 Chestnut St APT 5, San Francisco, CA</td>\n",
       "      <td>15064044</td>\n",
       "    </tr>\n",
       "    <tr>\n",
       "      <th>...</th>\n",
       "      <td>...</td>\n",
       "      <td>...</td>\n",
       "    </tr>\n",
       "    <tr>\n",
       "      <th>996</th>\n",
       "      <td>355 1st St UNIT 1905, San Francisco, CA</td>\n",
       "      <td>2126960082</td>\n",
       "    </tr>\n",
       "    <tr>\n",
       "      <th>997</th>\n",
       "      <td>33 Santa Cruz Ave, San Francisco, CA</td>\n",
       "      <td>2128308939</td>\n",
       "    </tr>\n",
       "    <tr>\n",
       "      <th>998</th>\n",
       "      <td>1821 Grant Ave, San Francisco, CA</td>\n",
       "      <td>2131957929</td>\n",
       "    </tr>\n",
       "    <tr>\n",
       "      <th>999</th>\n",
       "      <td>1200 Gough St, San Francisco, CA</td>\n",
       "      <td>2136213970</td>\n",
       "    </tr>\n",
       "  </tbody>\n",
       "</table>\n",
       "<p>1000 rows × 2 columns</p>\n",
       "</div>"
      ],
      "text/plain": [
       "                                       Address          ID\n",
       "0    55 Vandewater St APT 9, San Francisco, CA    15063471\n",
       "1          740 Francisco St, San Francisco, CA    15063505\n",
       "2          819 Francisco St, San Francisco, CA    15063609\n",
       "3     199 Chestnut St APT 5, San Francisco, CA    15064044\n",
       "..                                         ...         ...\n",
       "996    355 1st St UNIT 1905, San Francisco, CA  2126960082\n",
       "997       33 Santa Cruz Ave, San Francisco, CA  2128308939\n",
       "998          1821 Grant Ave, San Francisco, CA  2131957929\n",
       "999           1200 Gough St, San Francisco, CA  2136213970\n",
       "\n",
       "[1000 rows x 2 columns]"
      ]
     },
     "execution_count": 15,
     "metadata": {},
     "output_type": "execute_result"
    }
   ],
   "source": [
    "# TODO\n",
    "#df[[5, 6]]\n",
    "df[[1,0]]"
   ]
  },
  {
   "cell_type": "markdown",
   "metadata": {},
   "source": [
    "However, you cannot mix integers and non-integers.  E.g.,"
   ]
  },
  {
   "cell_type": "code",
   "execution_count": 16,
   "metadata": {
    "collapsed": false
   },
   "outputs": [
    {
     "data": {
      "text/html": [
       "<div>\n",
       "<table border=\"1\" class=\"dataframe\">\n",
       "  <thead>\n",
       "    <tr style=\"text-align: right;\">\n",
       "      <th></th>\n",
       "      <th>SalePrice</th>\n",
       "      <th>SalePriceUnit</th>\n",
       "    </tr>\n",
       "  </thead>\n",
       "  <tbody>\n",
       "    <tr>\n",
       "      <th>0</th>\n",
       "      <td>710000.00</td>\n",
       "      <td>$</td>\n",
       "    </tr>\n",
       "    <tr>\n",
       "      <th>1</th>\n",
       "      <td>2.15</td>\n",
       "      <td>$M</td>\n",
       "    </tr>\n",
       "    <tr>\n",
       "      <th>2</th>\n",
       "      <td>5.60</td>\n",
       "      <td>$M</td>\n",
       "    </tr>\n",
       "    <tr>\n",
       "      <th>3</th>\n",
       "      <td>1.50</td>\n",
       "      <td>$M</td>\n",
       "    </tr>\n",
       "    <tr>\n",
       "      <th>...</th>\n",
       "      <td>...</td>\n",
       "      <td>...</td>\n",
       "    </tr>\n",
       "    <tr>\n",
       "      <th>996</th>\n",
       "      <td>860000.00</td>\n",
       "      <td>$</td>\n",
       "    </tr>\n",
       "    <tr>\n",
       "      <th>997</th>\n",
       "      <td>830000.00</td>\n",
       "      <td>$</td>\n",
       "    </tr>\n",
       "    <tr>\n",
       "      <th>998</th>\n",
       "      <td>835000.00</td>\n",
       "      <td>$</td>\n",
       "    </tr>\n",
       "    <tr>\n",
       "      <th>999</th>\n",
       "      <td>825000.00</td>\n",
       "      <td>$</td>\n",
       "    </tr>\n",
       "  </tbody>\n",
       "</table>\n",
       "<p>1000 rows × 2 columns</p>\n",
       "</div>"
      ],
      "text/plain": [
       "     SalePrice SalePriceUnit\n",
       "0    710000.00             $\n",
       "1         2.15            $M\n",
       "2         5.60            $M\n",
       "3         1.50            $M\n",
       "..         ...           ...\n",
       "996  860000.00             $\n",
       "997  830000.00             $\n",
       "998  835000.00             $\n",
       "999  825000.00             $\n",
       "\n",
       "[1000 rows x 2 columns]"
      ]
     },
     "execution_count": 16,
     "metadata": {},
     "output_type": "execute_result"
    }
   ],
   "source": [
    "# \"df[ ['SalePrice', 6] ]\" errors out...  Try it!\n",
    "df[[5, 6]]"
   ]
  },
  {
   "cell_type": "markdown",
   "metadata": {
    "collapsed": true
   },
   "source": [
    "Not passing a list always results in a value based lookup of the column:"
   ]
  },
  {
   "cell_type": "code",
   "execution_count": 17,
   "metadata": {
    "collapsed": false
   },
   "outputs": [
    {
     "data": {
      "text/plain": [
       "0      55 Vandewater St APT 9, San Francisco, CA\n",
       "1            740 Francisco St, San Francisco, CA\n",
       "2            819 Francisco St, San Francisco, CA\n",
       "3       199 Chestnut St APT 5, San Francisco, CA\n",
       "                         ...                    \n",
       "996      355 1st St UNIT 1905, San Francisco, CA\n",
       "997         33 Santa Cruz Ave, San Francisco, CA\n",
       "998            1821 Grant Ave, San Francisco, CA\n",
       "999             1200 Gough St, San Francisco, CA\n",
       "Name: Address, dtype: object"
      ]
     },
     "execution_count": 17,
     "metadata": {},
     "output_type": "execute_result"
    }
   ],
   "source": [
    "df['Address']"
   ]
  },
  {
   "cell_type": "markdown",
   "metadata": {},
   "source": [
    "> Let's double check that result is a `Series`:"
   ]
  },
  {
   "cell_type": "code",
   "execution_count": 18,
   "metadata": {
    "collapsed": false
   },
   "outputs": [
    {
     "data": {
      "text/plain": [
       "pandas.core.series.Series"
      ]
     },
     "execution_count": 18,
     "metadata": {},
     "output_type": "execute_result"
    }
   ],
   "source": [
    "# TODO\n",
    "type(df['Address'])"
   ]
  },
  {
   "cell_type": "markdown",
   "metadata": {},
   "source": [
    "Columns can also be retrieved using \"attribute access\" as `DataFrame`s add a property for each column with the names of the properties as the names of the columns.  However, this won't work for columns that have spaces or dots in their name."
   ]
  },
  {
   "cell_type": "code",
   "execution_count": 19,
   "metadata": {
    "collapsed": false
   },
   "outputs": [
    {
     "data": {
      "text/plain": [
       "pandas.core.frame.DataFrame"
      ]
     },
     "execution_count": 19,
     "metadata": {},
     "output_type": "execute_result"
    }
   ],
   "source": [
    "type(df[['Address']])"
   ]
  },
  {
   "cell_type": "markdown",
   "metadata": {},
   "source": [
    "> Let's check the value of `df`'s `Address` property:"
   ]
  },
  {
   "cell_type": "code",
   "execution_count": 20,
   "metadata": {
    "collapsed": false
   },
   "outputs": [
    {
     "data": {
      "text/plain": [
       "0      55 Vandewater St APT 9, San Francisco, CA\n",
       "1            740 Francisco St, San Francisco, CA\n",
       "2            819 Francisco St, San Francisco, CA\n",
       "3       199 Chestnut St APT 5, San Francisco, CA\n",
       "                         ...                    \n",
       "996      355 1st St UNIT 1905, San Francisco, CA\n",
       "997         33 Santa Cruz Ave, San Francisco, CA\n",
       "998            1821 Grant Ave, San Francisco, CA\n",
       "999             1200 Gough St, San Francisco, CA\n",
       "Name: Address, dtype: object"
      ]
     },
     "execution_count": 20,
     "metadata": {},
     "output_type": "execute_result"
    }
   ],
   "source": [
    "# TODO\n",
    "df.Address"
   ]
  },
  {
   "cell_type": "markdown",
   "metadata": {},
   "source": [
    "> Use the `name` property (not `columns`, that's for a `DataFrame`) to get the name of the variable stored inside it."
   ]
  },
  {
   "cell_type": "code",
   "execution_count": 21,
   "metadata": {
    "collapsed": false
   },
   "outputs": [
    {
     "data": {
      "text/plain": [
       "'Address'"
      ]
     },
     "execution_count": 21,
     "metadata": {},
     "output_type": "execute_result"
    }
   ],
   "source": [
    "# TODO\n",
    "df.Address.name"
   ]
  },
  {
   "cell_type": "markdown",
   "metadata": {},
   "source": [
    "To find the zero-based location of a column, use the `.get_loc()` method of the `columns` property.  E.g.,"
   ]
  },
  {
   "cell_type": "code",
   "execution_count": 22,
   "metadata": {
    "collapsed": false
   },
   "outputs": [
    {
     "data": {
      "text/plain": [
       "8"
      ]
     },
     "execution_count": 22,
     "metadata": {},
     "output_type": "execute_result"
    }
   ],
   "source": [
    "df.columns.get_loc('BedCount')"
   ]
  },
  {
   "cell_type": "code",
   "execution_count": 23,
   "metadata": {
    "collapsed": false
   },
   "outputs": [
    {
     "data": {
      "text/html": [
       "<div>\n",
       "<table border=\"1\" class=\"dataframe\">\n",
       "  <thead>\n",
       "    <tr style=\"text-align: right;\">\n",
       "      <th></th>\n",
       "      <th>BedCount</th>\n",
       "    </tr>\n",
       "  </thead>\n",
       "  <tbody>\n",
       "    <tr>\n",
       "      <th>0</th>\n",
       "      <td>1.0</td>\n",
       "    </tr>\n",
       "    <tr>\n",
       "      <th>1</th>\n",
       "      <td>NaN</td>\n",
       "    </tr>\n",
       "    <tr>\n",
       "      <th>2</th>\n",
       "      <td>2.0</td>\n",
       "    </tr>\n",
       "    <tr>\n",
       "      <th>3</th>\n",
       "      <td>1.0</td>\n",
       "    </tr>\n",
       "    <tr>\n",
       "      <th>...</th>\n",
       "      <td>...</td>\n",
       "    </tr>\n",
       "    <tr>\n",
       "      <th>996</th>\n",
       "      <td>1.0</td>\n",
       "    </tr>\n",
       "    <tr>\n",
       "      <th>997</th>\n",
       "      <td>3.0</td>\n",
       "    </tr>\n",
       "    <tr>\n",
       "      <th>998</th>\n",
       "      <td>2.0</td>\n",
       "    </tr>\n",
       "    <tr>\n",
       "      <th>999</th>\n",
       "      <td>1.0</td>\n",
       "    </tr>\n",
       "  </tbody>\n",
       "</table>\n",
       "<p>1000 rows × 1 columns</p>\n",
       "</div>"
      ],
      "text/plain": [
       "     BedCount\n",
       "0         1.0\n",
       "1         NaN\n",
       "2         2.0\n",
       "3         1.0\n",
       "..        ...\n",
       "996       1.0\n",
       "997       3.0\n",
       "998       2.0\n",
       "999       1.0\n",
       "\n",
       "[1000 rows x 1 columns]"
      ]
     },
     "execution_count": 23,
     "metadata": {},
     "output_type": "execute_result"
    }
   ],
   "source": [
    "df[ [df.columns.get_loc('BedCount')] ]"
   ]
  },
  {
   "cell_type": "markdown",
   "metadata": {},
   "source": [
    "> We should get the same output as subsetting a `DataFrame` on `BedCount`:"
   ]
  },
  {
   "cell_type": "code",
   "execution_count": 24,
   "metadata": {
    "collapsed": false
   },
   "outputs": [
    {
     "data": {
      "text/html": [
       "<div>\n",
       "<table border=\"1\" class=\"dataframe\">\n",
       "  <thead>\n",
       "    <tr style=\"text-align: right;\">\n",
       "      <th></th>\n",
       "      <th>BedCount</th>\n",
       "    </tr>\n",
       "  </thead>\n",
       "  <tbody>\n",
       "    <tr>\n",
       "      <th>0</th>\n",
       "      <td>1.0</td>\n",
       "    </tr>\n",
       "    <tr>\n",
       "      <th>1</th>\n",
       "      <td>NaN</td>\n",
       "    </tr>\n",
       "    <tr>\n",
       "      <th>2</th>\n",
       "      <td>2.0</td>\n",
       "    </tr>\n",
       "    <tr>\n",
       "      <th>3</th>\n",
       "      <td>1.0</td>\n",
       "    </tr>\n",
       "    <tr>\n",
       "      <th>...</th>\n",
       "      <td>...</td>\n",
       "    </tr>\n",
       "    <tr>\n",
       "      <th>996</th>\n",
       "      <td>1.0</td>\n",
       "    </tr>\n",
       "    <tr>\n",
       "      <th>997</th>\n",
       "      <td>3.0</td>\n",
       "    </tr>\n",
       "    <tr>\n",
       "      <th>998</th>\n",
       "      <td>2.0</td>\n",
       "    </tr>\n",
       "    <tr>\n",
       "      <th>999</th>\n",
       "      <td>1.0</td>\n",
       "    </tr>\n",
       "  </tbody>\n",
       "</table>\n",
       "<p>1000 rows × 1 columns</p>\n",
       "</div>"
      ],
      "text/plain": [
       "     BedCount\n",
       "0         1.0\n",
       "1         NaN\n",
       "2         2.0\n",
       "3         1.0\n",
       "..        ...\n",
       "996       1.0\n",
       "997       3.0\n",
       "998       2.0\n",
       "999       1.0\n",
       "\n",
       "[1000 rows x 1 columns]"
      ]
     },
     "execution_count": 24,
     "metadata": {},
     "output_type": "execute_result"
    }
   ],
   "source": [
    "# TODO\n",
    "df[[8]]"
   ]
  },
  {
   "cell_type": "markdown",
   "metadata": {
    "collapsed": true
   },
   "source": [
    "> ### Subsetting on rows of a `DataFrame`; and values of a `DataFrame` using the index"
   ]
  },
  {
   "cell_type": "markdown",
   "metadata": {
    "collapsed": true
   },
   "source": [
    "#### Slice using the `[]` operator"
   ]
  },
  {
   "cell_type": "markdown",
   "metadata": {},
   "source": [
    "> E.g., the first five rows:"
   ]
  },
  {
   "cell_type": "code",
   "execution_count": 25,
   "metadata": {
    "collapsed": false
   },
   "outputs": [
    {
     "data": {
      "text/html": [
       "<div>\n",
       "<table border=\"1\" class=\"dataframe\">\n",
       "  <thead>\n",
       "    <tr style=\"text-align: right;\">\n",
       "      <th></th>\n",
       "      <th>ID</th>\n",
       "      <th>Address</th>\n",
       "      <th>Latitude</th>\n",
       "      <th>Longitude</th>\n",
       "      <th>DateOfSale</th>\n",
       "      <th>...</th>\n",
       "      <th>Size</th>\n",
       "      <th>SizeUnit</th>\n",
       "      <th>LotSize</th>\n",
       "      <th>LotSizeUnit</th>\n",
       "      <th>BuiltInYear</th>\n",
       "    </tr>\n",
       "  </thead>\n",
       "  <tbody>\n",
       "    <tr>\n",
       "      <th>0</th>\n",
       "      <td>15063471</td>\n",
       "      <td>55 Vandewater St APT 9, San Francisco, CA</td>\n",
       "      <td>37805103</td>\n",
       "      <td>-122412856</td>\n",
       "      <td>12/4/15</td>\n",
       "      <td>...</td>\n",
       "      <td>550.0</td>\n",
       "      <td>sqft</td>\n",
       "      <td>NaN</td>\n",
       "      <td>NaN</td>\n",
       "      <td>1980.0</td>\n",
       "    </tr>\n",
       "    <tr>\n",
       "      <th>1</th>\n",
       "      <td>15063505</td>\n",
       "      <td>740 Francisco St, San Francisco, CA</td>\n",
       "      <td>37804420</td>\n",
       "      <td>-122417389</td>\n",
       "      <td>11/30/15</td>\n",
       "      <td>...</td>\n",
       "      <td>1430.0</td>\n",
       "      <td>sqft</td>\n",
       "      <td>2435.0</td>\n",
       "      <td>sqft</td>\n",
       "      <td>1948.0</td>\n",
       "    </tr>\n",
       "  </tbody>\n",
       "</table>\n",
       "<p>2 rows × 15 columns</p>\n",
       "</div>"
      ],
      "text/plain": [
       "         ID                                    Address  Latitude  Longitude  \\\n",
       "0  15063471  55 Vandewater St APT 9, San Francisco, CA  37805103 -122412856   \n",
       "1  15063505        740 Francisco St, San Francisco, CA  37804420 -122417389   \n",
       "\n",
       "  DateOfSale     ...         Size SizeUnit LotSize  LotSizeUnit  BuiltInYear  \n",
       "0    12/4/15     ...        550.0     sqft     NaN          NaN       1980.0  \n",
       "1   11/30/15     ...       1430.0     sqft  2435.0         sqft       1948.0  \n",
       "\n",
       "[2 rows x 15 columns]"
      ]
     },
     "execution_count": 25,
     "metadata": {},
     "output_type": "execute_result"
    }
   ],
   "source": [
    "# TODO\n",
    "df[:2]"
   ]
  },
  {
   "cell_type": "markdown",
   "metadata": {
    "collapsed": true
   },
   "source": [
    "> ### Select rows by index label and location: `.loc[]` and `.iloc[]`"
   ]
  },
  {
   "cell_type": "markdown",
   "metadata": {},
   "source": [
    "Until now, the index of the `DataFrame` is a numerical starting from 0 but you can specify which column(s) should be in the index.  E.g., `ID`:"
   ]
  },
  {
   "cell_type": "code",
   "execution_count": 26,
   "metadata": {
    "collapsed": false
   },
   "outputs": [],
   "source": [
    "df = df.set_index('ID')\n",
    "#df"
   ]
  },
  {
   "cell_type": "code",
   "execution_count": 27,
   "metadata": {
    "collapsed": false
   },
   "outputs": [
    {
     "data": {
      "text/plain": [
       "Int64Index([  15063471,   15063505,   15063609,   15064044,   15064257,\n",
       "              15064295,   15064391,   15064536,   15064640,   15064669,\n",
       "            ...\n",
       "            2108546010, 2114498518, 2121221385, 2121978635, 2122992200,\n",
       "            2124214951, 2126960082, 2128308939, 2131957929, 2136213970],\n",
       "           dtype='int64', name=u'ID', length=1000)"
      ]
     },
     "execution_count": 27,
     "metadata": {},
     "output_type": "execute_result"
    }
   ],
   "source": [
    "df.index"
   ]
  },
  {
   "cell_type": "code",
   "execution_count": 28,
   "metadata": {
    "collapsed": false
   },
   "outputs": [
    {
     "data": {
      "text/html": [
       "<div>\n",
       "<table border=\"1\" class=\"dataframe\">\n",
       "  <thead>\n",
       "    <tr style=\"text-align: right;\">\n",
       "      <th></th>\n",
       "      <th>Address</th>\n",
       "      <th>Latitude</th>\n",
       "      <th>Longitude</th>\n",
       "      <th>DateOfSale</th>\n",
       "      <th>SalePrice</th>\n",
       "      <th>...</th>\n",
       "      <th>Size</th>\n",
       "      <th>SizeUnit</th>\n",
       "      <th>LotSize</th>\n",
       "      <th>LotSizeUnit</th>\n",
       "      <th>BuiltInYear</th>\n",
       "    </tr>\n",
       "    <tr>\n",
       "      <th>ID</th>\n",
       "      <th></th>\n",
       "      <th></th>\n",
       "      <th></th>\n",
       "      <th></th>\n",
       "      <th></th>\n",
       "      <th></th>\n",
       "      <th></th>\n",
       "      <th></th>\n",
       "      <th></th>\n",
       "      <th></th>\n",
       "      <th></th>\n",
       "    </tr>\n",
       "  </thead>\n",
       "  <tbody>\n",
       "    <tr>\n",
       "      <th>15063471</th>\n",
       "      <td>55 Vandewater St APT 9, San Francisco, CA</td>\n",
       "      <td>37805103</td>\n",
       "      <td>-122412856</td>\n",
       "      <td>12/4/15</td>\n",
       "      <td>710000.00</td>\n",
       "      <td>...</td>\n",
       "      <td>550.0</td>\n",
       "      <td>sqft</td>\n",
       "      <td>NaN</td>\n",
       "      <td>NaN</td>\n",
       "      <td>1980.0</td>\n",
       "    </tr>\n",
       "    <tr>\n",
       "      <th>15063505</th>\n",
       "      <td>740 Francisco St, San Francisco, CA</td>\n",
       "      <td>37804420</td>\n",
       "      <td>-122417389</td>\n",
       "      <td>11/30/15</td>\n",
       "      <td>2.15</td>\n",
       "      <td>...</td>\n",
       "      <td>1430.0</td>\n",
       "      <td>sqft</td>\n",
       "      <td>2435.0</td>\n",
       "      <td>sqft</td>\n",
       "      <td>1948.0</td>\n",
       "    </tr>\n",
       "    <tr>\n",
       "      <th>15063609</th>\n",
       "      <td>819 Francisco St, San Francisco, CA</td>\n",
       "      <td>37803728</td>\n",
       "      <td>-122419055</td>\n",
       "      <td>11/12/15</td>\n",
       "      <td>5.60</td>\n",
       "      <td>...</td>\n",
       "      <td>2040.0</td>\n",
       "      <td>sqft</td>\n",
       "      <td>3920.0</td>\n",
       "      <td>sqft</td>\n",
       "      <td>1976.0</td>\n",
       "    </tr>\n",
       "    <tr>\n",
       "      <th>15064044</th>\n",
       "      <td>199 Chestnut St APT 5, San Francisco, CA</td>\n",
       "      <td>37804392</td>\n",
       "      <td>-122406590</td>\n",
       "      <td>12/11/15</td>\n",
       "      <td>1.50</td>\n",
       "      <td>...</td>\n",
       "      <td>1060.0</td>\n",
       "      <td>sqft</td>\n",
       "      <td>NaN</td>\n",
       "      <td>NaN</td>\n",
       "      <td>1930.0</td>\n",
       "    </tr>\n",
       "    <tr>\n",
       "      <th>...</th>\n",
       "      <td>...</td>\n",
       "      <td>...</td>\n",
       "      <td>...</td>\n",
       "      <td>...</td>\n",
       "      <td>...</td>\n",
       "      <td>...</td>\n",
       "      <td>...</td>\n",
       "      <td>...</td>\n",
       "      <td>...</td>\n",
       "      <td>...</td>\n",
       "      <td>...</td>\n",
       "    </tr>\n",
       "    <tr>\n",
       "      <th>2126960082</th>\n",
       "      <td>355 1st St UNIT 1905, San Francisco, CA</td>\n",
       "      <td>37787029</td>\n",
       "      <td>-122393638</td>\n",
       "      <td>11/20/15</td>\n",
       "      <td>860000.00</td>\n",
       "      <td>...</td>\n",
       "      <td>691.0</td>\n",
       "      <td>sqft</td>\n",
       "      <td>NaN</td>\n",
       "      <td>NaN</td>\n",
       "      <td>2004.0</td>\n",
       "    </tr>\n",
       "    <tr>\n",
       "      <th>2128308939</th>\n",
       "      <td>33 Santa Cruz Ave, San Francisco, CA</td>\n",
       "      <td>37709136</td>\n",
       "      <td>-122465332</td>\n",
       "      <td>12/10/15</td>\n",
       "      <td>830000.00</td>\n",
       "      <td>...</td>\n",
       "      <td>1738.0</td>\n",
       "      <td>sqft</td>\n",
       "      <td>2299.0</td>\n",
       "      <td>sqft</td>\n",
       "      <td>1976.0</td>\n",
       "    </tr>\n",
       "    <tr>\n",
       "      <th>2131957929</th>\n",
       "      <td>1821 Grant Ave, San Francisco, CA</td>\n",
       "      <td>37803760</td>\n",
       "      <td>-122408531</td>\n",
       "      <td>12/15/15</td>\n",
       "      <td>835000.00</td>\n",
       "      <td>...</td>\n",
       "      <td>1048.0</td>\n",
       "      <td>sqft</td>\n",
       "      <td>NaN</td>\n",
       "      <td>NaN</td>\n",
       "      <td>1975.0</td>\n",
       "    </tr>\n",
       "    <tr>\n",
       "      <th>2136213970</th>\n",
       "      <td>1200 Gough St, San Francisco, CA</td>\n",
       "      <td>37784770</td>\n",
       "      <td>-122424100</td>\n",
       "      <td>1/10/16</td>\n",
       "      <td>825000.00</td>\n",
       "      <td>...</td>\n",
       "      <td>900.0</td>\n",
       "      <td>sqft</td>\n",
       "      <td>NaN</td>\n",
       "      <td>NaN</td>\n",
       "      <td>1966.0</td>\n",
       "    </tr>\n",
       "  </tbody>\n",
       "</table>\n",
       "<p>1000 rows × 14 columns</p>\n",
       "</div>"
      ],
      "text/plain": [
       "                                              Address  Latitude  Longitude  \\\n",
       "ID                                                                           \n",
       "15063471    55 Vandewater St APT 9, San Francisco, CA  37805103 -122412856   \n",
       "15063505          740 Francisco St, San Francisco, CA  37804420 -122417389   \n",
       "15063609          819 Francisco St, San Francisco, CA  37803728 -122419055   \n",
       "15064044     199 Chestnut St APT 5, San Francisco, CA  37804392 -122406590   \n",
       "...                                               ...       ...        ...   \n",
       "2126960082    355 1st St UNIT 1905, San Francisco, CA  37787029 -122393638   \n",
       "2128308939       33 Santa Cruz Ave, San Francisco, CA  37709136 -122465332   \n",
       "2131957929          1821 Grant Ave, San Francisco, CA  37803760 -122408531   \n",
       "2136213970           1200 Gough St, San Francisco, CA  37784770 -122424100   \n",
       "\n",
       "           DateOfSale  SalePrice     ...         Size SizeUnit  LotSize  \\\n",
       "ID                                   ...                                  \n",
       "15063471      12/4/15  710000.00     ...        550.0     sqft      NaN   \n",
       "15063505     11/30/15       2.15     ...       1430.0     sqft   2435.0   \n",
       "15063609     11/12/15       5.60     ...       2040.0     sqft   3920.0   \n",
       "15064044     12/11/15       1.50     ...       1060.0     sqft      NaN   \n",
       "...               ...        ...     ...          ...      ...      ...   \n",
       "2126960082   11/20/15  860000.00     ...        691.0     sqft      NaN   \n",
       "2128308939   12/10/15  830000.00     ...       1738.0     sqft   2299.0   \n",
       "2131957929   12/15/15  835000.00     ...       1048.0     sqft      NaN   \n",
       "2136213970    1/10/16  825000.00     ...        900.0     sqft      NaN   \n",
       "\n",
       "            LotSizeUnit  BuiltInYear  \n",
       "ID                                    \n",
       "15063471            NaN       1980.0  \n",
       "15063505           sqft       1948.0  \n",
       "15063609           sqft       1976.0  \n",
       "15064044            NaN       1930.0  \n",
       "...                 ...          ...  \n",
       "2126960082          NaN       2004.0  \n",
       "2128308939         sqft       1976.0  \n",
       "2131957929          NaN       1975.0  \n",
       "2136213970          NaN       1966.0  \n",
       "\n",
       "[1000 rows x 14 columns]"
      ]
     },
     "execution_count": 28,
     "metadata": {},
     "output_type": "execute_result"
    }
   ],
   "source": [
    "df"
   ]
  },
  {
   "cell_type": "markdown",
   "metadata": {},
   "source": [
    "> E.g., row with index 15063505:"
   ]
  },
  {
   "cell_type": "code",
   "execution_count": 29,
   "metadata": {
    "collapsed": false
   },
   "outputs": [
    {
     "data": {
      "text/plain": [
       "Address        740 Francisco St, San Francisco, CA\n",
       "Latitude                                  37804420\n",
       "Longitude                               -122417389\n",
       "DateOfSale                                11/30/15\n",
       "                              ...                 \n",
       "SizeUnit                                      sqft\n",
       "LotSize                                       2435\n",
       "LotSizeUnit                                   sqft\n",
       "BuiltInYear                                   1948\n",
       "Name: 15063505, dtype: object"
      ]
     },
     "execution_count": 29,
     "metadata": {},
     "output_type": "execute_result"
    }
   ],
   "source": [
    "# TODO\n",
    "df.loc[15063505]"
   ]
  },
  {
   "cell_type": "markdown",
   "metadata": {},
   "source": [
    "Its name is its value in the index."
   ]
  },
  {
   "cell_type": "markdown",
   "metadata": {},
   "source": [
    "> E.g., rows with indices 15063505 and 15064044:"
   ]
  },
  {
   "cell_type": "code",
   "execution_count": 30,
   "metadata": {
    "collapsed": false
   },
   "outputs": [
    {
     "data": {
      "text/html": [
       "<div>\n",
       "<table border=\"1\" class=\"dataframe\">\n",
       "  <thead>\n",
       "    <tr style=\"text-align: right;\">\n",
       "      <th></th>\n",
       "      <th>Address</th>\n",
       "      <th>Latitude</th>\n",
       "      <th>Longitude</th>\n",
       "      <th>DateOfSale</th>\n",
       "      <th>SalePrice</th>\n",
       "      <th>...</th>\n",
       "      <th>Size</th>\n",
       "      <th>SizeUnit</th>\n",
       "      <th>LotSize</th>\n",
       "      <th>LotSizeUnit</th>\n",
       "      <th>BuiltInYear</th>\n",
       "    </tr>\n",
       "    <tr>\n",
       "      <th>ID</th>\n",
       "      <th></th>\n",
       "      <th></th>\n",
       "      <th></th>\n",
       "      <th></th>\n",
       "      <th></th>\n",
       "      <th></th>\n",
       "      <th></th>\n",
       "      <th></th>\n",
       "      <th></th>\n",
       "      <th></th>\n",
       "      <th></th>\n",
       "    </tr>\n",
       "  </thead>\n",
       "  <tbody>\n",
       "    <tr>\n",
       "      <th>15063505</th>\n",
       "      <td>740 Francisco St, San Francisco, CA</td>\n",
       "      <td>37804420</td>\n",
       "      <td>-122417389</td>\n",
       "      <td>11/30/15</td>\n",
       "      <td>2.15</td>\n",
       "      <td>...</td>\n",
       "      <td>1430.0</td>\n",
       "      <td>sqft</td>\n",
       "      <td>2435.0</td>\n",
       "      <td>sqft</td>\n",
       "      <td>1948.0</td>\n",
       "    </tr>\n",
       "    <tr>\n",
       "      <th>15064044</th>\n",
       "      <td>199 Chestnut St APT 5, San Francisco, CA</td>\n",
       "      <td>37804392</td>\n",
       "      <td>-122406590</td>\n",
       "      <td>12/11/15</td>\n",
       "      <td>1.50</td>\n",
       "      <td>...</td>\n",
       "      <td>1060.0</td>\n",
       "      <td>sqft</td>\n",
       "      <td>NaN</td>\n",
       "      <td>NaN</td>\n",
       "      <td>1930.0</td>\n",
       "    </tr>\n",
       "  </tbody>\n",
       "</table>\n",
       "<p>2 rows × 14 columns</p>\n",
       "</div>"
      ],
      "text/plain": [
       "                                           Address  Latitude  Longitude  \\\n",
       "ID                                                                        \n",
       "15063505       740 Francisco St, San Francisco, CA  37804420 -122417389   \n",
       "15064044  199 Chestnut St APT 5, San Francisco, CA  37804392 -122406590   \n",
       "\n",
       "         DateOfSale  SalePrice     ...         Size SizeUnit  LotSize  \\\n",
       "ID                                 ...                                  \n",
       "15063505   11/30/15       2.15     ...       1430.0     sqft   2435.0   \n",
       "15064044   12/11/15       1.50     ...       1060.0     sqft      NaN   \n",
       "\n",
       "          LotSizeUnit  BuiltInYear  \n",
       "ID                                  \n",
       "15063505         sqft       1948.0  \n",
       "15064044          NaN       1930.0  \n",
       "\n",
       "[2 rows x 14 columns]"
      ]
     },
     "execution_count": 30,
     "metadata": {},
     "output_type": "execute_result"
    }
   ],
   "source": [
    "# TODO\n",
    "df.loc[[15063505, 15064044]]"
   ]
  },
  {
   "cell_type": "markdown",
   "metadata": {
    "collapsed": true
   },
   "source": [
    "> E.g., rows #1 and #3:"
   ]
  },
  {
   "cell_type": "code",
   "execution_count": 31,
   "metadata": {
    "collapsed": false
   },
   "outputs": [
    {
     "data": {
      "text/html": [
       "<div>\n",
       "<table border=\"1\" class=\"dataframe\">\n",
       "  <thead>\n",
       "    <tr style=\"text-align: right;\">\n",
       "      <th></th>\n",
       "      <th>Address</th>\n",
       "      <th>Latitude</th>\n",
       "      <th>Longitude</th>\n",
       "      <th>DateOfSale</th>\n",
       "      <th>SalePrice</th>\n",
       "      <th>...</th>\n",
       "      <th>Size</th>\n",
       "      <th>SizeUnit</th>\n",
       "      <th>LotSize</th>\n",
       "      <th>LotSizeUnit</th>\n",
       "      <th>BuiltInYear</th>\n",
       "    </tr>\n",
       "    <tr>\n",
       "      <th>ID</th>\n",
       "      <th></th>\n",
       "      <th></th>\n",
       "      <th></th>\n",
       "      <th></th>\n",
       "      <th></th>\n",
       "      <th></th>\n",
       "      <th></th>\n",
       "      <th></th>\n",
       "      <th></th>\n",
       "      <th></th>\n",
       "      <th></th>\n",
       "    </tr>\n",
       "  </thead>\n",
       "  <tbody>\n",
       "    <tr>\n",
       "      <th>15063505</th>\n",
       "      <td>740 Francisco St, San Francisco, CA</td>\n",
       "      <td>37804420</td>\n",
       "      <td>-122417389</td>\n",
       "      <td>11/30/15</td>\n",
       "      <td>2.15</td>\n",
       "      <td>...</td>\n",
       "      <td>1430.0</td>\n",
       "      <td>sqft</td>\n",
       "      <td>2435.0</td>\n",
       "      <td>sqft</td>\n",
       "      <td>1948.0</td>\n",
       "    </tr>\n",
       "  </tbody>\n",
       "</table>\n",
       "<p>1 rows × 14 columns</p>\n",
       "</div>"
      ],
      "text/plain": [
       "                                      Address  Latitude  Longitude DateOfSale  \\\n",
       "ID                                                                              \n",
       "15063505  740 Francisco St, San Francisco, CA  37804420 -122417389   11/30/15   \n",
       "\n",
       "          SalePrice     ...         Size SizeUnit  LotSize  LotSizeUnit  \\\n",
       "ID                      ...                                               \n",
       "15063505       2.15     ...       1430.0     sqft   2435.0         sqft   \n",
       "\n",
       "          BuiltInYear  \n",
       "ID                     \n",
       "15063505       1948.0  \n",
       "\n",
       "[1 rows x 14 columns]"
      ]
     },
     "execution_count": 31,
     "metadata": {},
     "output_type": "execute_result"
    }
   ],
   "source": [
    "# TODO\n",
    "df.iloc[[1]]"
   ]
  },
  {
   "cell_type": "markdown",
   "metadata": {
    "collapsed": true
   },
   "source": [
    "> ### Scalar lookup by label or location using `.at[]` and `.iat[]`"
   ]
  },
  {
   "cell_type": "markdown",
   "metadata": {
    "collapsed": true
   },
   "source": [
    "Scalar values can be looked up by label using .at, by passing both the row label and then the column name/value."
   ]
  },
  {
   "cell_type": "markdown",
   "metadata": {},
   "source": [
    "> E.g., row with index 15064044 and column `DateOfSale`."
   ]
  },
  {
   "cell_type": "code",
   "execution_count": 32,
   "metadata": {
    "collapsed": false
   },
   "outputs": [
    {
     "data": {
      "text/plain": [
       "nan"
      ]
     },
     "execution_count": 32,
     "metadata": {},
     "output_type": "execute_result"
    }
   ],
   "source": [
    "# TODO\n",
    "#df.at[15064044, 'DateOfSale']\n",
    "#df.at[15064044, 'Address']\n",
    "df.at[15064044, \"LotSize\"]"
   ]
  },
  {
   "cell_type": "markdown",
   "metadata": {
    "collapsed": true
   },
   "source": [
    "Scalar values can also be looked up by location using .iat by passing both the row location and then the column location."
   ]
  },
  {
   "cell_type": "markdown",
   "metadata": {},
   "source": [
    "> E.g., row #3 and column #3:"
   ]
  },
  {
   "cell_type": "code",
   "execution_count": 33,
   "metadata": {
    "collapsed": false
   },
   "outputs": [
    {
     "data": {
      "text/plain": [
       "2435.0"
      ]
     },
     "execution_count": 33,
     "metadata": {},
     "output_type": "execute_result"
    }
   ],
   "source": [
    "# TODO\n",
    "df.iat[1,11]"
   ]
  },
  {
   "cell_type": "markdown",
   "metadata": {},
   "source": [
    "> ### Select rows of a `DataFrame` by Boolean selection"
   ]
  },
  {
   "cell_type": "markdown",
   "metadata": {},
   "source": [
    "Rows can also be selected by using Boolean selection, using an array calculated from the result of applying a logical condition on the values in any of the columns.  This allows us to build more complicated selections than those based simply upon index labels or positions."
   ]
  },
  {
   "cell_type": "markdown",
   "metadata": {},
   "source": [
    "> E.g., what homes have been built before 1900?"
   ]
  },
  {
   "cell_type": "code",
   "execution_count": 34,
   "metadata": {
    "collapsed": false
   },
   "outputs": [
    {
     "data": {
      "text/html": [
       "<div>\n",
       "<table border=\"1\" class=\"dataframe\">\n",
       "  <thead>\n",
       "    <tr style=\"text-align: right;\">\n",
       "      <th></th>\n",
       "      <th>Address</th>\n",
       "      <th>Latitude</th>\n",
       "      <th>Longitude</th>\n",
       "      <th>DateOfSale</th>\n",
       "      <th>SalePrice</th>\n",
       "      <th>...</th>\n",
       "      <th>Size</th>\n",
       "      <th>SizeUnit</th>\n",
       "      <th>LotSize</th>\n",
       "      <th>LotSizeUnit</th>\n",
       "      <th>BuiltInYear</th>\n",
       "    </tr>\n",
       "    <tr>\n",
       "      <th>ID</th>\n",
       "      <th></th>\n",
       "      <th></th>\n",
       "      <th></th>\n",
       "      <th></th>\n",
       "      <th></th>\n",
       "      <th></th>\n",
       "      <th></th>\n",
       "      <th></th>\n",
       "      <th></th>\n",
       "      <th></th>\n",
       "      <th></th>\n",
       "    </tr>\n",
       "  </thead>\n",
       "  <tbody>\n",
       "    <tr>\n",
       "      <th>115828655</th>\n",
       "      <td>480 Mission Bay Blvd N UNIT 614, San Francisco...</td>\n",
       "      <td>37771155</td>\n",
       "      <td>-122389034</td>\n",
       "      <td>12/15/15</td>\n",
       "      <td>1.00</td>\n",
       "      <td>...</td>\n",
       "      <td>928.0</td>\n",
       "      <td>sqft</td>\n",
       "      <td>NaN</td>\n",
       "      <td>NaN</td>\n",
       "      <td>2012.0</td>\n",
       "    </tr>\n",
       "    <tr>\n",
       "      <th>117672217</th>\n",
       "      <td>1840 Washington St APT 603, San Francisco, CA</td>\n",
       "      <td>37793212</td>\n",
       "      <td>-122423744</td>\n",
       "      <td>12/2/15</td>\n",
       "      <td>1.05</td>\n",
       "      <td>...</td>\n",
       "      <td>837.0</td>\n",
       "      <td>sqft</td>\n",
       "      <td>NaN</td>\n",
       "      <td>NaN</td>\n",
       "      <td>2012.0</td>\n",
       "    </tr>\n",
       "    <tr>\n",
       "      <th>119685072</th>\n",
       "      <td>574 Natoma St APT 302, San Francisco, CA</td>\n",
       "      <td>37779014</td>\n",
       "      <td>-122409446</td>\n",
       "      <td>11/12/15</td>\n",
       "      <td>478000.00</td>\n",
       "      <td>...</td>\n",
       "      <td>370.0</td>\n",
       "      <td>sqft</td>\n",
       "      <td>NaN</td>\n",
       "      <td>NaN</td>\n",
       "      <td>2012.0</td>\n",
       "    </tr>\n",
       "    <tr>\n",
       "      <th>123174799</th>\n",
       "      <td>1080 Sutter St APT 1003, San Francisco, CA</td>\n",
       "      <td>37788066</td>\n",
       "      <td>-122418065</td>\n",
       "      <td>11/25/15</td>\n",
       "      <td>770000.00</td>\n",
       "      <td>...</td>\n",
       "      <td>753.0</td>\n",
       "      <td>sqft</td>\n",
       "      <td>NaN</td>\n",
       "      <td>NaN</td>\n",
       "      <td>2013.0</td>\n",
       "    </tr>\n",
       "    <tr>\n",
       "      <th>...</th>\n",
       "      <td>...</td>\n",
       "      <td>...</td>\n",
       "      <td>...</td>\n",
       "      <td>...</td>\n",
       "      <td>...</td>\n",
       "      <td>...</td>\n",
       "      <td>...</td>\n",
       "      <td>...</td>\n",
       "      <td>...</td>\n",
       "      <td>...</td>\n",
       "      <td>...</td>\n",
       "    </tr>\n",
       "    <tr>\n",
       "      <th>125088462</th>\n",
       "      <td>748 Innes Ave # 303, San Francisco, CA</td>\n",
       "      <td>37730567</td>\n",
       "      <td>-122372703</td>\n",
       "      <td>12/17/15</td>\n",
       "      <td>490000.00</td>\n",
       "      <td>...</td>\n",
       "      <td>775.0</td>\n",
       "      <td>sqft</td>\n",
       "      <td>NaN</td>\n",
       "      <td>NaN</td>\n",
       "      <td>2011.0</td>\n",
       "    </tr>\n",
       "    <tr>\n",
       "      <th>2100902229</th>\n",
       "      <td>2299 Market St APT 502, San Francisco, CA</td>\n",
       "      <td>37764100</td>\n",
       "      <td>-122433000</td>\n",
       "      <td>12/3/15</td>\n",
       "      <td>915000.00</td>\n",
       "      <td>...</td>\n",
       "      <td>700.0</td>\n",
       "      <td>sqft</td>\n",
       "      <td>NaN</td>\n",
       "      <td>NaN</td>\n",
       "      <td>2013.0</td>\n",
       "    </tr>\n",
       "    <tr>\n",
       "      <th>2101505254</th>\n",
       "      <td>333 Beale St, San Francisco, CA</td>\n",
       "      <td>37788280</td>\n",
       "      <td>-122392100</td>\n",
       "      <td>12/3/15</td>\n",
       "      <td>1.40</td>\n",
       "      <td>...</td>\n",
       "      <td>950.0</td>\n",
       "      <td>sqft</td>\n",
       "      <td>NaN</td>\n",
       "      <td>NaN</td>\n",
       "      <td>2015.0</td>\n",
       "    </tr>\n",
       "    <tr>\n",
       "      <th>2124214951</th>\n",
       "      <td>412 Green St APT A, San Francisco, CA</td>\n",
       "      <td>37800040</td>\n",
       "      <td>-122406100</td>\n",
       "      <td>1/15/16</td>\n",
       "      <td>390000.00</td>\n",
       "      <td>...</td>\n",
       "      <td>264.0</td>\n",
       "      <td>sqft</td>\n",
       "      <td>NaN</td>\n",
       "      <td>NaN</td>\n",
       "      <td>2012.0</td>\n",
       "    </tr>\n",
       "  </tbody>\n",
       "</table>\n",
       "<p>11 rows × 14 columns</p>\n",
       "</div>"
      ],
      "text/plain": [
       "                                                      Address  Latitude  \\\n",
       "ID                                                                        \n",
       "115828655   480 Mission Bay Blvd N UNIT 614, San Francisco...  37771155   \n",
       "117672217       1840 Washington St APT 603, San Francisco, CA  37793212   \n",
       "119685072            574 Natoma St APT 302, San Francisco, CA  37779014   \n",
       "123174799          1080 Sutter St APT 1003, San Francisco, CA  37788066   \n",
       "...                                                       ...       ...   \n",
       "125088462              748 Innes Ave # 303, San Francisco, CA  37730567   \n",
       "2100902229          2299 Market St APT 502, San Francisco, CA  37764100   \n",
       "2101505254                    333 Beale St, San Francisco, CA  37788280   \n",
       "2124214951              412 Green St APT A, San Francisco, CA  37800040   \n",
       "\n",
       "            Longitude DateOfSale  SalePrice     ...        Size SizeUnit  \\\n",
       "ID                                              ...                        \n",
       "115828655  -122389034   12/15/15       1.00     ...       928.0     sqft   \n",
       "117672217  -122423744    12/2/15       1.05     ...       837.0     sqft   \n",
       "119685072  -122409446   11/12/15  478000.00     ...       370.0     sqft   \n",
       "123174799  -122418065   11/25/15  770000.00     ...       753.0     sqft   \n",
       "...               ...        ...        ...     ...         ...      ...   \n",
       "125088462  -122372703   12/17/15  490000.00     ...       775.0     sqft   \n",
       "2100902229 -122433000    12/3/15  915000.00     ...       700.0     sqft   \n",
       "2101505254 -122392100    12/3/15       1.40     ...       950.0     sqft   \n",
       "2124214951 -122406100    1/15/16  390000.00     ...       264.0     sqft   \n",
       "\n",
       "            LotSize  LotSizeUnit  BuiltInYear  \n",
       "ID                                             \n",
       "115828655       NaN          NaN       2012.0  \n",
       "117672217       NaN          NaN       2012.0  \n",
       "119685072       NaN          NaN       2012.0  \n",
       "123174799       NaN          NaN       2013.0  \n",
       "...             ...          ...          ...  \n",
       "125088462       NaN          NaN       2011.0  \n",
       "2100902229      NaN          NaN       2013.0  \n",
       "2101505254      NaN          NaN       2015.0  \n",
       "2124214951      NaN          NaN       2012.0  \n",
       "\n",
       "[11 rows x 14 columns]"
      ]
     },
     "execution_count": 34,
     "metadata": {},
     "output_type": "execute_result"
    }
   ],
   "source": [
    "# TODO\n",
    "#df[df.BuiltInYear < 1900]\n",
    "df[(df.BuiltInYear > 2010) & (df.Size < 1000)]"
   ]
  },
  {
   "cell_type": "markdown",
   "metadata": {},
   "source": [
    "This results in a `Series` that can be used to subset on the rows which values are `True`."
   ]
  },
  {
   "cell_type": "markdown",
   "metadata": {},
   "source": [
    "> Let's subset on that `Series`:"
   ]
  },
  {
   "cell_type": "code",
   "execution_count": 35,
   "metadata": {
    "collapsed": false
   },
   "outputs": [
    {
     "data": {
      "text/html": [
       "<div>\n",
       "<table border=\"1\" class=\"dataframe\">\n",
       "  <thead>\n",
       "    <tr style=\"text-align: right;\">\n",
       "      <th></th>\n",
       "      <th>Size</th>\n",
       "    </tr>\n",
       "    <tr>\n",
       "      <th>ID</th>\n",
       "      <th></th>\n",
       "    </tr>\n",
       "  </thead>\n",
       "  <tbody>\n",
       "    <tr>\n",
       "      <th>15065140</th>\n",
       "      <td>1000.0</td>\n",
       "    </tr>\n",
       "    <tr>\n",
       "      <th>15076156</th>\n",
       "      <td>7375.0</td>\n",
       "    </tr>\n",
       "    <tr>\n",
       "      <th>15078536</th>\n",
       "      <td>1593.0</td>\n",
       "    </tr>\n",
       "    <tr>\n",
       "      <th>15078866</th>\n",
       "      <td>2430.0</td>\n",
       "    </tr>\n",
       "    <tr>\n",
       "      <th>...</th>\n",
       "      <td>...</td>\n",
       "    </tr>\n",
       "    <tr>\n",
       "      <th>119684777</th>\n",
       "      <td>3006.0</td>\n",
       "    </tr>\n",
       "    <tr>\n",
       "      <th>123597223</th>\n",
       "      <td>1275.0</td>\n",
       "    </tr>\n",
       "    <tr>\n",
       "      <th>123597388</th>\n",
       "      <td>1212.0</td>\n",
       "    </tr>\n",
       "    <tr>\n",
       "      <th>2122992200</th>\n",
       "      <td>3655.0</td>\n",
       "    </tr>\n",
       "  </tbody>\n",
       "</table>\n",
       "<p>15 rows × 1 columns</p>\n",
       "</div>"
      ],
      "text/plain": [
       "              Size\n",
       "ID                \n",
       "15065140    1000.0\n",
       "15076156    7375.0\n",
       "15078536    1593.0\n",
       "15078866    2430.0\n",
       "...            ...\n",
       "119684777   3006.0\n",
       "123597223   1275.0\n",
       "123597388   1212.0\n",
       "2122992200  3655.0\n",
       "\n",
       "[15 rows x 1 columns]"
      ]
     },
     "execution_count": 35,
     "metadata": {},
     "output_type": "execute_result"
    }
   ],
   "source": [
    "# TODO\n",
    "df[df.BuiltInYear < 1900 ][['Size']]"
   ]
  },
  {
   "cell_type": "markdown",
   "metadata": {},
   "source": [
    "Multiple conditions can be put together."
   ]
  },
  {
   "cell_type": "markdown",
   "metadata": {},
   "source": [
    "> E.g., subset for `BuiltInYear` below 1900 and `Size` over 1500:"
   ]
  },
  {
   "cell_type": "code",
   "execution_count": 36,
   "metadata": {
    "collapsed": false
   },
   "outputs": [
    {
     "data": {
      "text/html": [
       "<div>\n",
       "<table border=\"1\" class=\"dataframe\">\n",
       "  <thead>\n",
       "    <tr style=\"text-align: right;\">\n",
       "      <th></th>\n",
       "      <th>Address</th>\n",
       "      <th>Latitude</th>\n",
       "      <th>Longitude</th>\n",
       "      <th>DateOfSale</th>\n",
       "      <th>SalePrice</th>\n",
       "      <th>...</th>\n",
       "      <th>Size</th>\n",
       "      <th>SizeUnit</th>\n",
       "      <th>LotSize</th>\n",
       "      <th>LotSizeUnit</th>\n",
       "      <th>BuiltInYear</th>\n",
       "    </tr>\n",
       "    <tr>\n",
       "      <th>ID</th>\n",
       "      <th></th>\n",
       "      <th></th>\n",
       "      <th></th>\n",
       "      <th></th>\n",
       "      <th></th>\n",
       "      <th></th>\n",
       "      <th></th>\n",
       "      <th></th>\n",
       "      <th></th>\n",
       "      <th></th>\n",
       "      <th></th>\n",
       "    </tr>\n",
       "  </thead>\n",
       "  <tbody>\n",
       "    <tr>\n",
       "      <th>15065140</th>\n",
       "      <td>1407 Montgomery St APT 2, San Francisco, CA</td>\n",
       "      <td>37802299</td>\n",
       "      <td>-122404941</td>\n",
       "      <td>1/28/16</td>\n",
       "      <td>976000.00</td>\n",
       "      <td>...</td>\n",
       "      <td>1000.0</td>\n",
       "      <td>sqft</td>\n",
       "      <td>NaN</td>\n",
       "      <td>NaN</td>\n",
       "      <td>1870.0</td>\n",
       "    </tr>\n",
       "    <tr>\n",
       "      <th>15082108</th>\n",
       "      <td>3016 Sacramento St, San Francisco, CA</td>\n",
       "      <td>37788970</td>\n",
       "      <td>-122442995</td>\n",
       "      <td>12/22/15</td>\n",
       "      <td>1.85</td>\n",
       "      <td>...</td>\n",
       "      <td>1408.0</td>\n",
       "      <td>sqft</td>\n",
       "      <td>NaN</td>\n",
       "      <td>NaN</td>\n",
       "      <td>1890.0</td>\n",
       "    </tr>\n",
       "    <tr>\n",
       "      <th>63197592</th>\n",
       "      <td>3021 20th St, San Francisco, CA</td>\n",
       "      <td>37758878</td>\n",
       "      <td>-122411147</td>\n",
       "      <td>12/7/15</td>\n",
       "      <td>1.10</td>\n",
       "      <td>...</td>\n",
       "      <td>1267.0</td>\n",
       "      <td>sqft</td>\n",
       "      <td>NaN</td>\n",
       "      <td>NaN</td>\n",
       "      <td>1890.0</td>\n",
       "    </tr>\n",
       "    <tr>\n",
       "      <th>114318108</th>\n",
       "      <td>1442 Grove St # A, San Francisco, CA</td>\n",
       "      <td>37775894</td>\n",
       "      <td>-122440467</td>\n",
       "      <td>12/24/15</td>\n",
       "      <td>675000.00</td>\n",
       "      <td>...</td>\n",
       "      <td>593.0</td>\n",
       "      <td>sqft</td>\n",
       "      <td>NaN</td>\n",
       "      <td>NaN</td>\n",
       "      <td>1890.0</td>\n",
       "    </tr>\n",
       "    <tr>\n",
       "      <th>123597223</th>\n",
       "      <td>1954 Golden Gate Ave, San Francisco, CA</td>\n",
       "      <td>37778246</td>\n",
       "      <td>-122442763</td>\n",
       "      <td>11/24/15</td>\n",
       "      <td>1.10</td>\n",
       "      <td>...</td>\n",
       "      <td>1275.0</td>\n",
       "      <td>sqft</td>\n",
       "      <td>NaN</td>\n",
       "      <td>NaN</td>\n",
       "      <td>1895.0</td>\n",
       "    </tr>\n",
       "    <tr>\n",
       "      <th>123597388</th>\n",
       "      <td>667 Shotwell St # A, San Francisco, CA</td>\n",
       "      <td>37757851</td>\n",
       "      <td>-122415629</td>\n",
       "      <td>2/10/16</td>\n",
       "      <td>775000.00</td>\n",
       "      <td>...</td>\n",
       "      <td>1212.0</td>\n",
       "      <td>sqft</td>\n",
       "      <td>NaN</td>\n",
       "      <td>NaN</td>\n",
       "      <td>1890.0</td>\n",
       "    </tr>\n",
       "  </tbody>\n",
       "</table>\n",
       "<p>6 rows × 14 columns</p>\n",
       "</div>"
      ],
      "text/plain": [
       "                                               Address  Latitude  Longitude  \\\n",
       "ID                                                                            \n",
       "15065140   1407 Montgomery St APT 2, San Francisco, CA  37802299 -122404941   \n",
       "15082108         3016 Sacramento St, San Francisco, CA  37788970 -122442995   \n",
       "63197592               3021 20th St, San Francisco, CA  37758878 -122411147   \n",
       "114318108         1442 Grove St # A, San Francisco, CA  37775894 -122440467   \n",
       "123597223      1954 Golden Gate Ave, San Francisco, CA  37778246 -122442763   \n",
       "123597388       667 Shotwell St # A, San Francisco, CA  37757851 -122415629   \n",
       "\n",
       "          DateOfSale  SalePrice     ...         Size SizeUnit  LotSize  \\\n",
       "ID                                  ...                                  \n",
       "15065140     1/28/16  976000.00     ...       1000.0     sqft      NaN   \n",
       "15082108    12/22/15       1.85     ...       1408.0     sqft      NaN   \n",
       "63197592     12/7/15       1.10     ...       1267.0     sqft      NaN   \n",
       "114318108   12/24/15  675000.00     ...        593.0     sqft      NaN   \n",
       "123597223   11/24/15       1.10     ...       1275.0     sqft      NaN   \n",
       "123597388    2/10/16  775000.00     ...       1212.0     sqft      NaN   \n",
       "\n",
       "           LotSizeUnit  BuiltInYear  \n",
       "ID                                   \n",
       "15065140           NaN       1870.0  \n",
       "15082108           NaN       1890.0  \n",
       "63197592           NaN       1890.0  \n",
       "114318108          NaN       1890.0  \n",
       "123597223          NaN       1895.0  \n",
       "123597388          NaN       1890.0  \n",
       "\n",
       "[6 rows x 14 columns]"
      ]
     },
     "execution_count": 36,
     "metadata": {},
     "output_type": "execute_result"
    }
   ],
   "source": [
    "# TODO\n",
    "#df[df.BuiltInYear < 1900]\n",
    "df[(df.BuiltInYear < 1900) & (df.Size < 1500)]\n"
   ]
  },
  {
   "cell_type": "markdown",
   "metadata": {},
   "source": [
    "It is possible to subset on columns simultaneously."
   ]
  },
  {
   "cell_type": "markdown",
   "metadata": {},
   "source": [
    "> E.g., subset (a `DataFrame`) on `Address` for `BuiltInYear` below 1900 and `Size` over 1500:"
   ]
  },
  {
   "cell_type": "code",
   "execution_count": 37,
   "metadata": {
    "collapsed": false
   },
   "outputs": [
    {
     "data": {
      "text/html": [
       "<div>\n",
       "<table border=\"1\" class=\"dataframe\">\n",
       "  <thead>\n",
       "    <tr style=\"text-align: right;\">\n",
       "      <th></th>\n",
       "      <th>Address</th>\n",
       "    </tr>\n",
       "    <tr>\n",
       "      <th>ID</th>\n",
       "      <th></th>\n",
       "    </tr>\n",
       "  </thead>\n",
       "  <tbody>\n",
       "    <tr>\n",
       "      <th>15065140</th>\n",
       "      <td>1407 Montgomery St APT 2, San Francisco, CA</td>\n",
       "    </tr>\n",
       "    <tr>\n",
       "      <th>15082108</th>\n",
       "      <td>3016 Sacramento St, San Francisco, CA</td>\n",
       "    </tr>\n",
       "    <tr>\n",
       "      <th>63197592</th>\n",
       "      <td>3021 20th St, San Francisco, CA</td>\n",
       "    </tr>\n",
       "    <tr>\n",
       "      <th>114318108</th>\n",
       "      <td>1442 Grove St # A, San Francisco, CA</td>\n",
       "    </tr>\n",
       "    <tr>\n",
       "      <th>123597223</th>\n",
       "      <td>1954 Golden Gate Ave, San Francisco, CA</td>\n",
       "    </tr>\n",
       "    <tr>\n",
       "      <th>123597388</th>\n",
       "      <td>667 Shotwell St # A, San Francisco, CA</td>\n",
       "    </tr>\n",
       "  </tbody>\n",
       "</table>\n",
       "</div>"
      ],
      "text/plain": [
       "                                               Address\n",
       "ID                                                    \n",
       "15065140   1407 Montgomery St APT 2, San Francisco, CA\n",
       "15082108         3016 Sacramento St, San Francisco, CA\n",
       "63197592               3021 20th St, San Francisco, CA\n",
       "114318108         1442 Grove St # A, San Francisco, CA\n",
       "123597223      1954 Golden Gate Ave, San Francisco, CA\n",
       "123597388       667 Shotwell St # A, San Francisco, CA"
      ]
     },
     "execution_count": 37,
     "metadata": {},
     "output_type": "execute_result"
    }
   ],
   "source": [
    "# TODO\n",
    "df[(df.BuiltInYear < 1900) & (df.Size < 1500)][['Address']]"
   ]
  },
  {
   "cell_type": "markdown",
   "metadata": {},
   "source": [
    "> To get a `Series` instead of a `DataFrame`:"
   ]
  },
  {
   "cell_type": "code",
   "execution_count": 38,
   "metadata": {
    "collapsed": false
   },
   "outputs": [
    {
     "data": {
      "text/plain": [
       "ID\n",
       "15076156               1533 Sutter St, San Francisco, CA\n",
       "15078536               640 Steiner St, San Francisco, CA\n",
       "15078866               753-755 Oak St, San Francisco, CA\n",
       "15084954         1954 Golden Gate Ave, San Francisco, CA\n",
       "                                 ...                    \n",
       "15181209      1001 Diamond St # 1001A, San Francisco, CA\n",
       "82785514           1394 Mcallister St, San Francisco, CA\n",
       "119684777                967 Hayes St, San Francisco, CA\n",
       "2122992200             129 Octavia St, San Francisco, CA\n",
       "Name: Address, dtype: object"
      ]
     },
     "execution_count": 38,
     "metadata": {},
     "output_type": "execute_result"
    }
   ],
   "source": [
    "# TODO\n",
    "df[(df.BuiltInYear < 1900) & (df.Size > 1500)].Address"
   ]
  },
  {
   "cell_type": "markdown",
   "metadata": {},
   "source": [
    "## Part B - Wrangling the SF Housing dataset (take 2) with `pandas`"
   ]
  },
  {
   "cell_type": "code",
   "execution_count": 40,
   "metadata": {
    "collapsed": false
   },
   "outputs": [],
   "source": [
    "df = pd.read_csv(os.path.join('..', 'datasets', 'zillow-02-starter.csv'), index_col = 'ID')"
   ]
  },
  {
   "cell_type": "markdown",
   "metadata": {},
   "source": [
    "(`pd.read_csv` can load the dataset and set the index column for the `DataFrame` at the same time)"
   ]
  },
  {
   "cell_type": "markdown",
   "metadata": {},
   "source": [
    "> ### Remove the `Latitude` and `Longitude` columns"
   ]
  },
  {
   "cell_type": "code",
   "execution_count": 44,
   "metadata": {
    "collapsed": false
   },
   "outputs": [],
   "source": [
    "df.drop(['Latitude', 'Longitude'], axis = 1, inplace = True)\n",
    "#df.drop(['DateOfSale'], axis = 1, inplace = True)"
   ]
  },
  {
   "cell_type": "code",
   "execution_count": 45,
   "metadata": {
    "collapsed": false
   },
   "outputs": [
    {
     "data": {
      "text/html": [
       "<div>\n",
       "<table border=\"1\" class=\"dataframe\">\n",
       "  <thead>\n",
       "    <tr style=\"text-align: right;\">\n",
       "      <th></th>\n",
       "      <th>Address</th>\n",
       "      <th>SalePrice</th>\n",
       "      <th>SalePriceUnit</th>\n",
       "      <th>IsAStudio</th>\n",
       "      <th>BedCount</th>\n",
       "      <th>...</th>\n",
       "      <th>Size</th>\n",
       "      <th>SizeUnit</th>\n",
       "      <th>LotSize</th>\n",
       "      <th>LotSizeUnit</th>\n",
       "      <th>BuiltInYear</th>\n",
       "    </tr>\n",
       "    <tr>\n",
       "      <th>ID</th>\n",
       "      <th></th>\n",
       "      <th></th>\n",
       "      <th></th>\n",
       "      <th></th>\n",
       "      <th></th>\n",
       "      <th></th>\n",
       "      <th></th>\n",
       "      <th></th>\n",
       "      <th></th>\n",
       "      <th></th>\n",
       "      <th></th>\n",
       "    </tr>\n",
       "  </thead>\n",
       "  <tbody>\n",
       "    <tr>\n",
       "      <th>15063471</th>\n",
       "      <td>55 Vandewater St APT 9, San Francisco, CA</td>\n",
       "      <td>710000.00</td>\n",
       "      <td>$</td>\n",
       "      <td>False</td>\n",
       "      <td>1.0</td>\n",
       "      <td>...</td>\n",
       "      <td>550.0</td>\n",
       "      <td>sqft</td>\n",
       "      <td>NaN</td>\n",
       "      <td>NaN</td>\n",
       "      <td>1980.0</td>\n",
       "    </tr>\n",
       "    <tr>\n",
       "      <th>15063505</th>\n",
       "      <td>740 Francisco St, San Francisco, CA</td>\n",
       "      <td>2.15</td>\n",
       "      <td>$M</td>\n",
       "      <td>False</td>\n",
       "      <td>NaN</td>\n",
       "      <td>...</td>\n",
       "      <td>1430.0</td>\n",
       "      <td>sqft</td>\n",
       "      <td>2435.0</td>\n",
       "      <td>sqft</td>\n",
       "      <td>1948.0</td>\n",
       "    </tr>\n",
       "    <tr>\n",
       "      <th>15063609</th>\n",
       "      <td>819 Francisco St, San Francisco, CA</td>\n",
       "      <td>5.60</td>\n",
       "      <td>$M</td>\n",
       "      <td>False</td>\n",
       "      <td>2.0</td>\n",
       "      <td>...</td>\n",
       "      <td>2040.0</td>\n",
       "      <td>sqft</td>\n",
       "      <td>3920.0</td>\n",
       "      <td>sqft</td>\n",
       "      <td>1976.0</td>\n",
       "    </tr>\n",
       "    <tr>\n",
       "      <th>15064044</th>\n",
       "      <td>199 Chestnut St APT 5, San Francisco, CA</td>\n",
       "      <td>1.50</td>\n",
       "      <td>$M</td>\n",
       "      <td>False</td>\n",
       "      <td>1.0</td>\n",
       "      <td>...</td>\n",
       "      <td>1060.0</td>\n",
       "      <td>sqft</td>\n",
       "      <td>NaN</td>\n",
       "      <td>NaN</td>\n",
       "      <td>1930.0</td>\n",
       "    </tr>\n",
       "    <tr>\n",
       "      <th>...</th>\n",
       "      <td>...</td>\n",
       "      <td>...</td>\n",
       "      <td>...</td>\n",
       "      <td>...</td>\n",
       "      <td>...</td>\n",
       "      <td>...</td>\n",
       "      <td>...</td>\n",
       "      <td>...</td>\n",
       "      <td>...</td>\n",
       "      <td>...</td>\n",
       "      <td>...</td>\n",
       "    </tr>\n",
       "    <tr>\n",
       "      <th>2126960082</th>\n",
       "      <td>355 1st St UNIT 1905, San Francisco, CA</td>\n",
       "      <td>860000.00</td>\n",
       "      <td>$</td>\n",
       "      <td>False</td>\n",
       "      <td>1.0</td>\n",
       "      <td>...</td>\n",
       "      <td>691.0</td>\n",
       "      <td>sqft</td>\n",
       "      <td>NaN</td>\n",
       "      <td>NaN</td>\n",
       "      <td>2004.0</td>\n",
       "    </tr>\n",
       "    <tr>\n",
       "      <th>2128308939</th>\n",
       "      <td>33 Santa Cruz Ave, San Francisco, CA</td>\n",
       "      <td>830000.00</td>\n",
       "      <td>$</td>\n",
       "      <td>False</td>\n",
       "      <td>3.0</td>\n",
       "      <td>...</td>\n",
       "      <td>1738.0</td>\n",
       "      <td>sqft</td>\n",
       "      <td>2299.0</td>\n",
       "      <td>sqft</td>\n",
       "      <td>1976.0</td>\n",
       "    </tr>\n",
       "    <tr>\n",
       "      <th>2131957929</th>\n",
       "      <td>1821 Grant Ave, San Francisco, CA</td>\n",
       "      <td>835000.00</td>\n",
       "      <td>$</td>\n",
       "      <td>False</td>\n",
       "      <td>2.0</td>\n",
       "      <td>...</td>\n",
       "      <td>1048.0</td>\n",
       "      <td>sqft</td>\n",
       "      <td>NaN</td>\n",
       "      <td>NaN</td>\n",
       "      <td>1975.0</td>\n",
       "    </tr>\n",
       "    <tr>\n",
       "      <th>2136213970</th>\n",
       "      <td>1200 Gough St, San Francisco, CA</td>\n",
       "      <td>825000.00</td>\n",
       "      <td>$</td>\n",
       "      <td>False</td>\n",
       "      <td>1.0</td>\n",
       "      <td>...</td>\n",
       "      <td>900.0</td>\n",
       "      <td>sqft</td>\n",
       "      <td>NaN</td>\n",
       "      <td>NaN</td>\n",
       "      <td>1966.0</td>\n",
       "    </tr>\n",
       "  </tbody>\n",
       "</table>\n",
       "<p>1000 rows × 11 columns</p>\n",
       "</div>"
      ],
      "text/plain": [
       "                                              Address  SalePrice  \\\n",
       "ID                                                                 \n",
       "15063471    55 Vandewater St APT 9, San Francisco, CA  710000.00   \n",
       "15063505          740 Francisco St, San Francisco, CA       2.15   \n",
       "15063609          819 Francisco St, San Francisco, CA       5.60   \n",
       "15064044     199 Chestnut St APT 5, San Francisco, CA       1.50   \n",
       "...                                               ...        ...   \n",
       "2126960082    355 1st St UNIT 1905, San Francisco, CA  860000.00   \n",
       "2128308939       33 Santa Cruz Ave, San Francisco, CA  830000.00   \n",
       "2131957929          1821 Grant Ave, San Francisco, CA  835000.00   \n",
       "2136213970           1200 Gough St, San Francisco, CA  825000.00   \n",
       "\n",
       "           SalePriceUnit IsAStudio  BedCount     ...        Size  SizeUnit  \\\n",
       "ID                                               ...                         \n",
       "15063471               $     False       1.0     ...       550.0      sqft   \n",
       "15063505              $M     False       NaN     ...      1430.0      sqft   \n",
       "15063609              $M     False       2.0     ...      2040.0      sqft   \n",
       "15064044              $M     False       1.0     ...      1060.0      sqft   \n",
       "...                  ...       ...       ...     ...         ...       ...   \n",
       "2126960082             $     False       1.0     ...       691.0      sqft   \n",
       "2128308939             $     False       3.0     ...      1738.0      sqft   \n",
       "2131957929             $     False       2.0     ...      1048.0      sqft   \n",
       "2136213970             $     False       1.0     ...       900.0      sqft   \n",
       "\n",
       "           LotSize  LotSizeUnit BuiltInYear  \n",
       "ID                                           \n",
       "15063471       NaN          NaN      1980.0  \n",
       "15063505    2435.0         sqft      1948.0  \n",
       "15063609    3920.0         sqft      1976.0  \n",
       "15064044       NaN          NaN      1930.0  \n",
       "...            ...          ...         ...  \n",
       "2126960082     NaN          NaN      2004.0  \n",
       "2128308939  2299.0         sqft      1976.0  \n",
       "2131957929     NaN          NaN      1975.0  \n",
       "2136213970     NaN          NaN      1966.0  \n",
       "\n",
       "[1000 rows x 11 columns]"
      ]
     },
     "execution_count": 45,
     "metadata": {},
     "output_type": "execute_result"
    }
   ],
   "source": [
    "df"
   ]
  },
  {
   "cell_type": "markdown",
   "metadata": {},
   "source": [
    "> ### `SalePrice`: scale all values to dollars"
   ]
  },
  {
   "cell_type": "code",
   "execution_count": 46,
   "metadata": {
    "collapsed": false
   },
   "outputs": [
    {
     "data": {
      "text/plain": [
       "array(['$', '$M'], dtype=object)"
      ]
     },
     "execution_count": 46,
     "metadata": {},
     "output_type": "execute_result"
    }
   ],
   "source": [
    "#df.SalePriceUnit.unique()\n",
    "df.SalePriceUnit.unique()"
   ]
  },
  {
   "cell_type": "code",
   "execution_count": 47,
   "metadata": {
    "collapsed": false
   },
   "outputs": [],
   "source": [
    "df_1 = df[df.SalePriceUnit == '$']\n",
    "\n",
    "df_1 = df_1.drop('SalePriceUnit', axis = 1)\n",
    "# Really a workaround as DataFrame.drop() with inplace = True issue warnings...\n",
    "\n",
    "df_6 = df[df.SalePriceUnit == '$M']\n",
    "\n",
    "df_6 = df_6.drop('SalePriceUnit', axis = 1)\n",
    "\n",
    "# Replacing the content of a column\n",
    "df_6.SalePrice = df_6.SalePrice * (10 ** 6)\n",
    "\n",
    "# Adding rows to a DataFrame\n",
    "# Concatenation of two DataFrame objects\n",
    "df = pd.concat([df_1, df_6])"
   ]
  },
  {
   "cell_type": "code",
   "execution_count": 48,
   "metadata": {
    "collapsed": false
   },
   "outputs": [
    {
     "data": {
      "text/html": [
       "<div>\n",
       "<table border=\"1\" class=\"dataframe\">\n",
       "  <thead>\n",
       "    <tr style=\"text-align: right;\">\n",
       "      <th></th>\n",
       "      <th>Address</th>\n",
       "      <th>SalePrice</th>\n",
       "      <th>IsAStudio</th>\n",
       "      <th>BedCount</th>\n",
       "      <th>BathCount</th>\n",
       "      <th>Size</th>\n",
       "      <th>SizeUnit</th>\n",
       "      <th>LotSize</th>\n",
       "      <th>LotSizeUnit</th>\n",
       "      <th>BuiltInYear</th>\n",
       "    </tr>\n",
       "    <tr>\n",
       "      <th>ID</th>\n",
       "      <th></th>\n",
       "      <th></th>\n",
       "      <th></th>\n",
       "      <th></th>\n",
       "      <th></th>\n",
       "      <th></th>\n",
       "      <th></th>\n",
       "      <th></th>\n",
       "      <th></th>\n",
       "      <th></th>\n",
       "    </tr>\n",
       "  </thead>\n",
       "  <tbody>\n",
       "    <tr>\n",
       "      <th>15063471</th>\n",
       "      <td>55 Vandewater St APT 9, San Francisco, CA</td>\n",
       "      <td>710000.0</td>\n",
       "      <td>False</td>\n",
       "      <td>1.0</td>\n",
       "      <td>NaN</td>\n",
       "      <td>550.0</td>\n",
       "      <td>sqft</td>\n",
       "      <td>NaN</td>\n",
       "      <td>NaN</td>\n",
       "      <td>1980.0</td>\n",
       "    </tr>\n",
       "    <tr>\n",
       "      <th>15064257</th>\n",
       "      <td>111 Chestnut St APT 403, San Francisco, CA</td>\n",
       "      <td>970000.0</td>\n",
       "      <td>False</td>\n",
       "      <td>2.0</td>\n",
       "      <td>2.0</td>\n",
       "      <td>1299.0</td>\n",
       "      <td>sqft</td>\n",
       "      <td>NaN</td>\n",
       "      <td>NaN</td>\n",
       "      <td>1993.0</td>\n",
       "    </tr>\n",
       "    <tr>\n",
       "      <th>15064295</th>\n",
       "      <td>111 Chestnut St APT 702, San Francisco, CA</td>\n",
       "      <td>940000.0</td>\n",
       "      <td>False</td>\n",
       "      <td>2.0</td>\n",
       "      <td>2.0</td>\n",
       "      <td>1033.0</td>\n",
       "      <td>sqft</td>\n",
       "      <td>NaN</td>\n",
       "      <td>NaN</td>\n",
       "      <td>1993.0</td>\n",
       "    </tr>\n",
       "    <tr>\n",
       "      <th>15064391</th>\n",
       "      <td>1821 Grant Ave APT 101, San Francisco, CA</td>\n",
       "      <td>835000.0</td>\n",
       "      <td>False</td>\n",
       "      <td>1.0</td>\n",
       "      <td>1.0</td>\n",
       "      <td>1048.0</td>\n",
       "      <td>sqft</td>\n",
       "      <td>NaN</td>\n",
       "      <td>NaN</td>\n",
       "      <td>1975.0</td>\n",
       "    </tr>\n",
       "    <tr>\n",
       "      <th>...</th>\n",
       "      <td>...</td>\n",
       "      <td>...</td>\n",
       "      <td>...</td>\n",
       "      <td>...</td>\n",
       "      <td>...</td>\n",
       "      <td>...</td>\n",
       "      <td>...</td>\n",
       "      <td>...</td>\n",
       "      <td>...</td>\n",
       "      <td>...</td>\n",
       "    </tr>\n",
       "    <tr>\n",
       "      <th>2108411930</th>\n",
       "      <td>3500 19th St, San Francisco, CA</td>\n",
       "      <td>1730000.0</td>\n",
       "      <td>False</td>\n",
       "      <td>2.0</td>\n",
       "      <td>2.5</td>\n",
       "      <td>1500.0</td>\n",
       "      <td>sqft</td>\n",
       "      <td>NaN</td>\n",
       "      <td>NaN</td>\n",
       "      <td>2013.0</td>\n",
       "    </tr>\n",
       "    <tr>\n",
       "      <th>2108546010</th>\n",
       "      <td>1738 Lombard St APT 4, San Francisco, CA</td>\n",
       "      <td>1400000.0</td>\n",
       "      <td>False</td>\n",
       "      <td>2.0</td>\n",
       "      <td>2.0</td>\n",
       "      <td>NaN</td>\n",
       "      <td>NaN</td>\n",
       "      <td>NaN</td>\n",
       "      <td>NaN</td>\n",
       "      <td>2004.0</td>\n",
       "    </tr>\n",
       "    <tr>\n",
       "      <th>2121221385</th>\n",
       "      <td>925 Larkin St, San Francisco, CA</td>\n",
       "      <td>1430000.0</td>\n",
       "      <td>False</td>\n",
       "      <td>NaN</td>\n",
       "      <td>NaN</td>\n",
       "      <td>6600.0</td>\n",
       "      <td>sqft</td>\n",
       "      <td>NaN</td>\n",
       "      <td>NaN</td>\n",
       "      <td>1907.0</td>\n",
       "    </tr>\n",
       "    <tr>\n",
       "      <th>2122992200</th>\n",
       "      <td>129 Octavia St, San Francisco, CA</td>\n",
       "      <td>2750000.0</td>\n",
       "      <td>True</td>\n",
       "      <td>NaN</td>\n",
       "      <td>NaN</td>\n",
       "      <td>3655.0</td>\n",
       "      <td>sqft</td>\n",
       "      <td>NaN</td>\n",
       "      <td>NaN</td>\n",
       "      <td>1883.0</td>\n",
       "    </tr>\n",
       "  </tbody>\n",
       "</table>\n",
       "<p>1000 rows × 10 columns</p>\n",
       "</div>"
      ],
      "text/plain": [
       "                                               Address  SalePrice IsAStudio  \\\n",
       "ID                                                                            \n",
       "15063471     55 Vandewater St APT 9, San Francisco, CA   710000.0     False   \n",
       "15064257    111 Chestnut St APT 403, San Francisco, CA   970000.0     False   \n",
       "15064295    111 Chestnut St APT 702, San Francisco, CA   940000.0     False   \n",
       "15064391     1821 Grant Ave APT 101, San Francisco, CA   835000.0     False   \n",
       "...                                                ...        ...       ...   \n",
       "2108411930             3500 19th St, San Francisco, CA  1730000.0     False   \n",
       "2108546010    1738 Lombard St APT 4, San Francisco, CA  1400000.0     False   \n",
       "2121221385            925 Larkin St, San Francisco, CA  1430000.0     False   \n",
       "2122992200           129 Octavia St, San Francisco, CA  2750000.0      True   \n",
       "\n",
       "            BedCount  BathCount    Size SizeUnit  LotSize LotSizeUnit  \\\n",
       "ID                                                                      \n",
       "15063471         1.0        NaN   550.0     sqft      NaN         NaN   \n",
       "15064257         2.0        2.0  1299.0     sqft      NaN         NaN   \n",
       "15064295         2.0        2.0  1033.0     sqft      NaN         NaN   \n",
       "15064391         1.0        1.0  1048.0     sqft      NaN         NaN   \n",
       "...              ...        ...     ...      ...      ...         ...   \n",
       "2108411930       2.0        2.5  1500.0     sqft      NaN         NaN   \n",
       "2108546010       2.0        2.0     NaN      NaN      NaN         NaN   \n",
       "2121221385       NaN        NaN  6600.0     sqft      NaN         NaN   \n",
       "2122992200       NaN        NaN  3655.0     sqft      NaN         NaN   \n",
       "\n",
       "            BuiltInYear  \n",
       "ID                       \n",
       "15063471         1980.0  \n",
       "15064257         1993.0  \n",
       "15064295         1993.0  \n",
       "15064391         1975.0  \n",
       "...                 ...  \n",
       "2108411930       2013.0  \n",
       "2108546010       2004.0  \n",
       "2121221385       1907.0  \n",
       "2122992200       1883.0  \n",
       "\n",
       "[1000 rows x 10 columns]"
      ]
     },
     "execution_count": 48,
     "metadata": {},
     "output_type": "execute_result"
    }
   ],
   "source": [
    "df"
   ]
  },
  {
   "cell_type": "code",
   "execution_count": 49,
   "metadata": {
    "collapsed": false
   },
   "outputs": [
    {
     "data": {
      "text/html": [
       "<div>\n",
       "<table border=\"1\" class=\"dataframe\">\n",
       "  <thead>\n",
       "    <tr style=\"text-align: right;\">\n",
       "      <th></th>\n",
       "      <th>Address</th>\n",
       "      <th>SalePrice</th>\n",
       "      <th>IsAStudio</th>\n",
       "      <th>BedCount</th>\n",
       "      <th>BathCount</th>\n",
       "      <th>Size</th>\n",
       "      <th>SizeUnit</th>\n",
       "      <th>LotSize</th>\n",
       "      <th>LotSizeUnit</th>\n",
       "      <th>BuiltInYear</th>\n",
       "    </tr>\n",
       "    <tr>\n",
       "      <th>ID</th>\n",
       "      <th></th>\n",
       "      <th></th>\n",
       "      <th></th>\n",
       "      <th></th>\n",
       "      <th></th>\n",
       "      <th></th>\n",
       "      <th></th>\n",
       "      <th></th>\n",
       "      <th></th>\n",
       "      <th></th>\n",
       "    </tr>\n",
       "  </thead>\n",
       "  <tbody>\n",
       "    <tr>\n",
       "      <th>15063471</th>\n",
       "      <td>55 Vandewater St APT 9, San Francisco, CA</td>\n",
       "      <td>710000.0</td>\n",
       "      <td>False</td>\n",
       "      <td>1.0</td>\n",
       "      <td>NaN</td>\n",
       "      <td>550.0</td>\n",
       "      <td>sqft</td>\n",
       "      <td>NaN</td>\n",
       "      <td>NaN</td>\n",
       "      <td>1980.0</td>\n",
       "    </tr>\n",
       "    <tr>\n",
       "      <th>15063505</th>\n",
       "      <td>740 Francisco St, San Francisco, CA</td>\n",
       "      <td>2150000.0</td>\n",
       "      <td>False</td>\n",
       "      <td>NaN</td>\n",
       "      <td>2.0</td>\n",
       "      <td>1430.0</td>\n",
       "      <td>sqft</td>\n",
       "      <td>2435.0</td>\n",
       "      <td>sqft</td>\n",
       "      <td>1948.0</td>\n",
       "    </tr>\n",
       "    <tr>\n",
       "      <th>15063609</th>\n",
       "      <td>819 Francisco St, San Francisco, CA</td>\n",
       "      <td>5600000.0</td>\n",
       "      <td>False</td>\n",
       "      <td>2.0</td>\n",
       "      <td>3.5</td>\n",
       "      <td>2040.0</td>\n",
       "      <td>sqft</td>\n",
       "      <td>3920.0</td>\n",
       "      <td>sqft</td>\n",
       "      <td>1976.0</td>\n",
       "    </tr>\n",
       "    <tr>\n",
       "      <th>15064044</th>\n",
       "      <td>199 Chestnut St APT 5, San Francisco, CA</td>\n",
       "      <td>1500000.0</td>\n",
       "      <td>False</td>\n",
       "      <td>1.0</td>\n",
       "      <td>1.0</td>\n",
       "      <td>1060.0</td>\n",
       "      <td>sqft</td>\n",
       "      <td>NaN</td>\n",
       "      <td>NaN</td>\n",
       "      <td>1930.0</td>\n",
       "    </tr>\n",
       "    <tr>\n",
       "      <th>...</th>\n",
       "      <td>...</td>\n",
       "      <td>...</td>\n",
       "      <td>...</td>\n",
       "      <td>...</td>\n",
       "      <td>...</td>\n",
       "      <td>...</td>\n",
       "      <td>...</td>\n",
       "      <td>...</td>\n",
       "      <td>...</td>\n",
       "      <td>...</td>\n",
       "    </tr>\n",
       "    <tr>\n",
       "      <th>2126960082</th>\n",
       "      <td>355 1st St UNIT 1905, San Francisco, CA</td>\n",
       "      <td>860000.0</td>\n",
       "      <td>False</td>\n",
       "      <td>1.0</td>\n",
       "      <td>1.0</td>\n",
       "      <td>691.0</td>\n",
       "      <td>sqft</td>\n",
       "      <td>NaN</td>\n",
       "      <td>NaN</td>\n",
       "      <td>2004.0</td>\n",
       "    </tr>\n",
       "    <tr>\n",
       "      <th>2128308939</th>\n",
       "      <td>33 Santa Cruz Ave, San Francisco, CA</td>\n",
       "      <td>830000.0</td>\n",
       "      <td>False</td>\n",
       "      <td>3.0</td>\n",
       "      <td>3.0</td>\n",
       "      <td>1738.0</td>\n",
       "      <td>sqft</td>\n",
       "      <td>2299.0</td>\n",
       "      <td>sqft</td>\n",
       "      <td>1976.0</td>\n",
       "    </tr>\n",
       "    <tr>\n",
       "      <th>2131957929</th>\n",
       "      <td>1821 Grant Ave, San Francisco, CA</td>\n",
       "      <td>835000.0</td>\n",
       "      <td>False</td>\n",
       "      <td>2.0</td>\n",
       "      <td>2.0</td>\n",
       "      <td>1048.0</td>\n",
       "      <td>sqft</td>\n",
       "      <td>NaN</td>\n",
       "      <td>NaN</td>\n",
       "      <td>1975.0</td>\n",
       "    </tr>\n",
       "    <tr>\n",
       "      <th>2136213970</th>\n",
       "      <td>1200 Gough St, San Francisco, CA</td>\n",
       "      <td>825000.0</td>\n",
       "      <td>False</td>\n",
       "      <td>1.0</td>\n",
       "      <td>1.0</td>\n",
       "      <td>900.0</td>\n",
       "      <td>sqft</td>\n",
       "      <td>NaN</td>\n",
       "      <td>NaN</td>\n",
       "      <td>1966.0</td>\n",
       "    </tr>\n",
       "  </tbody>\n",
       "</table>\n",
       "<p>1000 rows × 10 columns</p>\n",
       "</div>"
      ],
      "text/plain": [
       "                                              Address  SalePrice IsAStudio  \\\n",
       "ID                                                                           \n",
       "15063471    55 Vandewater St APT 9, San Francisco, CA   710000.0     False   \n",
       "15063505          740 Francisco St, San Francisco, CA  2150000.0     False   \n",
       "15063609          819 Francisco St, San Francisco, CA  5600000.0     False   \n",
       "15064044     199 Chestnut St APT 5, San Francisco, CA  1500000.0     False   \n",
       "...                                               ...        ...       ...   \n",
       "2126960082    355 1st St UNIT 1905, San Francisco, CA   860000.0     False   \n",
       "2128308939       33 Santa Cruz Ave, San Francisco, CA   830000.0     False   \n",
       "2131957929          1821 Grant Ave, San Francisco, CA   835000.0     False   \n",
       "2136213970           1200 Gough St, San Francisco, CA   825000.0     False   \n",
       "\n",
       "            BedCount  BathCount    Size SizeUnit  LotSize LotSizeUnit  \\\n",
       "ID                                                                      \n",
       "15063471         1.0        NaN   550.0     sqft      NaN         NaN   \n",
       "15063505         NaN        2.0  1430.0     sqft   2435.0        sqft   \n",
       "15063609         2.0        3.5  2040.0     sqft   3920.0        sqft   \n",
       "15064044         1.0        1.0  1060.0     sqft      NaN         NaN   \n",
       "...              ...        ...     ...      ...      ...         ...   \n",
       "2126960082       1.0        1.0   691.0     sqft      NaN         NaN   \n",
       "2128308939       3.0        3.0  1738.0     sqft   2299.0        sqft   \n",
       "2131957929       2.0        2.0  1048.0     sqft      NaN         NaN   \n",
       "2136213970       1.0        1.0   900.0     sqft      NaN         NaN   \n",
       "\n",
       "            BuiltInYear  \n",
       "ID                       \n",
       "15063471         1980.0  \n",
       "15063505         1948.0  \n",
       "15063609         1976.0  \n",
       "15064044         1930.0  \n",
       "...                 ...  \n",
       "2126960082       2004.0  \n",
       "2128308939       1976.0  \n",
       "2131957929       1975.0  \n",
       "2136213970       1966.0  \n",
       "\n",
       "[1000 rows x 10 columns]"
      ]
     },
     "execution_count": 49,
     "metadata": {},
     "output_type": "execute_result"
    }
   ],
   "source": [
    "df.sort_index()"
   ]
  },
  {
   "cell_type": "markdown",
   "metadata": {},
   "source": [
    "> ### `IsAStudio`: convert from a Boolean to a binary variable (i.e., 0 or 1)"
   ]
  },
  {
   "cell_type": "code",
   "execution_count": 50,
   "metadata": {
    "collapsed": false
   },
   "outputs": [],
   "source": [
    "# TODO\n",
    "#df.IsAStudio.unique()\n",
    "df.IsAStudio = df.IsAStudio * 1.0"
   ]
  },
  {
   "cell_type": "code",
   "execution_count": 51,
   "metadata": {
    "collapsed": false
   },
   "outputs": [
    {
     "data": {
      "text/html": [
       "<div>\n",
       "<table border=\"1\" class=\"dataframe\">\n",
       "  <thead>\n",
       "    <tr style=\"text-align: right;\">\n",
       "      <th></th>\n",
       "      <th>Address</th>\n",
       "      <th>SalePrice</th>\n",
       "      <th>IsAStudio</th>\n",
       "      <th>BedCount</th>\n",
       "      <th>BathCount</th>\n",
       "      <th>Size</th>\n",
       "      <th>SizeUnit</th>\n",
       "      <th>LotSize</th>\n",
       "      <th>LotSizeUnit</th>\n",
       "      <th>BuiltInYear</th>\n",
       "    </tr>\n",
       "    <tr>\n",
       "      <th>ID</th>\n",
       "      <th></th>\n",
       "      <th></th>\n",
       "      <th></th>\n",
       "      <th></th>\n",
       "      <th></th>\n",
       "      <th></th>\n",
       "      <th></th>\n",
       "      <th></th>\n",
       "      <th></th>\n",
       "      <th></th>\n",
       "    </tr>\n",
       "  </thead>\n",
       "  <tbody>\n",
       "    <tr>\n",
       "      <th>15063471</th>\n",
       "      <td>55 Vandewater St APT 9, San Francisco, CA</td>\n",
       "      <td>710000.0</td>\n",
       "      <td>0</td>\n",
       "      <td>1.0</td>\n",
       "      <td>NaN</td>\n",
       "      <td>550.0</td>\n",
       "      <td>sqft</td>\n",
       "      <td>NaN</td>\n",
       "      <td>NaN</td>\n",
       "      <td>1980.0</td>\n",
       "    </tr>\n",
       "    <tr>\n",
       "      <th>15064257</th>\n",
       "      <td>111 Chestnut St APT 403, San Francisco, CA</td>\n",
       "      <td>970000.0</td>\n",
       "      <td>0</td>\n",
       "      <td>2.0</td>\n",
       "      <td>2.0</td>\n",
       "      <td>1299.0</td>\n",
       "      <td>sqft</td>\n",
       "      <td>NaN</td>\n",
       "      <td>NaN</td>\n",
       "      <td>1993.0</td>\n",
       "    </tr>\n",
       "    <tr>\n",
       "      <th>15064295</th>\n",
       "      <td>111 Chestnut St APT 702, San Francisco, CA</td>\n",
       "      <td>940000.0</td>\n",
       "      <td>0</td>\n",
       "      <td>2.0</td>\n",
       "      <td>2.0</td>\n",
       "      <td>1033.0</td>\n",
       "      <td>sqft</td>\n",
       "      <td>NaN</td>\n",
       "      <td>NaN</td>\n",
       "      <td>1993.0</td>\n",
       "    </tr>\n",
       "    <tr>\n",
       "      <th>15064391</th>\n",
       "      <td>1821 Grant Ave APT 101, San Francisco, CA</td>\n",
       "      <td>835000.0</td>\n",
       "      <td>0</td>\n",
       "      <td>1.0</td>\n",
       "      <td>1.0</td>\n",
       "      <td>1048.0</td>\n",
       "      <td>sqft</td>\n",
       "      <td>NaN</td>\n",
       "      <td>NaN</td>\n",
       "      <td>1975.0</td>\n",
       "    </tr>\n",
       "    <tr>\n",
       "      <th>...</th>\n",
       "      <td>...</td>\n",
       "      <td>...</td>\n",
       "      <td>...</td>\n",
       "      <td>...</td>\n",
       "      <td>...</td>\n",
       "      <td>...</td>\n",
       "      <td>...</td>\n",
       "      <td>...</td>\n",
       "      <td>...</td>\n",
       "      <td>...</td>\n",
       "    </tr>\n",
       "    <tr>\n",
       "      <th>2108411930</th>\n",
       "      <td>3500 19th St, San Francisco, CA</td>\n",
       "      <td>1730000.0</td>\n",
       "      <td>0</td>\n",
       "      <td>2.0</td>\n",
       "      <td>2.5</td>\n",
       "      <td>1500.0</td>\n",
       "      <td>sqft</td>\n",
       "      <td>NaN</td>\n",
       "      <td>NaN</td>\n",
       "      <td>2013.0</td>\n",
       "    </tr>\n",
       "    <tr>\n",
       "      <th>2108546010</th>\n",
       "      <td>1738 Lombard St APT 4, San Francisco, CA</td>\n",
       "      <td>1400000.0</td>\n",
       "      <td>0</td>\n",
       "      <td>2.0</td>\n",
       "      <td>2.0</td>\n",
       "      <td>NaN</td>\n",
       "      <td>NaN</td>\n",
       "      <td>NaN</td>\n",
       "      <td>NaN</td>\n",
       "      <td>2004.0</td>\n",
       "    </tr>\n",
       "    <tr>\n",
       "      <th>2121221385</th>\n",
       "      <td>925 Larkin St, San Francisco, CA</td>\n",
       "      <td>1430000.0</td>\n",
       "      <td>0</td>\n",
       "      <td>NaN</td>\n",
       "      <td>NaN</td>\n",
       "      <td>6600.0</td>\n",
       "      <td>sqft</td>\n",
       "      <td>NaN</td>\n",
       "      <td>NaN</td>\n",
       "      <td>1907.0</td>\n",
       "    </tr>\n",
       "    <tr>\n",
       "      <th>2122992200</th>\n",
       "      <td>129 Octavia St, San Francisco, CA</td>\n",
       "      <td>2750000.0</td>\n",
       "      <td>1</td>\n",
       "      <td>NaN</td>\n",
       "      <td>NaN</td>\n",
       "      <td>3655.0</td>\n",
       "      <td>sqft</td>\n",
       "      <td>NaN</td>\n",
       "      <td>NaN</td>\n",
       "      <td>1883.0</td>\n",
       "    </tr>\n",
       "  </tbody>\n",
       "</table>\n",
       "<p>1000 rows × 10 columns</p>\n",
       "</div>"
      ],
      "text/plain": [
       "                                               Address  SalePrice IsAStudio  \\\n",
       "ID                                                                            \n",
       "15063471     55 Vandewater St APT 9, San Francisco, CA   710000.0         0   \n",
       "15064257    111 Chestnut St APT 403, San Francisco, CA   970000.0         0   \n",
       "15064295    111 Chestnut St APT 702, San Francisco, CA   940000.0         0   \n",
       "15064391     1821 Grant Ave APT 101, San Francisco, CA   835000.0         0   \n",
       "...                                                ...        ...       ...   \n",
       "2108411930             3500 19th St, San Francisco, CA  1730000.0         0   \n",
       "2108546010    1738 Lombard St APT 4, San Francisco, CA  1400000.0         0   \n",
       "2121221385            925 Larkin St, San Francisco, CA  1430000.0         0   \n",
       "2122992200           129 Octavia St, San Francisco, CA  2750000.0         1   \n",
       "\n",
       "            BedCount  BathCount    Size SizeUnit  LotSize LotSizeUnit  \\\n",
       "ID                                                                      \n",
       "15063471         1.0        NaN   550.0     sqft      NaN         NaN   \n",
       "15064257         2.0        2.0  1299.0     sqft      NaN         NaN   \n",
       "15064295         2.0        2.0  1033.0     sqft      NaN         NaN   \n",
       "15064391         1.0        1.0  1048.0     sqft      NaN         NaN   \n",
       "...              ...        ...     ...      ...      ...         ...   \n",
       "2108411930       2.0        2.5  1500.0     sqft      NaN         NaN   \n",
       "2108546010       2.0        2.0     NaN      NaN      NaN         NaN   \n",
       "2121221385       NaN        NaN  6600.0     sqft      NaN         NaN   \n",
       "2122992200       NaN        NaN  3655.0     sqft      NaN         NaN   \n",
       "\n",
       "            BuiltInYear  \n",
       "ID                       \n",
       "15063471         1980.0  \n",
       "15064257         1993.0  \n",
       "15064295         1993.0  \n",
       "15064391         1975.0  \n",
       "...                 ...  \n",
       "2108411930       2013.0  \n",
       "2108546010       2004.0  \n",
       "2121221385       1907.0  \n",
       "2122992200       1883.0  \n",
       "\n",
       "[1000 rows x 10 columns]"
      ]
     },
     "execution_count": 51,
     "metadata": {},
     "output_type": "execute_result"
    }
   ],
   "source": [
    "df"
   ]
  },
  {
   "cell_type": "markdown",
   "metadata": {},
   "source": [
    "> ### `Size`"
   ]
  },
  {
   "cell_type": "code",
   "execution_count": 52,
   "metadata": {
    "collapsed": false
   },
   "outputs": [
    {
     "data": {
      "text/plain": [
       "array(['sqft', nan], dtype=object)"
      ]
     },
     "execution_count": 52,
     "metadata": {},
     "output_type": "execute_result"
    }
   ],
   "source": [
    "df.SizeUnit.unique()"
   ]
  },
  {
   "cell_type": "markdown",
   "metadata": {},
   "source": [
    "Size is either in square feet or missing.  Almost no work needed except to remove size unit."
   ]
  },
  {
   "cell_type": "code",
   "execution_count": 53,
   "metadata": {
    "collapsed": true
   },
   "outputs": [],
   "source": [
    "df.drop('SizeUnit', axis = 1, inplace = True)"
   ]
  },
  {
   "cell_type": "markdown",
   "metadata": {
    "collapsed": true
   },
   "source": [
    "> ### `LotSize`: scale all values to square feet"
   ]
  },
  {
   "cell_type": "code",
   "execution_count": 54,
   "metadata": {
    "collapsed": false
   },
   "outputs": [
    {
     "data": {
      "text/plain": [
       "array([nan, 'sqft', 'ac'], dtype=object)"
      ]
     },
     "execution_count": 54,
     "metadata": {},
     "output_type": "execute_result"
    }
   ],
   "source": [
    "df.LotSizeUnit.unique()"
   ]
  },
  {
   "cell_type": "markdown",
   "metadata": {},
   "source": [
    "Lot sizes are either in square feet or in acres.  Let's convert them all to square feet."
   ]
  },
  {
   "cell_type": "markdown",
   "metadata": {},
   "source": [
    "> Group #1: the `na` values:"
   ]
  },
  {
   "cell_type": "code",
   "execution_count": null,
   "metadata": {
    "collapsed": false
   },
   "outputs": [],
   "source": [
    "df_na = df[df.LotSizeUnit.isnull()]\n",
    "df_na = df_na.drop('LotSizeUnit', axis = 1)\n",
    "\n",
    "df_na.shape[0]"
   ]
  },
  {
   "cell_type": "markdown",
   "metadata": {},
   "source": [
    "> Group #2: the `sqft` values:"
   ]
  },
  {
   "cell_type": "code",
   "execution_count": null,
   "metadata": {
    "collapsed": false
   },
   "outputs": [],
   "source": [
    "# TODO (use df_sqft)\n",
    "df_sqft = df[df.LotSizeUnit == 'sqft']\n",
    "df_sqft = df_sqft.drop('LotSizeUnit', axis = 1)\n",
    "\n",
    "df_sqft.shape[0]"
   ]
  },
  {
   "cell_type": "markdown",
   "metadata": {},
   "source": [
    "> Group #3: the `ac` values:"
   ]
  },
  {
   "cell_type": "code",
   "execution_count": null,
   "metadata": {
    "collapsed": false
   },
   "outputs": [],
   "source": [
    "# TODO (use df_ac)\n",
    "df_ac = df[df.LotSizeUnit == 'ac']\n",
    "df_ac = df_ac.drop('LotSizeUnit', axis = 1)\n",
    "\n",
    "df_ac.shape[0]"
   ]
  },
  {
   "cell_type": "markdown",
   "metadata": {},
   "source": [
    "> Let's scale these `acre` values into `sqft`:"
   ]
  },
  {
   "cell_type": "code",
   "execution_count": null,
   "metadata": {
    "collapsed": true
   },
   "outputs": [],
   "source": [
    "# (1 acre = 43,560 sqft)\n",
    "\n",
    "# TODO\n",
    "df_ac.LotSize = df_ac.LotSize*43560"
   ]
  },
  {
   "cell_type": "markdown",
   "metadata": {},
   "source": [
    "Let's now put everything back together..."
   ]
  },
  {
   "cell_type": "code",
   "execution_count": null,
   "metadata": {
    "collapsed": false
   },
   "outputs": [],
   "source": [
    "df = pd.concat([df_na, df_sqft, df_ac]).sort_index()"
   ]
  },
  {
   "cell_type": "code",
   "execution_count": null,
   "metadata": {
    "collapsed": false
   },
   "outputs": [],
   "source": [
    "df"
   ]
  },
  {
   "cell_type": "markdown",
   "metadata": {},
   "source": [
    "> ### Save the `pandas` `DataFrame` to a `.csv` file"
   ]
  },
  {
   "cell_type": "code",
   "execution_count": null,
   "metadata": {
    "collapsed": false
   },
   "outputs": [],
   "source": [
    "df.to_csv(os.path.join('..', 'datasets', 'zillow-02.csv'), index_label = 'ID')"
   ]
  }
 ],
 "metadata": {
  "anaconda-cloud": {},
  "kernelspec": {
   "display_name": "Python [Root]",
   "language": "python",
   "name": "Python [Root]"
  },
  "language_info": {
   "codemirror_mode": {
    "name": "ipython",
    "version": 2
   },
   "file_extension": ".py",
   "mimetype": "text/x-python",
   "name": "python",
   "nbconvert_exporter": "python",
   "pygments_lexer": "ipython2",
   "version": "2.7.12"
  }
 },
 "nbformat": 4,
 "nbformat_minor": 0
}
