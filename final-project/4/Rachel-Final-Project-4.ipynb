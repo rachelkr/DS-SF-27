{
 "cells": [
  {
   "cell_type": "code",
   "execution_count": 1,
   "metadata": {
    "collapsed": true
   },
   "outputs": [],
   "source": [
    "import os\n",
    "\n",
    "import numpy as np\n",
    "import pandas as pd\n",
    "pd.set_option('display.max_rows', 25)\n",
    "pd.set_option('display.notebook_repr_html', True)\n",
    "pd.set_option('display.max_columns', 25)\n",
    "\n",
    "import string\n",
    "import unicodedata\n",
    "from nltk import tokenize, corpus, stem\n",
    "\n",
    "from sklearn import feature_extraction, linear_model, ensemble, cross_validation, metrics, decomposition\n",
    "\n",
    "import matplotlib.pyplot as plt\n",
    "%matplotlib inline\n",
    "plt.style.use('ggplot')"
   ]
  },
  {
   "cell_type": "code",
   "execution_count": 2,
   "metadata": {
    "collapsed": false
   },
   "outputs": [],
   "source": [
    "df = pd.read_excel(os.path.join('..','..', 'datasets', 'Churn.xls'))"
   ]
  },
  {
   "cell_type": "code",
   "execution_count": 3,
   "metadata": {
    "collapsed": false
   },
   "outputs": [
    {
     "data": {
      "text/html": [
       "<div>\n",
       "<table border=\"1\" class=\"dataframe\">\n",
       "  <thead>\n",
       "    <tr style=\"text-align: right;\">\n",
       "      <th></th>\n",
       "      <th>Account Length</th>\n",
       "      <th>VMail Message</th>\n",
       "      <th>Day Mins</th>\n",
       "      <th>Eve Mins</th>\n",
       "      <th>Night Mins</th>\n",
       "      <th>Intl Mins</th>\n",
       "      <th>CustServ Calls</th>\n",
       "      <th>Churn</th>\n",
       "      <th>Int'l Plan</th>\n",
       "      <th>VMail Plan</th>\n",
       "      <th>Day Calls</th>\n",
       "      <th>Day Charge</th>\n",
       "      <th>Eve Calls</th>\n",
       "      <th>Eve Charge</th>\n",
       "      <th>Night Calls</th>\n",
       "      <th>Night Charge</th>\n",
       "      <th>Intl Calls</th>\n",
       "      <th>Intl Charge</th>\n",
       "      <th>State</th>\n",
       "      <th>Area Code</th>\n",
       "      <th>Phone</th>\n",
       "    </tr>\n",
       "  </thead>\n",
       "  <tbody>\n",
       "    <tr>\n",
       "      <th>0</th>\n",
       "      <td>128</td>\n",
       "      <td>25</td>\n",
       "      <td>265.1</td>\n",
       "      <td>197.4</td>\n",
       "      <td>244.7</td>\n",
       "      <td>10.0</td>\n",
       "      <td>1</td>\n",
       "      <td>0</td>\n",
       "      <td>0</td>\n",
       "      <td>1</td>\n",
       "      <td>110</td>\n",
       "      <td>45.07</td>\n",
       "      <td>99</td>\n",
       "      <td>16.78</td>\n",
       "      <td>91</td>\n",
       "      <td>11.01</td>\n",
       "      <td>3</td>\n",
       "      <td>2.70</td>\n",
       "      <td>KS</td>\n",
       "      <td>415</td>\n",
       "      <td>382-4657</td>\n",
       "    </tr>\n",
       "    <tr>\n",
       "      <th>1</th>\n",
       "      <td>107</td>\n",
       "      <td>26</td>\n",
       "      <td>161.6</td>\n",
       "      <td>195.5</td>\n",
       "      <td>254.4</td>\n",
       "      <td>13.7</td>\n",
       "      <td>1</td>\n",
       "      <td>0</td>\n",
       "      <td>0</td>\n",
       "      <td>1</td>\n",
       "      <td>123</td>\n",
       "      <td>27.47</td>\n",
       "      <td>103</td>\n",
       "      <td>16.62</td>\n",
       "      <td>103</td>\n",
       "      <td>11.45</td>\n",
       "      <td>3</td>\n",
       "      <td>3.70</td>\n",
       "      <td>OH</td>\n",
       "      <td>415</td>\n",
       "      <td>371-7191</td>\n",
       "    </tr>\n",
       "    <tr>\n",
       "      <th>2</th>\n",
       "      <td>137</td>\n",
       "      <td>0</td>\n",
       "      <td>243.4</td>\n",
       "      <td>121.2</td>\n",
       "      <td>162.6</td>\n",
       "      <td>12.2</td>\n",
       "      <td>0</td>\n",
       "      <td>0</td>\n",
       "      <td>0</td>\n",
       "      <td>0</td>\n",
       "      <td>114</td>\n",
       "      <td>41.38</td>\n",
       "      <td>110</td>\n",
       "      <td>10.30</td>\n",
       "      <td>104</td>\n",
       "      <td>7.32</td>\n",
       "      <td>5</td>\n",
       "      <td>3.29</td>\n",
       "      <td>NJ</td>\n",
       "      <td>415</td>\n",
       "      <td>358-1921</td>\n",
       "    </tr>\n",
       "    <tr>\n",
       "      <th>3</th>\n",
       "      <td>84</td>\n",
       "      <td>0</td>\n",
       "      <td>299.4</td>\n",
       "      <td>61.9</td>\n",
       "      <td>196.9</td>\n",
       "      <td>6.6</td>\n",
       "      <td>2</td>\n",
       "      <td>0</td>\n",
       "      <td>1</td>\n",
       "      <td>0</td>\n",
       "      <td>71</td>\n",
       "      <td>50.90</td>\n",
       "      <td>88</td>\n",
       "      <td>5.26</td>\n",
       "      <td>89</td>\n",
       "      <td>8.86</td>\n",
       "      <td>7</td>\n",
       "      <td>1.78</td>\n",
       "      <td>OH</td>\n",
       "      <td>408</td>\n",
       "      <td>375-9999</td>\n",
       "    </tr>\n",
       "    <tr>\n",
       "      <th>4</th>\n",
       "      <td>75</td>\n",
       "      <td>0</td>\n",
       "      <td>166.7</td>\n",
       "      <td>148.3</td>\n",
       "      <td>186.9</td>\n",
       "      <td>10.1</td>\n",
       "      <td>3</td>\n",
       "      <td>0</td>\n",
       "      <td>1</td>\n",
       "      <td>0</td>\n",
       "      <td>113</td>\n",
       "      <td>28.34</td>\n",
       "      <td>122</td>\n",
       "      <td>12.61</td>\n",
       "      <td>121</td>\n",
       "      <td>8.41</td>\n",
       "      <td>3</td>\n",
       "      <td>2.73</td>\n",
       "      <td>OK</td>\n",
       "      <td>415</td>\n",
       "      <td>330-6626</td>\n",
       "    </tr>\n",
       "    <tr>\n",
       "      <th>5</th>\n",
       "      <td>118</td>\n",
       "      <td>0</td>\n",
       "      <td>223.4</td>\n",
       "      <td>220.6</td>\n",
       "      <td>203.9</td>\n",
       "      <td>6.3</td>\n",
       "      <td>0</td>\n",
       "      <td>0</td>\n",
       "      <td>1</td>\n",
       "      <td>0</td>\n",
       "      <td>98</td>\n",
       "      <td>37.98</td>\n",
       "      <td>101</td>\n",
       "      <td>18.75</td>\n",
       "      <td>118</td>\n",
       "      <td>9.18</td>\n",
       "      <td>6</td>\n",
       "      <td>1.70</td>\n",
       "      <td>AL</td>\n",
       "      <td>510</td>\n",
       "      <td>391-8027</td>\n",
       "    </tr>\n",
       "    <tr>\n",
       "      <th>6</th>\n",
       "      <td>121</td>\n",
       "      <td>24</td>\n",
       "      <td>218.2</td>\n",
       "      <td>348.5</td>\n",
       "      <td>212.6</td>\n",
       "      <td>7.5</td>\n",
       "      <td>3</td>\n",
       "      <td>0</td>\n",
       "      <td>0</td>\n",
       "      <td>1</td>\n",
       "      <td>88</td>\n",
       "      <td>37.09</td>\n",
       "      <td>108</td>\n",
       "      <td>29.62</td>\n",
       "      <td>118</td>\n",
       "      <td>9.57</td>\n",
       "      <td>7</td>\n",
       "      <td>2.03</td>\n",
       "      <td>MA</td>\n",
       "      <td>510</td>\n",
       "      <td>355-9993</td>\n",
       "    </tr>\n",
       "    <tr>\n",
       "      <th>7</th>\n",
       "      <td>147</td>\n",
       "      <td>0</td>\n",
       "      <td>157.0</td>\n",
       "      <td>103.1</td>\n",
       "      <td>211.8</td>\n",
       "      <td>7.1</td>\n",
       "      <td>0</td>\n",
       "      <td>0</td>\n",
       "      <td>1</td>\n",
       "      <td>0</td>\n",
       "      <td>79</td>\n",
       "      <td>26.69</td>\n",
       "      <td>94</td>\n",
       "      <td>8.76</td>\n",
       "      <td>96</td>\n",
       "      <td>9.53</td>\n",
       "      <td>6</td>\n",
       "      <td>1.92</td>\n",
       "      <td>MO</td>\n",
       "      <td>415</td>\n",
       "      <td>329-9001</td>\n",
       "    </tr>\n",
       "    <tr>\n",
       "      <th>8</th>\n",
       "      <td>117</td>\n",
       "      <td>0</td>\n",
       "      <td>184.5</td>\n",
       "      <td>351.6</td>\n",
       "      <td>215.8</td>\n",
       "      <td>8.7</td>\n",
       "      <td>1</td>\n",
       "      <td>0</td>\n",
       "      <td>0</td>\n",
       "      <td>0</td>\n",
       "      <td>97</td>\n",
       "      <td>31.37</td>\n",
       "      <td>80</td>\n",
       "      <td>29.89</td>\n",
       "      <td>90</td>\n",
       "      <td>9.71</td>\n",
       "      <td>4</td>\n",
       "      <td>2.35</td>\n",
       "      <td>LA</td>\n",
       "      <td>408</td>\n",
       "      <td>335-4719</td>\n",
       "    </tr>\n",
       "    <tr>\n",
       "      <th>9</th>\n",
       "      <td>141</td>\n",
       "      <td>37</td>\n",
       "      <td>258.6</td>\n",
       "      <td>222.0</td>\n",
       "      <td>326.4</td>\n",
       "      <td>11.2</td>\n",
       "      <td>0</td>\n",
       "      <td>0</td>\n",
       "      <td>1</td>\n",
       "      <td>1</td>\n",
       "      <td>84</td>\n",
       "      <td>43.96</td>\n",
       "      <td>111</td>\n",
       "      <td>18.87</td>\n",
       "      <td>97</td>\n",
       "      <td>14.69</td>\n",
       "      <td>5</td>\n",
       "      <td>3.02</td>\n",
       "      <td>WV</td>\n",
       "      <td>415</td>\n",
       "      <td>330-8173</td>\n",
       "    </tr>\n",
       "    <tr>\n",
       "      <th>10</th>\n",
       "      <td>65</td>\n",
       "      <td>0</td>\n",
       "      <td>129.1</td>\n",
       "      <td>228.5</td>\n",
       "      <td>208.8</td>\n",
       "      <td>12.7</td>\n",
       "      <td>4</td>\n",
       "      <td>1</td>\n",
       "      <td>0</td>\n",
       "      <td>0</td>\n",
       "      <td>137</td>\n",
       "      <td>21.95</td>\n",
       "      <td>83</td>\n",
       "      <td>19.42</td>\n",
       "      <td>111</td>\n",
       "      <td>9.40</td>\n",
       "      <td>6</td>\n",
       "      <td>3.43</td>\n",
       "      <td>IN</td>\n",
       "      <td>415</td>\n",
       "      <td>329-6603</td>\n",
       "    </tr>\n",
       "    <tr>\n",
       "      <th>11</th>\n",
       "      <td>74</td>\n",
       "      <td>0</td>\n",
       "      <td>187.7</td>\n",
       "      <td>163.4</td>\n",
       "      <td>196.0</td>\n",
       "      <td>9.1</td>\n",
       "      <td>0</td>\n",
       "      <td>0</td>\n",
       "      <td>0</td>\n",
       "      <td>0</td>\n",
       "      <td>127</td>\n",
       "      <td>31.91</td>\n",
       "      <td>148</td>\n",
       "      <td>13.89</td>\n",
       "      <td>94</td>\n",
       "      <td>8.82</td>\n",
       "      <td>5</td>\n",
       "      <td>2.46</td>\n",
       "      <td>RI</td>\n",
       "      <td>415</td>\n",
       "      <td>344-9403</td>\n",
       "    </tr>\n",
       "    <tr>\n",
       "      <th>...</th>\n",
       "      <td>...</td>\n",
       "      <td>...</td>\n",
       "      <td>...</td>\n",
       "      <td>...</td>\n",
       "      <td>...</td>\n",
       "      <td>...</td>\n",
       "      <td>...</td>\n",
       "      <td>...</td>\n",
       "      <td>...</td>\n",
       "      <td>...</td>\n",
       "      <td>...</td>\n",
       "      <td>...</td>\n",
       "      <td>...</td>\n",
       "      <td>...</td>\n",
       "      <td>...</td>\n",
       "      <td>...</td>\n",
       "      <td>...</td>\n",
       "      <td>...</td>\n",
       "      <td>...</td>\n",
       "      <td>...</td>\n",
       "      <td>...</td>\n",
       "    </tr>\n",
       "    <tr>\n",
       "      <th>3321</th>\n",
       "      <td>60</td>\n",
       "      <td>0</td>\n",
       "      <td>193.9</td>\n",
       "      <td>85.0</td>\n",
       "      <td>210.1</td>\n",
       "      <td>13.2</td>\n",
       "      <td>3</td>\n",
       "      <td>0</td>\n",
       "      <td>0</td>\n",
       "      <td>0</td>\n",
       "      <td>118</td>\n",
       "      <td>32.96</td>\n",
       "      <td>110</td>\n",
       "      <td>7.23</td>\n",
       "      <td>134</td>\n",
       "      <td>9.45</td>\n",
       "      <td>8</td>\n",
       "      <td>3.56</td>\n",
       "      <td>VT</td>\n",
       "      <td>415</td>\n",
       "      <td>400-2738</td>\n",
       "    </tr>\n",
       "    <tr>\n",
       "      <th>3322</th>\n",
       "      <td>62</td>\n",
       "      <td>0</td>\n",
       "      <td>321.1</td>\n",
       "      <td>265.5</td>\n",
       "      <td>180.5</td>\n",
       "      <td>11.5</td>\n",
       "      <td>4</td>\n",
       "      <td>1</td>\n",
       "      <td>0</td>\n",
       "      <td>0</td>\n",
       "      <td>105</td>\n",
       "      <td>54.59</td>\n",
       "      <td>122</td>\n",
       "      <td>22.57</td>\n",
       "      <td>72</td>\n",
       "      <td>8.12</td>\n",
       "      <td>2</td>\n",
       "      <td>3.11</td>\n",
       "      <td>MD</td>\n",
       "      <td>408</td>\n",
       "      <td>409-1856</td>\n",
       "    </tr>\n",
       "    <tr>\n",
       "      <th>3323</th>\n",
       "      <td>117</td>\n",
       "      <td>0</td>\n",
       "      <td>118.4</td>\n",
       "      <td>249.3</td>\n",
       "      <td>227.0</td>\n",
       "      <td>13.6</td>\n",
       "      <td>5</td>\n",
       "      <td>1</td>\n",
       "      <td>0</td>\n",
       "      <td>0</td>\n",
       "      <td>126</td>\n",
       "      <td>20.13</td>\n",
       "      <td>97</td>\n",
       "      <td>21.19</td>\n",
       "      <td>56</td>\n",
       "      <td>10.22</td>\n",
       "      <td>3</td>\n",
       "      <td>3.67</td>\n",
       "      <td>IN</td>\n",
       "      <td>415</td>\n",
       "      <td>362-5899</td>\n",
       "    </tr>\n",
       "    <tr>\n",
       "      <th>3324</th>\n",
       "      <td>159</td>\n",
       "      <td>0</td>\n",
       "      <td>169.8</td>\n",
       "      <td>197.7</td>\n",
       "      <td>193.7</td>\n",
       "      <td>11.6</td>\n",
       "      <td>1</td>\n",
       "      <td>0</td>\n",
       "      <td>0</td>\n",
       "      <td>0</td>\n",
       "      <td>114</td>\n",
       "      <td>28.87</td>\n",
       "      <td>105</td>\n",
       "      <td>16.80</td>\n",
       "      <td>82</td>\n",
       "      <td>8.72</td>\n",
       "      <td>4</td>\n",
       "      <td>3.13</td>\n",
       "      <td>WV</td>\n",
       "      <td>415</td>\n",
       "      <td>377-1164</td>\n",
       "    </tr>\n",
       "    <tr>\n",
       "      <th>3325</th>\n",
       "      <td>78</td>\n",
       "      <td>0</td>\n",
       "      <td>193.4</td>\n",
       "      <td>116.9</td>\n",
       "      <td>243.3</td>\n",
       "      <td>9.3</td>\n",
       "      <td>2</td>\n",
       "      <td>0</td>\n",
       "      <td>0</td>\n",
       "      <td>0</td>\n",
       "      <td>99</td>\n",
       "      <td>32.88</td>\n",
       "      <td>88</td>\n",
       "      <td>9.94</td>\n",
       "      <td>109</td>\n",
       "      <td>10.95</td>\n",
       "      <td>4</td>\n",
       "      <td>2.51</td>\n",
       "      <td>OH</td>\n",
       "      <td>408</td>\n",
       "      <td>368-8555</td>\n",
       "    </tr>\n",
       "    <tr>\n",
       "      <th>3326</th>\n",
       "      <td>96</td>\n",
       "      <td>0</td>\n",
       "      <td>106.6</td>\n",
       "      <td>284.8</td>\n",
       "      <td>178.9</td>\n",
       "      <td>14.9</td>\n",
       "      <td>1</td>\n",
       "      <td>0</td>\n",
       "      <td>0</td>\n",
       "      <td>0</td>\n",
       "      <td>128</td>\n",
       "      <td>18.12</td>\n",
       "      <td>87</td>\n",
       "      <td>24.21</td>\n",
       "      <td>92</td>\n",
       "      <td>8.05</td>\n",
       "      <td>7</td>\n",
       "      <td>4.02</td>\n",
       "      <td>OH</td>\n",
       "      <td>415</td>\n",
       "      <td>347-6812</td>\n",
       "    </tr>\n",
       "    <tr>\n",
       "      <th>3327</th>\n",
       "      <td>79</td>\n",
       "      <td>0</td>\n",
       "      <td>134.7</td>\n",
       "      <td>189.7</td>\n",
       "      <td>221.4</td>\n",
       "      <td>11.8</td>\n",
       "      <td>2</td>\n",
       "      <td>0</td>\n",
       "      <td>0</td>\n",
       "      <td>0</td>\n",
       "      <td>98</td>\n",
       "      <td>22.90</td>\n",
       "      <td>68</td>\n",
       "      <td>16.12</td>\n",
       "      <td>128</td>\n",
       "      <td>9.96</td>\n",
       "      <td>5</td>\n",
       "      <td>3.19</td>\n",
       "      <td>SC</td>\n",
       "      <td>415</td>\n",
       "      <td>348-3830</td>\n",
       "    </tr>\n",
       "    <tr>\n",
       "      <th>3328</th>\n",
       "      <td>192</td>\n",
       "      <td>36</td>\n",
       "      <td>156.2</td>\n",
       "      <td>215.5</td>\n",
       "      <td>279.1</td>\n",
       "      <td>9.9</td>\n",
       "      <td>2</td>\n",
       "      <td>0</td>\n",
       "      <td>0</td>\n",
       "      <td>1</td>\n",
       "      <td>77</td>\n",
       "      <td>26.55</td>\n",
       "      <td>126</td>\n",
       "      <td>18.32</td>\n",
       "      <td>83</td>\n",
       "      <td>12.56</td>\n",
       "      <td>6</td>\n",
       "      <td>2.67</td>\n",
       "      <td>AZ</td>\n",
       "      <td>415</td>\n",
       "      <td>414-4276</td>\n",
       "    </tr>\n",
       "    <tr>\n",
       "      <th>3329</th>\n",
       "      <td>68</td>\n",
       "      <td>0</td>\n",
       "      <td>231.1</td>\n",
       "      <td>153.4</td>\n",
       "      <td>191.3</td>\n",
       "      <td>9.6</td>\n",
       "      <td>3</td>\n",
       "      <td>0</td>\n",
       "      <td>0</td>\n",
       "      <td>0</td>\n",
       "      <td>57</td>\n",
       "      <td>39.29</td>\n",
       "      <td>55</td>\n",
       "      <td>13.04</td>\n",
       "      <td>123</td>\n",
       "      <td>8.61</td>\n",
       "      <td>4</td>\n",
       "      <td>2.59</td>\n",
       "      <td>WV</td>\n",
       "      <td>415</td>\n",
       "      <td>370-3271</td>\n",
       "    </tr>\n",
       "    <tr>\n",
       "      <th>3330</th>\n",
       "      <td>28</td>\n",
       "      <td>0</td>\n",
       "      <td>180.8</td>\n",
       "      <td>288.8</td>\n",
       "      <td>191.9</td>\n",
       "      <td>14.1</td>\n",
       "      <td>2</td>\n",
       "      <td>0</td>\n",
       "      <td>0</td>\n",
       "      <td>0</td>\n",
       "      <td>109</td>\n",
       "      <td>30.74</td>\n",
       "      <td>58</td>\n",
       "      <td>24.55</td>\n",
       "      <td>91</td>\n",
       "      <td>8.64</td>\n",
       "      <td>6</td>\n",
       "      <td>3.81</td>\n",
       "      <td>RI</td>\n",
       "      <td>510</td>\n",
       "      <td>328-8230</td>\n",
       "    </tr>\n",
       "    <tr>\n",
       "      <th>3331</th>\n",
       "      <td>184</td>\n",
       "      <td>0</td>\n",
       "      <td>213.8</td>\n",
       "      <td>159.6</td>\n",
       "      <td>139.2</td>\n",
       "      <td>5.0</td>\n",
       "      <td>2</td>\n",
       "      <td>0</td>\n",
       "      <td>1</td>\n",
       "      <td>0</td>\n",
       "      <td>105</td>\n",
       "      <td>36.35</td>\n",
       "      <td>84</td>\n",
       "      <td>13.57</td>\n",
       "      <td>137</td>\n",
       "      <td>6.26</td>\n",
       "      <td>10</td>\n",
       "      <td>1.35</td>\n",
       "      <td>CT</td>\n",
       "      <td>510</td>\n",
       "      <td>364-6381</td>\n",
       "    </tr>\n",
       "    <tr>\n",
       "      <th>3332</th>\n",
       "      <td>74</td>\n",
       "      <td>25</td>\n",
       "      <td>234.4</td>\n",
       "      <td>265.9</td>\n",
       "      <td>241.4</td>\n",
       "      <td>13.7</td>\n",
       "      <td>0</td>\n",
       "      <td>0</td>\n",
       "      <td>0</td>\n",
       "      <td>1</td>\n",
       "      <td>113</td>\n",
       "      <td>39.85</td>\n",
       "      <td>82</td>\n",
       "      <td>22.60</td>\n",
       "      <td>77</td>\n",
       "      <td>10.86</td>\n",
       "      <td>4</td>\n",
       "      <td>3.70</td>\n",
       "      <td>TN</td>\n",
       "      <td>415</td>\n",
       "      <td>400-4344</td>\n",
       "    </tr>\n",
       "  </tbody>\n",
       "</table>\n",
       "<p>3333 rows × 21 columns</p>\n",
       "</div>"
      ],
      "text/plain": [
       "      Account Length  VMail Message  Day Mins  Eve Mins  Night Mins  \\\n",
       "0                128             25     265.1     197.4       244.7   \n",
       "1                107             26     161.6     195.5       254.4   \n",
       "2                137              0     243.4     121.2       162.6   \n",
       "3                 84              0     299.4      61.9       196.9   \n",
       "4                 75              0     166.7     148.3       186.9   \n",
       "5                118              0     223.4     220.6       203.9   \n",
       "6                121             24     218.2     348.5       212.6   \n",
       "7                147              0     157.0     103.1       211.8   \n",
       "8                117              0     184.5     351.6       215.8   \n",
       "9                141             37     258.6     222.0       326.4   \n",
       "10                65              0     129.1     228.5       208.8   \n",
       "11                74              0     187.7     163.4       196.0   \n",
       "...              ...            ...       ...       ...         ...   \n",
       "3321              60              0     193.9      85.0       210.1   \n",
       "3322              62              0     321.1     265.5       180.5   \n",
       "3323             117              0     118.4     249.3       227.0   \n",
       "3324             159              0     169.8     197.7       193.7   \n",
       "3325              78              0     193.4     116.9       243.3   \n",
       "3326              96              0     106.6     284.8       178.9   \n",
       "3327              79              0     134.7     189.7       221.4   \n",
       "3328             192             36     156.2     215.5       279.1   \n",
       "3329              68              0     231.1     153.4       191.3   \n",
       "3330              28              0     180.8     288.8       191.9   \n",
       "3331             184              0     213.8     159.6       139.2   \n",
       "3332              74             25     234.4     265.9       241.4   \n",
       "\n",
       "      Intl Mins  CustServ Calls  Churn  Int'l Plan  VMail Plan  Day Calls  \\\n",
       "0          10.0               1      0           0           1        110   \n",
       "1          13.7               1      0           0           1        123   \n",
       "2          12.2               0      0           0           0        114   \n",
       "3           6.6               2      0           1           0         71   \n",
       "4          10.1               3      0           1           0        113   \n",
       "5           6.3               0      0           1           0         98   \n",
       "6           7.5               3      0           0           1         88   \n",
       "7           7.1               0      0           1           0         79   \n",
       "8           8.7               1      0           0           0         97   \n",
       "9          11.2               0      0           1           1         84   \n",
       "10         12.7               4      1           0           0        137   \n",
       "11          9.1               0      0           0           0        127   \n",
       "...         ...             ...    ...         ...         ...        ...   \n",
       "3321       13.2               3      0           0           0        118   \n",
       "3322       11.5               4      1           0           0        105   \n",
       "3323       13.6               5      1           0           0        126   \n",
       "3324       11.6               1      0           0           0        114   \n",
       "3325        9.3               2      0           0           0         99   \n",
       "3326       14.9               1      0           0           0        128   \n",
       "3327       11.8               2      0           0           0         98   \n",
       "3328        9.9               2      0           0           1         77   \n",
       "3329        9.6               3      0           0           0         57   \n",
       "3330       14.1               2      0           0           0        109   \n",
       "3331        5.0               2      0           1           0        105   \n",
       "3332       13.7               0      0           0           1        113   \n",
       "\n",
       "      Day Charge  Eve Calls  Eve Charge  Night Calls  Night Charge  \\\n",
       "0          45.07         99       16.78           91         11.01   \n",
       "1          27.47        103       16.62          103         11.45   \n",
       "2          41.38        110       10.30          104          7.32   \n",
       "3          50.90         88        5.26           89          8.86   \n",
       "4          28.34        122       12.61          121          8.41   \n",
       "5          37.98        101       18.75          118          9.18   \n",
       "6          37.09        108       29.62          118          9.57   \n",
       "7          26.69         94        8.76           96          9.53   \n",
       "8          31.37         80       29.89           90          9.71   \n",
       "9          43.96        111       18.87           97         14.69   \n",
       "10         21.95         83       19.42          111          9.40   \n",
       "11         31.91        148       13.89           94          8.82   \n",
       "...          ...        ...         ...          ...           ...   \n",
       "3321       32.96        110        7.23          134          9.45   \n",
       "3322       54.59        122       22.57           72          8.12   \n",
       "3323       20.13         97       21.19           56         10.22   \n",
       "3324       28.87        105       16.80           82          8.72   \n",
       "3325       32.88         88        9.94          109         10.95   \n",
       "3326       18.12         87       24.21           92          8.05   \n",
       "3327       22.90         68       16.12          128          9.96   \n",
       "3328       26.55        126       18.32           83         12.56   \n",
       "3329       39.29         55       13.04          123          8.61   \n",
       "3330       30.74         58       24.55           91          8.64   \n",
       "3331       36.35         84       13.57          137          6.26   \n",
       "3332       39.85         82       22.60           77         10.86   \n",
       "\n",
       "      Intl Calls  Intl Charge State  Area Code     Phone  \n",
       "0              3         2.70    KS        415  382-4657  \n",
       "1              3         3.70    OH        415  371-7191  \n",
       "2              5         3.29    NJ        415  358-1921  \n",
       "3              7         1.78    OH        408  375-9999  \n",
       "4              3         2.73    OK        415  330-6626  \n",
       "5              6         1.70    AL        510  391-8027  \n",
       "6              7         2.03    MA        510  355-9993  \n",
       "7              6         1.92    MO        415  329-9001  \n",
       "8              4         2.35    LA        408  335-4719  \n",
       "9              5         3.02    WV        415  330-8173  \n",
       "10             6         3.43    IN        415  329-6603  \n",
       "11             5         2.46    RI        415  344-9403  \n",
       "...          ...          ...   ...        ...       ...  \n",
       "3321           8         3.56    VT        415  400-2738  \n",
       "3322           2         3.11    MD        408  409-1856  \n",
       "3323           3         3.67    IN        415  362-5899  \n",
       "3324           4         3.13    WV        415  377-1164  \n",
       "3325           4         2.51    OH        408  368-8555  \n",
       "3326           7         4.02    OH        415  347-6812  \n",
       "3327           5         3.19    SC        415  348-3830  \n",
       "3328           6         2.67    AZ        415  414-4276  \n",
       "3329           4         2.59    WV        415  370-3271  \n",
       "3330           6         3.81    RI        510  328-8230  \n",
       "3331          10         1.35    CT        510  364-6381  \n",
       "3332           4         3.70    TN        415  400-4344  \n",
       "\n",
       "[3333 rows x 21 columns]"
      ]
     },
     "execution_count": 3,
     "metadata": {},
     "output_type": "execute_result"
    }
   ],
   "source": [
    "df"
   ]
  },
  {
   "cell_type": "code",
   "execution_count": null,
   "metadata": {
    "collapsed": true
   },
   "outputs": [],
   "source": [
    "#at that point I went back and made the rows/cols show more to see them all"
   ]
  },
  {
   "cell_type": "code",
   "execution_count": 4,
   "metadata": {
    "collapsed": false
   },
   "outputs": [
    {
     "data": {
      "text/plain": [
       "Account Length    0\n",
       "VMail Message     0\n",
       "Day Mins          0\n",
       "Eve Mins          0\n",
       "Night Mins        0\n",
       "Intl Mins         0\n",
       "CustServ Calls    0\n",
       "Churn             0\n",
       "Int'l Plan        0\n",
       "VMail Plan        0\n",
       "Day Calls         0\n",
       "Day Charge        0\n",
       "Eve Calls         0\n",
       "Eve Charge        0\n",
       "Night Calls       0\n",
       "Night Charge      0\n",
       "Intl Calls        0\n",
       "Intl Charge       0\n",
       "State             0\n",
       "Area Code         0\n",
       "Phone             0\n",
       "dtype: int64"
      ]
     },
     "execution_count": 4,
     "metadata": {},
     "output_type": "execute_result"
    }
   ],
   "source": [
    "#no nulls! that's great.\n",
    "df.isnull().sum()"
   ]
  },
  {
   "cell_type": "code",
   "execution_count": 5,
   "metadata": {
    "collapsed": false
   },
   "outputs": [
    {
     "data": {
      "text/plain": [
       "Index([u'Account Length', u'VMail Message', u'Day Mins', u'Eve Mins',\n",
       "       u'Night Mins', u'Intl Mins', u'CustServ Calls', u'Churn', u'Int'l Plan',\n",
       "       u'VMail Plan', u'Day Calls', u'Day Charge', u'Eve Calls', u'Eve Charge',\n",
       "       u'Night Calls', u'Night Charge', u'Intl Calls', u'Intl Charge',\n",
       "       u'State', u'Area Code', u'Phone'],\n",
       "      dtype='object')"
      ]
     },
     "execution_count": 5,
     "metadata": {},
     "output_type": "execute_result"
    }
   ],
   "source": [
    "df.columns"
   ]
  },
  {
   "cell_type": "code",
   "execution_count": 6,
   "metadata": {
    "collapsed": false,
    "scrolled": true
   },
   "outputs": [
    {
     "data": {
      "text/plain": [
       "Account Length    0.016541\n",
       "VMail Message    -0.089728\n",
       "Day Mins          0.205151\n",
       "Eve Mins          0.092796\n",
       "Night Mins        0.035493\n",
       "Intl Mins         0.068239\n",
       "CustServ Calls    0.208750\n",
       "Churn             1.000000\n",
       "Int'l Plan        0.259852\n",
       "VMail Plan       -0.102148\n",
       "Day Calls         0.018459\n",
       "Day Charge        0.205151\n",
       "Eve Calls         0.009233\n",
       "Eve Charge        0.092786\n",
       "Night Calls       0.006141\n",
       "Night Charge      0.035496\n",
       "Intl Calls       -0.052844\n",
       "Intl Charge       0.068259\n",
       "Area Code         0.006174\n",
       "Name: Churn, dtype: float64"
      ]
     },
     "execution_count": 6,
     "metadata": {},
     "output_type": "execute_result"
    }
   ],
   "source": [
    "# I want to see correlation with my outcome, Churn\n",
    "df.corr().Churn"
   ]
  },
  {
   "cell_type": "code",
   "execution_count": 7,
   "metadata": {
    "collapsed": false
   },
   "outputs": [
    {
     "data": {
      "text/plain": [
       "array([[<matplotlib.axes._subplots.AxesSubplot object at 0x1183ceb90>,\n",
       "        <matplotlib.axes._subplots.AxesSubplot object at 0x11aae7d50>,\n",
       "        <matplotlib.axes._subplots.AxesSubplot object at 0x11ab5ec50>,\n",
       "        <matplotlib.axes._subplots.AxesSubplot object at 0x11abe0bd0>],\n",
       "       [<matplotlib.axes._subplots.AxesSubplot object at 0x1182e9390>,\n",
       "        <matplotlib.axes._subplots.AxesSubplot object at 0x11837c310>,\n",
       "        <matplotlib.axes._subplots.AxesSubplot object at 0x11ac66a90>,\n",
       "        <matplotlib.axes._subplots.AxesSubplot object at 0x11ae4e250>],\n",
       "       [<matplotlib.axes._subplots.AxesSubplot object at 0x11aecf1d0>,\n",
       "        <matplotlib.axes._subplots.AxesSubplot object at 0x11af32710>,\n",
       "        <matplotlib.axes._subplots.AxesSubplot object at 0x11afb5690>,\n",
       "        <matplotlib.axes._subplots.AxesSubplot object at 0x11b01b490>],\n",
       "       [<matplotlib.axes._subplots.AxesSubplot object at 0x11b0a45d0>,\n",
       "        <matplotlib.axes._subplots.AxesSubplot object at 0x11b128550>,\n",
       "        <matplotlib.axes._subplots.AxesSubplot object at 0x11b195190>,\n",
       "        <matplotlib.axes._subplots.AxesSubplot object at 0x11b219110>],\n",
       "       [<matplotlib.axes._subplots.AxesSubplot object at 0x11b27b250>,\n",
       "        <matplotlib.axes._subplots.AxesSubplot object at 0x11b2fd2d0>,\n",
       "        <matplotlib.axes._subplots.AxesSubplot object at 0x11b434390>,\n",
       "        <matplotlib.axes._subplots.AxesSubplot object at 0x11b4ed1d0>]], dtype=object)"
      ]
     },
     "execution_count": 7,
     "metadata": {},
     "output_type": "execute_result"
    },
    {
     "data": {
      "image/png": "[encoded data removed]",
      "text/plain": [
       "<matplotlib.figure.Figure at 0x1183ceb50>"
      ]
     },
     "metadata": {},
     "output_type": "display_data"
    }
   ],
   "source": [
    "df.hist()"
   ]
  },
  {
   "cell_type": "code",
   "execution_count": 8,
   "metadata": {
    "collapsed": false
   },
   "outputs": [
    {
     "data": {
      "text/plain": [
       "[<matplotlib.text.Text at 0x11c560c10>,\n",
       " <matplotlib.text.Text at 0x11bc15850>,\n",
       " <matplotlib.text.Text at 0x11da28b90>,\n",
       " <matplotlib.text.Text at 0x11ba4bed0>,\n",
       " <matplotlib.text.Text at 0x11c579a90>,\n",
       " <matplotlib.text.Text at 0x11b882f10>]"
      ]
     },
     "execution_count": 8,
     "metadata": {},
     "output_type": "execute_result"
    },
    {
     "data": {
      "image/png": "[encoded data removed]",
      "text/plain": [
       "<matplotlib.figure.Figure at 0x11b77f650>"
      ]
     },
     "metadata": {},
     "output_type": "display_data"
    }
   ],
   "source": [
    "# I like this correlation visualization better, but can't figure out how to size it better. oh well!\n",
    "corr = df.corr()\n",
    "figure = plt.figure()\n",
    "subplot = figure.add_subplot(1, 1, 1)\n",
    "figure.colorbar(subplot.matshow(corr))\n",
    "subplot.set_xticklabels([None] + list(corr.columns), rotation = 90)\n",
    "subplot.set_yticklabels([None] + list(corr.columns))"
   ]
  },
  {
   "cell_type": "code",
   "execution_count": null,
   "metadata": {
    "collapsed": true
   },
   "outputs": [],
   "source": [
    "#I've decided that I will use logistic regression and random forest since this is a classification problem\n",
    "#I'll set up a training and testing set and put in features that appear to be correlated to churn == 1\n",
    "# This is the kitchen sink method for sure!"
   ]
  },
  {
   "cell_type": "code",
   "execution_count": 9,
   "metadata": {
    "collapsed": false
   },
   "outputs": [],
   "source": [
    "X = df[ [\"VMail Message\", \"Day Mins\", \"CustServ Calls\", \"Intl Calls\", \"Day Charge\", \"Int'l Plan\", \"VMail Plan\"] ]"
   ]
  },
  {
   "cell_type": "code",
   "execution_count": 10,
   "metadata": {
    "collapsed": true
   },
   "outputs": [],
   "source": [
    "c = df.Churn"
   ]
  },
  {
   "cell_type": "code",
   "execution_count": 11,
   "metadata": {
    "collapsed": true
   },
   "outputs": [],
   "source": [
    "train_X, test_X, train_c, test_c = cross_validation.train_test_split(X, c, train_size = .6, random_state = 0)"
   ]
  },
  {
   "cell_type": "code",
   "execution_count": 12,
   "metadata": {
    "collapsed": false
   },
   "outputs": [
    {
     "data": {
      "text/html": [
       "<div>\n",
       "<table border=\"1\" class=\"dataframe\">\n",
       "  <thead>\n",
       "    <tr style=\"text-align: right;\">\n",
       "      <th></th>\n",
       "      <th>VMail Message</th>\n",
       "      <th>Day Mins</th>\n",
       "      <th>CustServ Calls</th>\n",
       "      <th>Intl Calls</th>\n",
       "      <th>Day Charge</th>\n",
       "      <th>Int'l Plan</th>\n",
       "      <th>VMail Plan</th>\n",
       "    </tr>\n",
       "  </thead>\n",
       "  <tbody>\n",
       "    <tr>\n",
       "      <th>3022</th>\n",
       "      <td>33</td>\n",
       "      <td>146.6</td>\n",
       "      <td>0</td>\n",
       "      <td>7</td>\n",
       "      <td>24.92</td>\n",
       "      <td>0</td>\n",
       "      <td>1</td>\n",
       "    </tr>\n",
       "    <tr>\n",
       "      <th>442</th>\n",
       "      <td>29</td>\n",
       "      <td>133.1</td>\n",
       "      <td>1</td>\n",
       "      <td>3</td>\n",
       "      <td>22.63</td>\n",
       "      <td>0</td>\n",
       "      <td>1</td>\n",
       "    </tr>\n",
       "    <tr>\n",
       "      <th>1364</th>\n",
       "      <td>0</td>\n",
       "      <td>245.0</td>\n",
       "      <td>1</td>\n",
       "      <td>8</td>\n",
       "      <td>41.65</td>\n",
       "      <td>0</td>\n",
       "      <td>0</td>\n",
       "    </tr>\n",
       "    <tr>\n",
       "      <th>3038</th>\n",
       "      <td>28</td>\n",
       "      <td>110.0</td>\n",
       "      <td>2</td>\n",
       "      <td>3</td>\n",
       "      <td>18.70</td>\n",
       "      <td>0</td>\n",
       "      <td>1</td>\n",
       "    </tr>\n",
       "    <tr>\n",
       "      <th>157</th>\n",
       "      <td>23</td>\n",
       "      <td>157.6</td>\n",
       "      <td>0</td>\n",
       "      <td>2</td>\n",
       "      <td>26.79</td>\n",
       "      <td>0</td>\n",
       "      <td>1</td>\n",
       "    </tr>\n",
       "    <tr>\n",
       "      <th>1717</th>\n",
       "      <td>0</td>\n",
       "      <td>129.9</td>\n",
       "      <td>1</td>\n",
       "      <td>3</td>\n",
       "      <td>22.08</td>\n",
       "      <td>0</td>\n",
       "      <td>0</td>\n",
       "    </tr>\n",
       "    <tr>\n",
       "      <th>2706</th>\n",
       "      <td>0</td>\n",
       "      <td>206.0</td>\n",
       "      <td>0</td>\n",
       "      <td>3</td>\n",
       "      <td>35.02</td>\n",
       "      <td>0</td>\n",
       "      <td>0</td>\n",
       "    </tr>\n",
       "    <tr>\n",
       "      <th>505</th>\n",
       "      <td>0</td>\n",
       "      <td>159.3</td>\n",
       "      <td>1</td>\n",
       "      <td>5</td>\n",
       "      <td>27.08</td>\n",
       "      <td>0</td>\n",
       "      <td>0</td>\n",
       "    </tr>\n",
       "    <tr>\n",
       "      <th>1245</th>\n",
       "      <td>0</td>\n",
       "      <td>140.1</td>\n",
       "      <td>2</td>\n",
       "      <td>5</td>\n",
       "      <td>23.82</td>\n",
       "      <td>0</td>\n",
       "      <td>0</td>\n",
       "    </tr>\n",
       "    <tr>\n",
       "      <th>1869</th>\n",
       "      <td>0</td>\n",
       "      <td>239.0</td>\n",
       "      <td>1</td>\n",
       "      <td>8</td>\n",
       "      <td>40.63</td>\n",
       "      <td>0</td>\n",
       "      <td>0</td>\n",
       "    </tr>\n",
       "    <tr>\n",
       "      <th>2090</th>\n",
       "      <td>37</td>\n",
       "      <td>223.5</td>\n",
       "      <td>2</td>\n",
       "      <td>5</td>\n",
       "      <td>38.00</td>\n",
       "      <td>0</td>\n",
       "      <td>1</td>\n",
       "    </tr>\n",
       "    <tr>\n",
       "      <th>18</th>\n",
       "      <td>33</td>\n",
       "      <td>189.7</td>\n",
       "      <td>1</td>\n",
       "      <td>5</td>\n",
       "      <td>32.25</td>\n",
       "      <td>0</td>\n",
       "      <td>1</td>\n",
       "    </tr>\n",
       "    <tr>\n",
       "      <th>...</th>\n",
       "      <td>...</td>\n",
       "      <td>...</td>\n",
       "      <td>...</td>\n",
       "      <td>...</td>\n",
       "      <td>...</td>\n",
       "      <td>...</td>\n",
       "      <td>...</td>\n",
       "    </tr>\n",
       "    <tr>\n",
       "      <th>2647</th>\n",
       "      <td>0</td>\n",
       "      <td>288.0</td>\n",
       "      <td>0</td>\n",
       "      <td>4</td>\n",
       "      <td>48.96</td>\n",
       "      <td>0</td>\n",
       "      <td>0</td>\n",
       "    </tr>\n",
       "    <tr>\n",
       "      <th>1828</th>\n",
       "      <td>0</td>\n",
       "      <td>156.5</td>\n",
       "      <td>2</td>\n",
       "      <td>2</td>\n",
       "      <td>26.61</td>\n",
       "      <td>0</td>\n",
       "      <td>0</td>\n",
       "    </tr>\n",
       "    <tr>\n",
       "      <th>1778</th>\n",
       "      <td>39</td>\n",
       "      <td>117.6</td>\n",
       "      <td>2</td>\n",
       "      <td>10</td>\n",
       "      <td>19.99</td>\n",
       "      <td>0</td>\n",
       "      <td>1</td>\n",
       "    </tr>\n",
       "    <tr>\n",
       "      <th>277</th>\n",
       "      <td>48</td>\n",
       "      <td>189.8</td>\n",
       "      <td>2</td>\n",
       "      <td>2</td>\n",
       "      <td>32.27</td>\n",
       "      <td>0</td>\n",
       "      <td>1</td>\n",
       "    </tr>\n",
       "    <tr>\n",
       "      <th>1033</th>\n",
       "      <td>0</td>\n",
       "      <td>198.6</td>\n",
       "      <td>2</td>\n",
       "      <td>6</td>\n",
       "      <td>33.76</td>\n",
       "      <td>0</td>\n",
       "      <td>0</td>\n",
       "    </tr>\n",
       "    <tr>\n",
       "      <th>1731</th>\n",
       "      <td>0</td>\n",
       "      <td>232.8</td>\n",
       "      <td>0</td>\n",
       "      <td>7</td>\n",
       "      <td>39.58</td>\n",
       "      <td>0</td>\n",
       "      <td>0</td>\n",
       "    </tr>\n",
       "    <tr>\n",
       "      <th>763</th>\n",
       "      <td>35</td>\n",
       "      <td>186.8</td>\n",
       "      <td>0</td>\n",
       "      <td>5</td>\n",
       "      <td>31.76</td>\n",
       "      <td>0</td>\n",
       "      <td>1</td>\n",
       "    </tr>\n",
       "    <tr>\n",
       "      <th>835</th>\n",
       "      <td>0</td>\n",
       "      <td>72.7</td>\n",
       "      <td>1</td>\n",
       "      <td>3</td>\n",
       "      <td>12.36</td>\n",
       "      <td>0</td>\n",
       "      <td>0</td>\n",
       "    </tr>\n",
       "    <tr>\n",
       "      <th>3264</th>\n",
       "      <td>24</td>\n",
       "      <td>97.8</td>\n",
       "      <td>0</td>\n",
       "      <td>2</td>\n",
       "      <td>16.63</td>\n",
       "      <td>0</td>\n",
       "      <td>1</td>\n",
       "    </tr>\n",
       "    <tr>\n",
       "      <th>1653</th>\n",
       "      <td>0</td>\n",
       "      <td>131.4</td>\n",
       "      <td>1</td>\n",
       "      <td>2</td>\n",
       "      <td>22.34</td>\n",
       "      <td>1</td>\n",
       "      <td>0</td>\n",
       "    </tr>\n",
       "    <tr>\n",
       "      <th>2607</th>\n",
       "      <td>0</td>\n",
       "      <td>189.3</td>\n",
       "      <td>3</td>\n",
       "      <td>3</td>\n",
       "      <td>32.18</td>\n",
       "      <td>0</td>\n",
       "      <td>0</td>\n",
       "    </tr>\n",
       "    <tr>\n",
       "      <th>2732</th>\n",
       "      <td>0</td>\n",
       "      <td>216.2</td>\n",
       "      <td>5</td>\n",
       "      <td>2</td>\n",
       "      <td>36.75</td>\n",
       "      <td>1</td>\n",
       "      <td>0</td>\n",
       "    </tr>\n",
       "  </tbody>\n",
       "</table>\n",
       "<p>1999 rows × 7 columns</p>\n",
       "</div>"
      ],
      "text/plain": [
       "      VMail Message  Day Mins  CustServ Calls  Intl Calls  Day Charge  \\\n",
       "3022             33     146.6               0           7       24.92   \n",
       "442              29     133.1               1           3       22.63   \n",
       "1364              0     245.0               1           8       41.65   \n",
       "3038             28     110.0               2           3       18.70   \n",
       "157              23     157.6               0           2       26.79   \n",
       "1717              0     129.9               1           3       22.08   \n",
       "2706              0     206.0               0           3       35.02   \n",
       "505               0     159.3               1           5       27.08   \n",
       "1245              0     140.1               2           5       23.82   \n",
       "1869              0     239.0               1           8       40.63   \n",
       "2090             37     223.5               2           5       38.00   \n",
       "18               33     189.7               1           5       32.25   \n",
       "...             ...       ...             ...         ...         ...   \n",
       "2647              0     288.0               0           4       48.96   \n",
       "1828              0     156.5               2           2       26.61   \n",
       "1778             39     117.6               2          10       19.99   \n",
       "277              48     189.8               2           2       32.27   \n",
       "1033              0     198.6               2           6       33.76   \n",
       "1731              0     232.8               0           7       39.58   \n",
       "763              35     186.8               0           5       31.76   \n",
       "835               0      72.7               1           3       12.36   \n",
       "3264             24      97.8               0           2       16.63   \n",
       "1653              0     131.4               1           2       22.34   \n",
       "2607              0     189.3               3           3       32.18   \n",
       "2732              0     216.2               5           2       36.75   \n",
       "\n",
       "      Int'l Plan  VMail Plan  \n",
       "3022           0           1  \n",
       "442            0           1  \n",
       "1364           0           0  \n",
       "3038           0           1  \n",
       "157            0           1  \n",
       "1717           0           0  \n",
       "2706           0           0  \n",
       "505            0           0  \n",
       "1245           0           0  \n",
       "1869           0           0  \n",
       "2090           0           1  \n",
       "18             0           1  \n",
       "...          ...         ...  \n",
       "2647           0           0  \n",
       "1828           0           0  \n",
       "1778           0           1  \n",
       "277            0           1  \n",
       "1033           0           0  \n",
       "1731           0           0  \n",
       "763            0           1  \n",
       "835            0           0  \n",
       "3264           0           1  \n",
       "1653           1           0  \n",
       "2607           0           0  \n",
       "2732           1           0  \n",
       "\n",
       "[1999 rows x 7 columns]"
      ]
     },
     "execution_count": 12,
     "metadata": {},
     "output_type": "execute_result"
    }
   ],
   "source": [
    "train_X"
   ]
  },
  {
   "cell_type": "code",
   "execution_count": 13,
   "metadata": {
    "collapsed": true
   },
   "outputs": [],
   "source": [
    "#logistic regression is below"
   ]
  },
  {
   "cell_type": "code",
   "execution_count": 14,
   "metadata": {
    "collapsed": false
   },
   "outputs": [],
   "source": [
    "model = linear_model.LogisticRegression().\\\n",
    "    fit(train_X, train_c)"
   ]
  },
  {
   "cell_type": "code",
   "execution_count": 15,
   "metadata": {
    "collapsed": false
   },
   "outputs": [
    {
     "data": {
      "text/plain": [
       "LogisticRegression(C=1.0, class_weight=None, dual=False, fit_intercept=True,\n",
       "          intercept_scaling=1, max_iter=100, multi_class='ovr', n_jobs=1,\n",
       "          penalty='l2', random_state=None, solver='liblinear', tol=0.0001,\n",
       "          verbose=0, warm_start=False)"
      ]
     },
     "execution_count": 15,
     "metadata": {},
     "output_type": "execute_result"
    }
   ],
   "source": [
    "model.fit(train_X, train_c)"
   ]
  },
  {
   "cell_type": "code",
   "execution_count": 16,
   "metadata": {
    "collapsed": false
   },
   "outputs": [
    {
     "data": {
      "text/plain": [
       "0.85242621310655331"
      ]
     },
     "execution_count": 16,
     "metadata": {},
     "output_type": "execute_result"
    }
   ],
   "source": [
    "model.score(train_X, train_c)"
   ]
  },
  {
   "cell_type": "code",
   "execution_count": 17,
   "metadata": {
    "collapsed": false
   },
   "outputs": [
    {
     "data": {
      "text/plain": [
       "0.85192193076206713"
      ]
     },
     "execution_count": 17,
     "metadata": {},
     "output_type": "execute_result"
    }
   ],
   "source": [
    "cross_validation.cross_val_score(model, train_X, train_c, cv = 5).mean()"
   ]
  },
  {
   "cell_type": "code",
   "execution_count": 18,
   "metadata": {
    "collapsed": true
   },
   "outputs": [],
   "source": [
    "#it looks like it is really good and we may be able to predict churn with those 6 features"
   ]
  },
  {
   "cell_type": "code",
   "execution_count": 21,
   "metadata": {
    "collapsed": false,
    "scrolled": true
   },
   "outputs": [
    {
     "data": {
      "text/plain": [
       "LogisticRegression(C=1.0, class_weight=None, dual=False, fit_intercept=True,\n",
       "          intercept_scaling=1, max_iter=100, multi_class='ovr', n_jobs=1,\n",
       "          penalty='l2', random_state=None, solver='liblinear', tol=0.0001,\n",
       "          verbose=0, warm_start=False)"
      ]
     },
     "execution_count": 21,
     "metadata": {},
     "output_type": "execute_result"
    }
   ],
   "source": [
    "model.fit(train_X, train_c)"
   ]
  },
  {
   "cell_type": "code",
   "execution_count": 22,
   "metadata": {
    "collapsed": false
   },
   "outputs": [
    {
     "data": {
      "text/plain": [
       "0.85242621310655331"
      ]
     },
     "execution_count": 22,
     "metadata": {},
     "output_type": "execute_result"
    }
   ],
   "source": [
    "model.score(train_X, train_c)"
   ]
  },
  {
   "cell_type": "code",
   "execution_count": 23,
   "metadata": {
    "collapsed": false
   },
   "outputs": [
    {
     "data": {
      "text/plain": [
       "0.85042388715552131"
      ]
     },
     "execution_count": 23,
     "metadata": {},
     "output_type": "execute_result"
    }
   ],
   "source": [
    "cross_validation.cross_val_score(model, train_X, train_c).mean()"
   ]
  },
  {
   "cell_type": "code",
   "execution_count": 24,
   "metadata": {
    "collapsed": true
   },
   "outputs": [],
   "source": [
    "train_c_hat = cross_validation.cross_val_predict(model, train_X, train_c)"
   ]
  },
  {
   "cell_type": "code",
   "execution_count": 25,
   "metadata": {
    "collapsed": false
   },
   "outputs": [
    {
     "data": {
      "text/html": [
       "<div>\n",
       "<table border=\"1\" class=\"dataframe\">\n",
       "  <thead>\n",
       "    <tr style=\"text-align: right;\">\n",
       "      <th>True</th>\n",
       "      <th>0</th>\n",
       "      <th>1</th>\n",
       "    </tr>\n",
       "    <tr>\n",
       "      <th>Predicted</th>\n",
       "      <th></th>\n",
       "      <th></th>\n",
       "    </tr>\n",
       "  </thead>\n",
       "  <tbody>\n",
       "    <tr>\n",
       "      <th>0</th>\n",
       "      <td>1654</td>\n",
       "      <td>255</td>\n",
       "    </tr>\n",
       "    <tr>\n",
       "      <th>1</th>\n",
       "      <td>44</td>\n",
       "      <td>46</td>\n",
       "    </tr>\n",
       "  </tbody>\n",
       "</table>\n",
       "</div>"
      ],
      "text/plain": [
       "True          0    1\n",
       "Predicted           \n",
       "0          1654  255\n",
       "1            44   46"
      ]
     },
     "execution_count": 25,
     "metadata": {},
     "output_type": "execute_result"
    }
   ],
   "source": [
    "pd.crosstab(train_c_hat, train_c, rownames = ['Predicted'], colnames = ['True'])"
   ]
  },
  {
   "cell_type": "code",
   "execution_count": null,
   "metadata": {
    "collapsed": true
   },
   "outputs": [],
   "source": [
    "#OMG IT IS SO BAD!! it's only predicted churn ==1 for 15% of cases when churn == 1\n",
    "#To add insult to injury, I'll see how poorly it does with my test set"
   ]
  },
  {
   "cell_type": "code",
   "execution_count": 26,
   "metadata": {
    "collapsed": false
   },
   "outputs": [
    {
     "data": {
      "text/plain": [
       "LogisticRegression(C=1.0, class_weight=None, dual=False, fit_intercept=True,\n",
       "          intercept_scaling=1, max_iter=100, multi_class='ovr', n_jobs=1,\n",
       "          penalty='l2', random_state=None, solver='liblinear', tol=0.0001,\n",
       "          verbose=0, warm_start=False)"
      ]
     },
     "execution_count": 26,
     "metadata": {},
     "output_type": "execute_result"
    }
   ],
   "source": [
    "#test set\n",
    "model.fit(test_X, test_c)"
   ]
  },
  {
   "cell_type": "code",
   "execution_count": 27,
   "metadata": {
    "collapsed": false
   },
   "outputs": [
    {
     "data": {
      "text/plain": [
       "0.86806596701649175"
      ]
     },
     "execution_count": 27,
     "metadata": {},
     "output_type": "execute_result"
    }
   ],
   "source": [
    "model.score(test_X, test_c)"
   ]
  },
  {
   "cell_type": "code",
   "execution_count": 28,
   "metadata": {
    "collapsed": true
   },
   "outputs": [],
   "source": [
    "test_c_hat = cross_validation.cross_val_predict(model, test_X, test_c)"
   ]
  },
  {
   "cell_type": "code",
   "execution_count": 29,
   "metadata": {
    "collapsed": false
   },
   "outputs": [
    {
     "data": {
      "text/html": [
       "<div>\n",
       "<table border=\"1\" class=\"dataframe\">\n",
       "  <thead>\n",
       "    <tr style=\"text-align: right;\">\n",
       "      <th>True</th>\n",
       "      <th>0</th>\n",
       "      <th>1</th>\n",
       "    </tr>\n",
       "    <tr>\n",
       "      <th>Predicted</th>\n",
       "      <th></th>\n",
       "      <th></th>\n",
       "    </tr>\n",
       "  </thead>\n",
       "  <tbody>\n",
       "    <tr>\n",
       "      <th>0</th>\n",
       "      <td>1134</td>\n",
       "      <td>158</td>\n",
       "    </tr>\n",
       "    <tr>\n",
       "      <th>1</th>\n",
       "      <td>18</td>\n",
       "      <td>24</td>\n",
       "    </tr>\n",
       "  </tbody>\n",
       "</table>\n",
       "</div>"
      ],
      "text/plain": [
       "True          0    1\n",
       "Predicted           \n",
       "0          1134  158\n",
       "1            18   24"
      ]
     },
     "execution_count": 29,
     "metadata": {},
     "output_type": "execute_result"
    }
   ],
   "source": [
    "pd.crosstab(test_c_hat, test_c, rownames = ['Predicted'], colnames = ['True'])"
   ]
  },
  {
   "cell_type": "code",
   "execution_count": 30,
   "metadata": {
    "collapsed": true
   },
   "outputs": [],
   "source": [
    "#this looks just as bad, the model only predicts churn == 1 correctly for 13%\n",
    "#next i'll be trying random forest"
   ]
  },
  {
   "cell_type": "code",
   "execution_count": 31,
   "metadata": {
    "collapsed": true
   },
   "outputs": [],
   "source": [
    "rfmodel = ensemble.RandomForestClassifier(n_estimators = 100)"
   ]
  },
  {
   "cell_type": "code",
   "execution_count": 32,
   "metadata": {
    "collapsed": false
   },
   "outputs": [
    {
     "data": {
      "text/plain": [
       "RandomForestClassifier(bootstrap=True, class_weight=None, criterion='gini',\n",
       "            max_depth=None, max_features='auto', max_leaf_nodes=None,\n",
       "            min_samples_leaf=1, min_samples_split=2,\n",
       "            min_weight_fraction_leaf=0.0, n_estimators=100, n_jobs=1,\n",
       "            oob_score=False, random_state=None, verbose=0,\n",
       "            warm_start=False)"
      ]
     },
     "execution_count": 32,
     "metadata": {},
     "output_type": "execute_result"
    }
   ],
   "source": [
    "rfmodel.fit(train_X, train_c)"
   ]
  },
  {
   "cell_type": "code",
   "execution_count": 33,
   "metadata": {
    "collapsed": false
   },
   "outputs": [
    {
     "data": {
      "text/plain": [
       "0.9994997498749375"
      ]
     },
     "execution_count": 33,
     "metadata": {},
     "output_type": "execute_result"
    }
   ],
   "source": [
    "rfmodel.score(train_X, train_c)"
   ]
  },
  {
   "cell_type": "code",
   "execution_count": 34,
   "metadata": {
    "collapsed": false
   },
   "outputs": [
    {
     "data": {
      "text/plain": [
       "0.89695017356186779"
      ]
     },
     "execution_count": 34,
     "metadata": {},
     "output_type": "execute_result"
    }
   ],
   "source": [
    "cross_validation.cross_val_score(rfmodel, train_X, train_c).mean()"
   ]
  },
  {
   "cell_type": "code",
   "execution_count": 35,
   "metadata": {
    "collapsed": true
   },
   "outputs": [],
   "source": [
    "rftrain_c_hat = cross_validation.cross_val_predict(rfmodel, train_X, train_c)"
   ]
  },
  {
   "cell_type": "code",
   "execution_count": 36,
   "metadata": {
    "collapsed": false
   },
   "outputs": [
    {
     "data": {
      "text/html": [
       "<div>\n",
       "<table border=\"1\" class=\"dataframe\">\n",
       "  <thead>\n",
       "    <tr style=\"text-align: right;\">\n",
       "      <th>True</th>\n",
       "      <th>0</th>\n",
       "      <th>1</th>\n",
       "    </tr>\n",
       "    <tr>\n",
       "      <th>Predicted</th>\n",
       "      <th></th>\n",
       "      <th></th>\n",
       "    </tr>\n",
       "  </thead>\n",
       "  <tbody>\n",
       "    <tr>\n",
       "      <th>0</th>\n",
       "      <td>1633</td>\n",
       "      <td>136</td>\n",
       "    </tr>\n",
       "    <tr>\n",
       "      <th>1</th>\n",
       "      <td>65</td>\n",
       "      <td>165</td>\n",
       "    </tr>\n",
       "  </tbody>\n",
       "</table>\n",
       "</div>"
      ],
      "text/plain": [
       "True          0    1\n",
       "Predicted           \n",
       "0          1633  136\n",
       "1            65  165"
      ]
     },
     "execution_count": 36,
     "metadata": {},
     "output_type": "execute_result"
    }
   ],
   "source": [
    "pd.crosstab(rftrain_c_hat, train_c, rownames = ['Predicted'], colnames = ['True'])"
   ]
  },
  {
   "cell_type": "code",
   "execution_count": 37,
   "metadata": {
    "collapsed": true
   },
   "outputs": [],
   "source": [
    "#this is way better but still barely better than 50/50\n",
    "#this is not something you could make a decision off of very well\n",
    "#i would never take an analysis/model like this to my boss! "
   ]
  },
  {
   "cell_type": "code",
   "execution_count": null,
   "metadata": {
    "collapsed": true
   },
   "outputs": [],
   "source": [
    "#instead i am going to spend some time looking into correlations and feature relationships more\n",
    "#maybe i will have better luck if i choose fewer features? doubt it but i'll try "
   ]
  },
  {
   "cell_type": "code",
   "execution_count": 38,
   "metadata": {
    "collapsed": true
   },
   "outputs": [],
   "source": [
    "true_df = df[(df.Churn == 1)]"
   ]
  },
  {
   "cell_type": "code",
   "execution_count": 39,
   "metadata": {
    "collapsed": true
   },
   "outputs": [],
   "source": [
    "false_df = df[(df.Churn == 0)]"
   ]
  },
  {
   "cell_type": "code",
   "execution_count": 40,
   "metadata": {
    "collapsed": false
   },
   "outputs": [
    {
     "data": {
      "text/plain": [
       "<matplotlib.axes._subplots.AxesSubplot at 0x11b83ed50>"
      ]
     },
     "execution_count": 40,
     "metadata": {},
     "output_type": "execute_result"
    },
    {
     "data": {
      "image/png": "[encoded data removed]",
      "text/plain": [
       "<matplotlib.figure.Figure at 0x11b135b10>"
      ]
     },
     "metadata": {},
     "output_type": "display_data"
    }
   ],
   "source": [
    "true_df.plot(kind = 'box', figsize = (20, 10))"
   ]
  },
  {
   "cell_type": "code",
   "execution_count": 41,
   "metadata": {
    "collapsed": false
   },
   "outputs": [
    {
     "data": {
      "text/plain": [
       "<matplotlib.axes._subplots.AxesSubplot at 0x11e0cfa90>"
      ]
     },
     "execution_count": 41,
     "metadata": {},
     "output_type": "execute_result"
    },
    {
     "data": {
      "image/png": "[encoded data removed]",
      "text/plain": [
       "<matplotlib.figure.Figure at 0x11da2a4d0>"
      ]
     },
     "metadata": {},
     "output_type": "display_data"
    }
   ],
   "source": [
    "false_df.plot(kind = 'box', figsize = (20, 10))"
   ]
  },
  {
   "cell_type": "code",
   "execution_count": null,
   "metadata": {
    "collapsed": true
   },
   "outputs": [],
   "source": [
    "#the features where the mean looks different are day mins, eve mins, and day charge, but i can barely see the others"
   ]
  },
  {
   "cell_type": "code",
   "execution_count": null,
   "metadata": {
    "collapsed": true
   },
   "outputs": [],
   "source": [
    "# i'll try logistic regression and RF again with only those three features and see what happens"
   ]
  },
  {
   "cell_type": "code",
   "execution_count": 90,
   "metadata": {
    "collapsed": true
   },
   "outputs": [],
   "source": [
    "Z = df[ [\"Day Mins\", \"Eve Mins\", \"Day Charge\"] ]"
   ]
  },
  {
   "cell_type": "code",
   "execution_count": 91,
   "metadata": {
    "collapsed": true
   },
   "outputs": [],
   "source": [
    "e = df.Churn"
   ]
  },
  {
   "cell_type": "code",
   "execution_count": 92,
   "metadata": {
    "collapsed": true
   },
   "outputs": [],
   "source": [
    "train_Z, test_Z, train_e, test_e = cross_validation.train_test_split(Z, e, train_size = .6, random_state = 0)"
   ]
  },
  {
   "cell_type": "code",
   "execution_count": 93,
   "metadata": {
    "collapsed": true
   },
   "outputs": [],
   "source": [
    "model2 = linear_model.LogisticRegression().\\\n",
    "    fit(train_Z, train_e)"
   ]
  },
  {
   "cell_type": "code",
   "execution_count": 94,
   "metadata": {
    "collapsed": false
   },
   "outputs": [
    {
     "data": {
      "text/plain": [
       "LogisticRegression(C=1.0, class_weight=None, dual=False, fit_intercept=True,\n",
       "          intercept_scaling=1, max_iter=100, multi_class='ovr', n_jobs=1,\n",
       "          penalty='l2', random_state=None, solver='liblinear', tol=0.0001,\n",
       "          verbose=0, warm_start=False)"
      ]
     },
     "execution_count": 94,
     "metadata": {},
     "output_type": "execute_result"
    }
   ],
   "source": [
    "model2.fit(train_Z, train_e)"
   ]
  },
  {
   "cell_type": "code",
   "execution_count": 95,
   "metadata": {
    "collapsed": false
   },
   "outputs": [
    {
     "data": {
      "text/plain": [
       "0.84942471235617811"
      ]
     },
     "execution_count": 95,
     "metadata": {},
     "output_type": "execute_result"
    }
   ],
   "source": [
    "model2.score(train_Z, train_e)"
   ]
  },
  {
   "cell_type": "code",
   "execution_count": 96,
   "metadata": {
    "collapsed": false
   },
   "outputs": [
    {
     "data": {
      "text/plain": [
       "0.84942568391052442"
      ]
     },
     "execution_count": 96,
     "metadata": {},
     "output_type": "execute_result"
    }
   ],
   "source": [
    "cross_validation.cross_val_score(model2, train_Z, train_e, cv = 5).mean()"
   ]
  },
  {
   "cell_type": "code",
   "execution_count": 97,
   "metadata": {
    "collapsed": true
   },
   "outputs": [],
   "source": [
    "train_c_hat_2 = cross_validation.cross_val_predict(model2, train_Z, train_e)"
   ]
  },
  {
   "cell_type": "code",
   "execution_count": 98,
   "metadata": {
    "collapsed": false
   },
   "outputs": [
    {
     "data": {
      "text/html": [
       "<div>\n",
       "<table border=\"1\" class=\"dataframe\">\n",
       "  <thead>\n",
       "    <tr style=\"text-align: right;\">\n",
       "      <th>True</th>\n",
       "      <th>0</th>\n",
       "      <th>1</th>\n",
       "    </tr>\n",
       "    <tr>\n",
       "      <th>Predicted</th>\n",
       "      <th></th>\n",
       "      <th></th>\n",
       "    </tr>\n",
       "  </thead>\n",
       "  <tbody>\n",
       "    <tr>\n",
       "      <th>0</th>\n",
       "      <td>1698</td>\n",
       "      <td>301</td>\n",
       "    </tr>\n",
       "  </tbody>\n",
       "</table>\n",
       "</div>"
      ],
      "text/plain": [
       "True          0    1\n",
       "Predicted           \n",
       "0          1698  301"
      ]
     },
     "execution_count": 98,
     "metadata": {},
     "output_type": "execute_result"
    }
   ],
   "source": [
    "pd.crosstab(train_c_hat_2, train_e, rownames = ['Predicted'], colnames = ['True'])"
   ]
  },
  {
   "cell_type": "code",
   "execution_count": 51,
   "metadata": {
    "collapsed": true
   },
   "outputs": [],
   "source": [
    "#this is terrible!! \n",
    "#it predicted 0 for all of them and was still right 85% of the time! \n",
    "#so having fewer features in my logit did not help\n"
   ]
  },
  {
   "cell_type": "code",
   "execution_count": null,
   "metadata": {
    "collapsed": true
   },
   "outputs": [],
   "source": [
    "#i'm going to look more at true_df and false_df and see if there are any insights i can glean\n",
    "#maybe i could bring an analysis that certain features are correlated with churn\n",
    "#and that we could investigate those"
   ]
  },
  {
   "cell_type": "code",
   "execution_count": 99,
   "metadata": {
    "collapsed": false
   },
   "outputs": [
    {
     "data": {
      "text/html": [
       "<div>\n",
       "<table border=\"1\" class=\"dataframe\">\n",
       "  <thead>\n",
       "    <tr style=\"text-align: right;\">\n",
       "      <th></th>\n",
       "      <th>Account Length</th>\n",
       "      <th>VMail Message</th>\n",
       "      <th>Day Mins</th>\n",
       "      <th>Eve Mins</th>\n",
       "      <th>Night Mins</th>\n",
       "      <th>Intl Mins</th>\n",
       "      <th>CustServ Calls</th>\n",
       "      <th>Churn</th>\n",
       "      <th>Int'l Plan</th>\n",
       "      <th>VMail Plan</th>\n",
       "      <th>Day Calls</th>\n",
       "      <th>Day Charge</th>\n",
       "      <th>Eve Calls</th>\n",
       "      <th>Eve Charge</th>\n",
       "      <th>Night Calls</th>\n",
       "      <th>Night Charge</th>\n",
       "      <th>Intl Calls</th>\n",
       "      <th>Intl Charge</th>\n",
       "      <th>Area Code</th>\n",
       "    </tr>\n",
       "  </thead>\n",
       "  <tbody>\n",
       "    <tr>\n",
       "      <th>count</th>\n",
       "      <td>483.000000</td>\n",
       "      <td>483.000000</td>\n",
       "      <td>483.000000</td>\n",
       "      <td>483.000000</td>\n",
       "      <td>483.000000</td>\n",
       "      <td>483.00000</td>\n",
       "      <td>483.000000</td>\n",
       "      <td>483.0</td>\n",
       "      <td>483.000000</td>\n",
       "      <td>483.000000</td>\n",
       "      <td>483.000000</td>\n",
       "      <td>483.000000</td>\n",
       "      <td>483.000000</td>\n",
       "      <td>483.000000</td>\n",
       "      <td>483.000000</td>\n",
       "      <td>483.000000</td>\n",
       "      <td>483.000000</td>\n",
       "      <td>483.000000</td>\n",
       "      <td>483.000000</td>\n",
       "    </tr>\n",
       "    <tr>\n",
       "      <th>mean</th>\n",
       "      <td>102.664596</td>\n",
       "      <td>5.115942</td>\n",
       "      <td>206.914079</td>\n",
       "      <td>212.410145</td>\n",
       "      <td>205.231677</td>\n",
       "      <td>10.70000</td>\n",
       "      <td>2.229814</td>\n",
       "      <td>1.0</td>\n",
       "      <td>0.283644</td>\n",
       "      <td>0.165631</td>\n",
       "      <td>101.335404</td>\n",
       "      <td>35.175921</td>\n",
       "      <td>100.561077</td>\n",
       "      <td>18.054969</td>\n",
       "      <td>100.399586</td>\n",
       "      <td>9.235528</td>\n",
       "      <td>4.163561</td>\n",
       "      <td>2.889545</td>\n",
       "      <td>437.817805</td>\n",
       "    </tr>\n",
       "    <tr>\n",
       "      <th>std</th>\n",
       "      <td>39.467820</td>\n",
       "      <td>11.860138</td>\n",
       "      <td>68.997792</td>\n",
       "      <td>51.728910</td>\n",
       "      <td>47.132825</td>\n",
       "      <td>2.79319</td>\n",
       "      <td>1.853275</td>\n",
       "      <td>0.0</td>\n",
       "      <td>0.451233</td>\n",
       "      <td>0.372135</td>\n",
       "      <td>21.582307</td>\n",
       "      <td>11.729710</td>\n",
       "      <td>19.724711</td>\n",
       "      <td>4.396762</td>\n",
       "      <td>19.950659</td>\n",
       "      <td>2.121081</td>\n",
       "      <td>2.551575</td>\n",
       "      <td>0.754152</td>\n",
       "      <td>42.792270</td>\n",
       "    </tr>\n",
       "    <tr>\n",
       "      <th>min</th>\n",
       "      <td>1.000000</td>\n",
       "      <td>0.000000</td>\n",
       "      <td>0.000000</td>\n",
       "      <td>70.900000</td>\n",
       "      <td>47.400000</td>\n",
       "      <td>2.00000</td>\n",
       "      <td>0.000000</td>\n",
       "      <td>1.0</td>\n",
       "      <td>0.000000</td>\n",
       "      <td>0.000000</td>\n",
       "      <td>0.000000</td>\n",
       "      <td>0.000000</td>\n",
       "      <td>48.000000</td>\n",
       "      <td>6.030000</td>\n",
       "      <td>49.000000</td>\n",
       "      <td>2.130000</td>\n",
       "      <td>1.000000</td>\n",
       "      <td>0.540000</td>\n",
       "      <td>408.000000</td>\n",
       "    </tr>\n",
       "    <tr>\n",
       "      <th>25%</th>\n",
       "      <td>76.000000</td>\n",
       "      <td>0.000000</td>\n",
       "      <td>153.250000</td>\n",
       "      <td>177.100000</td>\n",
       "      <td>171.250000</td>\n",
       "      <td>8.80000</td>\n",
       "      <td>1.000000</td>\n",
       "      <td>1.0</td>\n",
       "      <td>0.000000</td>\n",
       "      <td>0.000000</td>\n",
       "      <td>87.500000</td>\n",
       "      <td>26.055000</td>\n",
       "      <td>87.000000</td>\n",
       "      <td>15.055000</td>\n",
       "      <td>85.000000</td>\n",
       "      <td>7.705000</td>\n",
       "      <td>2.000000</td>\n",
       "      <td>2.380000</td>\n",
       "      <td>408.000000</td>\n",
       "    </tr>\n",
       "    <tr>\n",
       "      <th>50%</th>\n",
       "      <td>103.000000</td>\n",
       "      <td>0.000000</td>\n",
       "      <td>217.600000</td>\n",
       "      <td>211.300000</td>\n",
       "      <td>204.800000</td>\n",
       "      <td>10.60000</td>\n",
       "      <td>2.000000</td>\n",
       "      <td>1.0</td>\n",
       "      <td>0.000000</td>\n",
       "      <td>0.000000</td>\n",
       "      <td>103.000000</td>\n",
       "      <td>36.990000</td>\n",
       "      <td>101.000000</td>\n",
       "      <td>17.960000</td>\n",
       "      <td>100.000000</td>\n",
       "      <td>9.220000</td>\n",
       "      <td>4.000000</td>\n",
       "      <td>2.860000</td>\n",
       "      <td>415.000000</td>\n",
       "    </tr>\n",
       "    <tr>\n",
       "      <th>75%</th>\n",
       "      <td>127.000000</td>\n",
       "      <td>0.000000</td>\n",
       "      <td>265.950000</td>\n",
       "      <td>249.450000</td>\n",
       "      <td>239.850000</td>\n",
       "      <td>12.80000</td>\n",
       "      <td>4.000000</td>\n",
       "      <td>1.0</td>\n",
       "      <td>1.000000</td>\n",
       "      <td>0.000000</td>\n",
       "      <td>116.500000</td>\n",
       "      <td>45.210000</td>\n",
       "      <td>114.000000</td>\n",
       "      <td>21.205000</td>\n",
       "      <td>115.000000</td>\n",
       "      <td>10.795000</td>\n",
       "      <td>5.000000</td>\n",
       "      <td>3.460000</td>\n",
       "      <td>510.000000</td>\n",
       "    </tr>\n",
       "    <tr>\n",
       "      <th>max</th>\n",
       "      <td>225.000000</td>\n",
       "      <td>48.000000</td>\n",
       "      <td>350.800000</td>\n",
       "      <td>363.700000</td>\n",
       "      <td>354.900000</td>\n",
       "      <td>20.00000</td>\n",
       "      <td>9.000000</td>\n",
       "      <td>1.0</td>\n",
       "      <td>1.000000</td>\n",
       "      <td>1.000000</td>\n",
       "      <td>165.000000</td>\n",
       "      <td>59.640000</td>\n",
       "      <td>168.000000</td>\n",
       "      <td>30.910000</td>\n",
       "      <td>158.000000</td>\n",
       "      <td>15.970000</td>\n",
       "      <td>20.000000</td>\n",
       "      <td>5.400000</td>\n",
       "      <td>510.000000</td>\n",
       "    </tr>\n",
       "  </tbody>\n",
       "</table>\n",
       "</div>"
      ],
      "text/plain": [
       "       Account Length  VMail Message    Day Mins    Eve Mins  Night Mins  \\\n",
       "count      483.000000     483.000000  483.000000  483.000000  483.000000   \n",
       "mean       102.664596       5.115942  206.914079  212.410145  205.231677   \n",
       "std         39.467820      11.860138   68.997792   51.728910   47.132825   \n",
       "min          1.000000       0.000000    0.000000   70.900000   47.400000   \n",
       "25%         76.000000       0.000000  153.250000  177.100000  171.250000   \n",
       "50%        103.000000       0.000000  217.600000  211.300000  204.800000   \n",
       "75%        127.000000       0.000000  265.950000  249.450000  239.850000   \n",
       "max        225.000000      48.000000  350.800000  363.700000  354.900000   \n",
       "\n",
       "       Intl Mins  CustServ Calls  Churn  Int'l Plan  VMail Plan   Day Calls  \\\n",
       "count  483.00000      483.000000  483.0  483.000000  483.000000  483.000000   \n",
       "mean    10.70000        2.229814    1.0    0.283644    0.165631  101.335404   \n",
       "std      2.79319        1.853275    0.0    0.451233    0.372135   21.582307   \n",
       "min      2.00000        0.000000    1.0    0.000000    0.000000    0.000000   \n",
       "25%      8.80000        1.000000    1.0    0.000000    0.000000   87.500000   \n",
       "50%     10.60000        2.000000    1.0    0.000000    0.000000  103.000000   \n",
       "75%     12.80000        4.000000    1.0    1.000000    0.000000  116.500000   \n",
       "max     20.00000        9.000000    1.0    1.000000    1.000000  165.000000   \n",
       "\n",
       "       Day Charge   Eve Calls  Eve Charge  Night Calls  Night Charge  \\\n",
       "count  483.000000  483.000000  483.000000   483.000000    483.000000   \n",
       "mean    35.175921  100.561077   18.054969   100.399586      9.235528   \n",
       "std     11.729710   19.724711    4.396762    19.950659      2.121081   \n",
       "min      0.000000   48.000000    6.030000    49.000000      2.130000   \n",
       "25%     26.055000   87.000000   15.055000    85.000000      7.705000   \n",
       "50%     36.990000  101.000000   17.960000   100.000000      9.220000   \n",
       "75%     45.210000  114.000000   21.205000   115.000000     10.795000   \n",
       "max     59.640000  168.000000   30.910000   158.000000     15.970000   \n",
       "\n",
       "       Intl Calls  Intl Charge   Area Code  \n",
       "count  483.000000   483.000000  483.000000  \n",
       "mean     4.163561     2.889545  437.817805  \n",
       "std      2.551575     0.754152   42.792270  \n",
       "min      1.000000     0.540000  408.000000  \n",
       "25%      2.000000     2.380000  408.000000  \n",
       "50%      4.000000     2.860000  415.000000  \n",
       "75%      5.000000     3.460000  510.000000  \n",
       "max     20.000000     5.400000  510.000000  "
      ]
     },
     "execution_count": 99,
     "metadata": {},
     "output_type": "execute_result"
    }
   ],
   "source": [
    "true_df.describe()"
   ]
  },
  {
   "cell_type": "code",
   "execution_count": 100,
   "metadata": {
    "collapsed": false
   },
   "outputs": [
    {
     "data": {
      "text/html": [
       "<div>\n",
       "<table border=\"1\" class=\"dataframe\">\n",
       "  <thead>\n",
       "    <tr style=\"text-align: right;\">\n",
       "      <th></th>\n",
       "      <th>Account Length</th>\n",
       "      <th>VMail Message</th>\n",
       "      <th>Day Mins</th>\n",
       "      <th>Eve Mins</th>\n",
       "      <th>Night Mins</th>\n",
       "      <th>Intl Mins</th>\n",
       "      <th>CustServ Calls</th>\n",
       "      <th>Churn</th>\n",
       "      <th>Int'l Plan</th>\n",
       "      <th>VMail Plan</th>\n",
       "      <th>Day Calls</th>\n",
       "      <th>Day Charge</th>\n",
       "      <th>Eve Calls</th>\n",
       "      <th>Eve Charge</th>\n",
       "      <th>Night Calls</th>\n",
       "      <th>Night Charge</th>\n",
       "      <th>Intl Calls</th>\n",
       "      <th>Intl Charge</th>\n",
       "      <th>Area Code</th>\n",
       "    </tr>\n",
       "  </thead>\n",
       "  <tbody>\n",
       "    <tr>\n",
       "      <th>count</th>\n",
       "      <td>2850.000000</td>\n",
       "      <td>2850.000000</td>\n",
       "      <td>2850.000000</td>\n",
       "      <td>2850.000000</td>\n",
       "      <td>2850.000000</td>\n",
       "      <td>2850.000000</td>\n",
       "      <td>2850.000000</td>\n",
       "      <td>2850.0</td>\n",
       "      <td>2850.000000</td>\n",
       "      <td>2850.000000</td>\n",
       "      <td>2850.000000</td>\n",
       "      <td>2850.000000</td>\n",
       "      <td>2850.000000</td>\n",
       "      <td>2850.000000</td>\n",
       "      <td>2850.000000</td>\n",
       "      <td>2850.000000</td>\n",
       "      <td>2850.000000</td>\n",
       "      <td>2850.000000</td>\n",
       "      <td>2850.000000</td>\n",
       "    </tr>\n",
       "    <tr>\n",
       "      <th>mean</th>\n",
       "      <td>100.793684</td>\n",
       "      <td>8.604561</td>\n",
       "      <td>175.175754</td>\n",
       "      <td>199.043298</td>\n",
       "      <td>200.133193</td>\n",
       "      <td>10.158877</td>\n",
       "      <td>1.449825</td>\n",
       "      <td>0.0</td>\n",
       "      <td>0.065263</td>\n",
       "      <td>0.295439</td>\n",
       "      <td>100.283158</td>\n",
       "      <td>29.780421</td>\n",
       "      <td>100.038596</td>\n",
       "      <td>16.918909</td>\n",
       "      <td>100.058246</td>\n",
       "      <td>9.006074</td>\n",
       "      <td>4.532982</td>\n",
       "      <td>2.743404</td>\n",
       "      <td>437.074737</td>\n",
       "    </tr>\n",
       "    <tr>\n",
       "      <th>std</th>\n",
       "      <td>39.882350</td>\n",
       "      <td>13.913125</td>\n",
       "      <td>50.181655</td>\n",
       "      <td>50.292175</td>\n",
       "      <td>51.105032</td>\n",
       "      <td>2.784489</td>\n",
       "      <td>1.163883</td>\n",
       "      <td>0.0</td>\n",
       "      <td>0.247033</td>\n",
       "      <td>0.456320</td>\n",
       "      <td>19.801157</td>\n",
       "      <td>8.530835</td>\n",
       "      <td>19.958414</td>\n",
       "      <td>4.274863</td>\n",
       "      <td>19.506246</td>\n",
       "      <td>2.299768</td>\n",
       "      <td>2.441984</td>\n",
       "      <td>0.751784</td>\n",
       "      <td>42.306156</td>\n",
       "    </tr>\n",
       "    <tr>\n",
       "      <th>min</th>\n",
       "      <td>1.000000</td>\n",
       "      <td>0.000000</td>\n",
       "      <td>0.000000</td>\n",
       "      <td>0.000000</td>\n",
       "      <td>23.200000</td>\n",
       "      <td>0.000000</td>\n",
       "      <td>0.000000</td>\n",
       "      <td>0.0</td>\n",
       "      <td>0.000000</td>\n",
       "      <td>0.000000</td>\n",
       "      <td>0.000000</td>\n",
       "      <td>0.000000</td>\n",
       "      <td>0.000000</td>\n",
       "      <td>0.000000</td>\n",
       "      <td>33.000000</td>\n",
       "      <td>1.040000</td>\n",
       "      <td>0.000000</td>\n",
       "      <td>0.000000</td>\n",
       "      <td>408.000000</td>\n",
       "    </tr>\n",
       "    <tr>\n",
       "      <th>25%</th>\n",
       "      <td>73.000000</td>\n",
       "      <td>0.000000</td>\n",
       "      <td>142.825000</td>\n",
       "      <td>164.500000</td>\n",
       "      <td>165.900000</td>\n",
       "      <td>8.400000</td>\n",
       "      <td>1.000000</td>\n",
       "      <td>0.0</td>\n",
       "      <td>0.000000</td>\n",
       "      <td>0.000000</td>\n",
       "      <td>87.000000</td>\n",
       "      <td>24.282500</td>\n",
       "      <td>87.000000</td>\n",
       "      <td>13.980000</td>\n",
       "      <td>87.000000</td>\n",
       "      <td>7.470000</td>\n",
       "      <td>3.000000</td>\n",
       "      <td>2.270000</td>\n",
       "      <td>408.000000</td>\n",
       "    </tr>\n",
       "    <tr>\n",
       "      <th>50%</th>\n",
       "      <td>100.000000</td>\n",
       "      <td>0.000000</td>\n",
       "      <td>177.200000</td>\n",
       "      <td>199.600000</td>\n",
       "      <td>200.250000</td>\n",
       "      <td>10.200000</td>\n",
       "      <td>1.000000</td>\n",
       "      <td>0.0</td>\n",
       "      <td>0.000000</td>\n",
       "      <td>0.000000</td>\n",
       "      <td>100.000000</td>\n",
       "      <td>30.120000</td>\n",
       "      <td>100.000000</td>\n",
       "      <td>16.970000</td>\n",
       "      <td>100.000000</td>\n",
       "      <td>9.010000</td>\n",
       "      <td>4.000000</td>\n",
       "      <td>2.750000</td>\n",
       "      <td>415.000000</td>\n",
       "    </tr>\n",
       "    <tr>\n",
       "      <th>75%</th>\n",
       "      <td>127.000000</td>\n",
       "      <td>22.000000</td>\n",
       "      <td>210.300000</td>\n",
       "      <td>233.200000</td>\n",
       "      <td>234.900000</td>\n",
       "      <td>12.000000</td>\n",
       "      <td>2.000000</td>\n",
       "      <td>0.0</td>\n",
       "      <td>0.000000</td>\n",
       "      <td>1.000000</td>\n",
       "      <td>114.000000</td>\n",
       "      <td>35.750000</td>\n",
       "      <td>114.000000</td>\n",
       "      <td>19.820000</td>\n",
       "      <td>113.000000</td>\n",
       "      <td>10.570000</td>\n",
       "      <td>6.000000</td>\n",
       "      <td>3.240000</td>\n",
       "      <td>510.000000</td>\n",
       "    </tr>\n",
       "    <tr>\n",
       "      <th>max</th>\n",
       "      <td>243.000000</td>\n",
       "      <td>51.000000</td>\n",
       "      <td>315.600000</td>\n",
       "      <td>361.800000</td>\n",
       "      <td>395.000000</td>\n",
       "      <td>18.900000</td>\n",
       "      <td>8.000000</td>\n",
       "      <td>0.0</td>\n",
       "      <td>1.000000</td>\n",
       "      <td>1.000000</td>\n",
       "      <td>163.000000</td>\n",
       "      <td>53.650000</td>\n",
       "      <td>170.000000</td>\n",
       "      <td>30.750000</td>\n",
       "      <td>175.000000</td>\n",
       "      <td>17.770000</td>\n",
       "      <td>19.000000</td>\n",
       "      <td>5.100000</td>\n",
       "      <td>510.000000</td>\n",
       "    </tr>\n",
       "  </tbody>\n",
       "</table>\n",
       "</div>"
      ],
      "text/plain": [
       "       Account Length  VMail Message     Day Mins     Eve Mins   Night Mins  \\\n",
       "count     2850.000000    2850.000000  2850.000000  2850.000000  2850.000000   \n",
       "mean       100.793684       8.604561   175.175754   199.043298   200.133193   \n",
       "std         39.882350      13.913125    50.181655    50.292175    51.105032   \n",
       "min          1.000000       0.000000     0.000000     0.000000    23.200000   \n",
       "25%         73.000000       0.000000   142.825000   164.500000   165.900000   \n",
       "50%        100.000000       0.000000   177.200000   199.600000   200.250000   \n",
       "75%        127.000000      22.000000   210.300000   233.200000   234.900000   \n",
       "max        243.000000      51.000000   315.600000   361.800000   395.000000   \n",
       "\n",
       "         Intl Mins  CustServ Calls   Churn   Int'l Plan   VMail Plan  \\\n",
       "count  2850.000000     2850.000000  2850.0  2850.000000  2850.000000   \n",
       "mean     10.158877        1.449825     0.0     0.065263     0.295439   \n",
       "std       2.784489        1.163883     0.0     0.247033     0.456320   \n",
       "min       0.000000        0.000000     0.0     0.000000     0.000000   \n",
       "25%       8.400000        1.000000     0.0     0.000000     0.000000   \n",
       "50%      10.200000        1.000000     0.0     0.000000     0.000000   \n",
       "75%      12.000000        2.000000     0.0     0.000000     1.000000   \n",
       "max      18.900000        8.000000     0.0     1.000000     1.000000   \n",
       "\n",
       "         Day Calls   Day Charge    Eve Calls   Eve Charge  Night Calls  \\\n",
       "count  2850.000000  2850.000000  2850.000000  2850.000000  2850.000000   \n",
       "mean    100.283158    29.780421   100.038596    16.918909   100.058246   \n",
       "std      19.801157     8.530835    19.958414     4.274863    19.506246   \n",
       "min       0.000000     0.000000     0.000000     0.000000    33.000000   \n",
       "25%      87.000000    24.282500    87.000000    13.980000    87.000000   \n",
       "50%     100.000000    30.120000   100.000000    16.970000   100.000000   \n",
       "75%     114.000000    35.750000   114.000000    19.820000   113.000000   \n",
       "max     163.000000    53.650000   170.000000    30.750000   175.000000   \n",
       "\n",
       "       Night Charge   Intl Calls  Intl Charge    Area Code  \n",
       "count   2850.000000  2850.000000  2850.000000  2850.000000  \n",
       "mean       9.006074     4.532982     2.743404   437.074737  \n",
       "std        2.299768     2.441984     0.751784    42.306156  \n",
       "min        1.040000     0.000000     0.000000   408.000000  \n",
       "25%        7.470000     3.000000     2.270000   408.000000  \n",
       "50%        9.010000     4.000000     2.750000   415.000000  \n",
       "75%       10.570000     6.000000     3.240000   510.000000  \n",
       "max       17.770000    19.000000     5.100000   510.000000  "
      ]
     },
     "execution_count": 100,
     "metadata": {},
     "output_type": "execute_result"
    }
   ],
   "source": [
    "false_df.describe()"
   ]
  },
  {
   "cell_type": "code",
   "execution_count": null,
   "metadata": {
    "collapsed": true
   },
   "outputs": [],
   "source": [
    "#i'm eyeballing things that look like the mean is off, but i think it would better if i engineered some features\n",
    "#i notice that int'l plan is really different between churn/no churn, but intl minutes is the same\n",
    "#i'll explore one more time with that"
   ]
  },
  {
   "cell_type": "code",
   "execution_count": 137,
   "metadata": {
    "collapsed": false
   },
   "outputs": [],
   "source": [
    "#i HATE this col \"int'l plan\" so i will try to rename it\n",
    "true_df=true_df.rename(columns = {\"Int'l Plan\":'Intl_Plan'})\n",
    "#it worked \n"
   ]
  },
  {
   "cell_type": "code",
   "execution_count": 138,
   "metadata": {
    "collapsed": false
   },
   "outputs": [
    {
     "data": {
      "text/html": [
       "<div>\n",
       "<table border=\"1\" class=\"dataframe\">\n",
       "  <thead>\n",
       "    <tr style=\"text-align: right;\">\n",
       "      <th></th>\n",
       "      <th>Account Length</th>\n",
       "      <th>VMail Message</th>\n",
       "      <th>Day Mins</th>\n",
       "      <th>Eve Mins</th>\n",
       "      <th>Night Mins</th>\n",
       "      <th>Intl_Mins</th>\n",
       "      <th>CustServ Calls</th>\n",
       "      <th>Churn</th>\n",
       "      <th>Intl_Plan</th>\n",
       "      <th>VMail Plan</th>\n",
       "      <th>Day Calls</th>\n",
       "      <th>Day Charge</th>\n",
       "      <th>Eve Calls</th>\n",
       "      <th>Eve Charge</th>\n",
       "      <th>Night Calls</th>\n",
       "      <th>Night Charge</th>\n",
       "      <th>Intl Calls</th>\n",
       "      <th>Intl Charge</th>\n",
       "      <th>Area Code</th>\n",
       "    </tr>\n",
       "  </thead>\n",
       "  <tbody>\n",
       "    <tr>\n",
       "      <th>count</th>\n",
       "      <td>483.000000</td>\n",
       "      <td>483.000000</td>\n",
       "      <td>483.000000</td>\n",
       "      <td>483.000000</td>\n",
       "      <td>483.000000</td>\n",
       "      <td>483.00000</td>\n",
       "      <td>483.000000</td>\n",
       "      <td>483.0</td>\n",
       "      <td>483.000000</td>\n",
       "      <td>483.000000</td>\n",
       "      <td>483.000000</td>\n",
       "      <td>483.000000</td>\n",
       "      <td>483.000000</td>\n",
       "      <td>483.000000</td>\n",
       "      <td>483.000000</td>\n",
       "      <td>483.000000</td>\n",
       "      <td>483.000000</td>\n",
       "      <td>483.000000</td>\n",
       "      <td>483.000000</td>\n",
       "    </tr>\n",
       "    <tr>\n",
       "      <th>mean</th>\n",
       "      <td>102.664596</td>\n",
       "      <td>5.115942</td>\n",
       "      <td>206.914079</td>\n",
       "      <td>212.410145</td>\n",
       "      <td>205.231677</td>\n",
       "      <td>10.70000</td>\n",
       "      <td>2.229814</td>\n",
       "      <td>1.0</td>\n",
       "      <td>0.283644</td>\n",
       "      <td>0.165631</td>\n",
       "      <td>101.335404</td>\n",
       "      <td>35.175921</td>\n",
       "      <td>100.561077</td>\n",
       "      <td>18.054969</td>\n",
       "      <td>100.399586</td>\n",
       "      <td>9.235528</td>\n",
       "      <td>4.163561</td>\n",
       "      <td>2.889545</td>\n",
       "      <td>437.817805</td>\n",
       "    </tr>\n",
       "    <tr>\n",
       "      <th>std</th>\n",
       "      <td>39.467820</td>\n",
       "      <td>11.860138</td>\n",
       "      <td>68.997792</td>\n",
       "      <td>51.728910</td>\n",
       "      <td>47.132825</td>\n",
       "      <td>2.79319</td>\n",
       "      <td>1.853275</td>\n",
       "      <td>0.0</td>\n",
       "      <td>0.451233</td>\n",
       "      <td>0.372135</td>\n",
       "      <td>21.582307</td>\n",
       "      <td>11.729710</td>\n",
       "      <td>19.724711</td>\n",
       "      <td>4.396762</td>\n",
       "      <td>19.950659</td>\n",
       "      <td>2.121081</td>\n",
       "      <td>2.551575</td>\n",
       "      <td>0.754152</td>\n",
       "      <td>42.792270</td>\n",
       "    </tr>\n",
       "    <tr>\n",
       "      <th>min</th>\n",
       "      <td>1.000000</td>\n",
       "      <td>0.000000</td>\n",
       "      <td>0.000000</td>\n",
       "      <td>70.900000</td>\n",
       "      <td>47.400000</td>\n",
       "      <td>2.00000</td>\n",
       "      <td>0.000000</td>\n",
       "      <td>1.0</td>\n",
       "      <td>0.000000</td>\n",
       "      <td>0.000000</td>\n",
       "      <td>0.000000</td>\n",
       "      <td>0.000000</td>\n",
       "      <td>48.000000</td>\n",
       "      <td>6.030000</td>\n",
       "      <td>49.000000</td>\n",
       "      <td>2.130000</td>\n",
       "      <td>1.000000</td>\n",
       "      <td>0.540000</td>\n",
       "      <td>408.000000</td>\n",
       "    </tr>\n",
       "    <tr>\n",
       "      <th>25%</th>\n",
       "      <td>76.000000</td>\n",
       "      <td>0.000000</td>\n",
       "      <td>153.250000</td>\n",
       "      <td>177.100000</td>\n",
       "      <td>171.250000</td>\n",
       "      <td>8.80000</td>\n",
       "      <td>1.000000</td>\n",
       "      <td>1.0</td>\n",
       "      <td>0.000000</td>\n",
       "      <td>0.000000</td>\n",
       "      <td>87.500000</td>\n",
       "      <td>26.055000</td>\n",
       "      <td>87.000000</td>\n",
       "      <td>15.055000</td>\n",
       "      <td>85.000000</td>\n",
       "      <td>7.705000</td>\n",
       "      <td>2.000000</td>\n",
       "      <td>2.380000</td>\n",
       "      <td>408.000000</td>\n",
       "    </tr>\n",
       "    <tr>\n",
       "      <th>50%</th>\n",
       "      <td>103.000000</td>\n",
       "      <td>0.000000</td>\n",
       "      <td>217.600000</td>\n",
       "      <td>211.300000</td>\n",
       "      <td>204.800000</td>\n",
       "      <td>10.60000</td>\n",
       "      <td>2.000000</td>\n",
       "      <td>1.0</td>\n",
       "      <td>0.000000</td>\n",
       "      <td>0.000000</td>\n",
       "      <td>103.000000</td>\n",
       "      <td>36.990000</td>\n",
       "      <td>101.000000</td>\n",
       "      <td>17.960000</td>\n",
       "      <td>100.000000</td>\n",
       "      <td>9.220000</td>\n",
       "      <td>4.000000</td>\n",
       "      <td>2.860000</td>\n",
       "      <td>415.000000</td>\n",
       "    </tr>\n",
       "    <tr>\n",
       "      <th>75%</th>\n",
       "      <td>127.000000</td>\n",
       "      <td>0.000000</td>\n",
       "      <td>265.950000</td>\n",
       "      <td>249.450000</td>\n",
       "      <td>239.850000</td>\n",
       "      <td>12.80000</td>\n",
       "      <td>4.000000</td>\n",
       "      <td>1.0</td>\n",
       "      <td>1.000000</td>\n",
       "      <td>0.000000</td>\n",
       "      <td>116.500000</td>\n",
       "      <td>45.210000</td>\n",
       "      <td>114.000000</td>\n",
       "      <td>21.205000</td>\n",
       "      <td>115.000000</td>\n",
       "      <td>10.795000</td>\n",
       "      <td>5.000000</td>\n",
       "      <td>3.460000</td>\n",
       "      <td>510.000000</td>\n",
       "    </tr>\n",
       "    <tr>\n",
       "      <th>max</th>\n",
       "      <td>225.000000</td>\n",
       "      <td>48.000000</td>\n",
       "      <td>350.800000</td>\n",
       "      <td>363.700000</td>\n",
       "      <td>354.900000</td>\n",
       "      <td>20.00000</td>\n",
       "      <td>9.000000</td>\n",
       "      <td>1.0</td>\n",
       "      <td>1.000000</td>\n",
       "      <td>1.000000</td>\n",
       "      <td>165.000000</td>\n",
       "      <td>59.640000</td>\n",
       "      <td>168.000000</td>\n",
       "      <td>30.910000</td>\n",
       "      <td>158.000000</td>\n",
       "      <td>15.970000</td>\n",
       "      <td>20.000000</td>\n",
       "      <td>5.400000</td>\n",
       "      <td>510.000000</td>\n",
       "    </tr>\n",
       "  </tbody>\n",
       "</table>\n",
       "</div>"
      ],
      "text/plain": [
       "       Account Length  VMail Message    Day Mins    Eve Mins  Night Mins  \\\n",
       "count      483.000000     483.000000  483.000000  483.000000  483.000000   \n",
       "mean       102.664596       5.115942  206.914079  212.410145  205.231677   \n",
       "std         39.467820      11.860138   68.997792   51.728910   47.132825   \n",
       "min          1.000000       0.000000    0.000000   70.900000   47.400000   \n",
       "25%         76.000000       0.000000  153.250000  177.100000  171.250000   \n",
       "50%        103.000000       0.000000  217.600000  211.300000  204.800000   \n",
       "75%        127.000000       0.000000  265.950000  249.450000  239.850000   \n",
       "max        225.000000      48.000000  350.800000  363.700000  354.900000   \n",
       "\n",
       "       Intl_Mins  CustServ Calls  Churn   Intl_Plan  VMail Plan   Day Calls  \\\n",
       "count  483.00000      483.000000  483.0  483.000000  483.000000  483.000000   \n",
       "mean    10.70000        2.229814    1.0    0.283644    0.165631  101.335404   \n",
       "std      2.79319        1.853275    0.0    0.451233    0.372135   21.582307   \n",
       "min      2.00000        0.000000    1.0    0.000000    0.000000    0.000000   \n",
       "25%      8.80000        1.000000    1.0    0.000000    0.000000   87.500000   \n",
       "50%     10.60000        2.000000    1.0    0.000000    0.000000  103.000000   \n",
       "75%     12.80000        4.000000    1.0    1.000000    0.000000  116.500000   \n",
       "max     20.00000        9.000000    1.0    1.000000    1.000000  165.000000   \n",
       "\n",
       "       Day Charge   Eve Calls  Eve Charge  Night Calls  Night Charge  \\\n",
       "count  483.000000  483.000000  483.000000   483.000000    483.000000   \n",
       "mean    35.175921  100.561077   18.054969   100.399586      9.235528   \n",
       "std     11.729710   19.724711    4.396762    19.950659      2.121081   \n",
       "min      0.000000   48.000000    6.030000    49.000000      2.130000   \n",
       "25%     26.055000   87.000000   15.055000    85.000000      7.705000   \n",
       "50%     36.990000  101.000000   17.960000   100.000000      9.220000   \n",
       "75%     45.210000  114.000000   21.205000   115.000000     10.795000   \n",
       "max     59.640000  168.000000   30.910000   158.000000     15.970000   \n",
       "\n",
       "       Intl Calls  Intl Charge   Area Code  \n",
       "count  483.000000   483.000000  483.000000  \n",
       "mean     4.163561     2.889545  437.817805  \n",
       "std      2.551575     0.754152   42.792270  \n",
       "min      1.000000     0.540000  408.000000  \n",
       "25%      2.000000     2.380000  408.000000  \n",
       "50%      4.000000     2.860000  415.000000  \n",
       "75%      5.000000     3.460000  510.000000  \n",
       "max     20.000000     5.400000  510.000000  "
      ]
     },
     "execution_count": 138,
     "metadata": {},
     "output_type": "execute_result"
    }
   ],
   "source": [
    "#i HATE this col \"int'l plan\" so i will try to rename it\n",
    "true_df=true_df.rename(columns = {\"Intl Mins\":'Intl_Mins'})\n",
    "#it worked \n",
    "true_df.describe()"
   ]
  },
  {
   "cell_type": "code",
   "execution_count": 139,
   "metadata": {
    "collapsed": false
   },
   "outputs": [
    {
     "data": {
      "text/html": [
       "<div>\n",
       "<table border=\"1\" class=\"dataframe\">\n",
       "  <thead>\n",
       "    <tr style=\"text-align: right;\">\n",
       "      <th>col_0</th>\n",
       "      <th>10.7</th>\n",
       "    </tr>\n",
       "    <tr>\n",
       "      <th>Intl_Plan</th>\n",
       "      <th></th>\n",
       "    </tr>\n",
       "  </thead>\n",
       "  <tbody>\n",
       "    <tr>\n",
       "      <th>0</th>\n",
       "      <td>346</td>\n",
       "    </tr>\n",
       "    <tr>\n",
       "      <th>1</th>\n",
       "      <td>137</td>\n",
       "    </tr>\n",
       "  </tbody>\n",
       "</table>\n",
       "</div>"
      ],
      "text/plain": [
       "col_0      10.7\n",
       "Intl_Plan      \n",
       "0           346\n",
       "1           137"
      ]
     },
     "execution_count": 139,
     "metadata": {},
     "output_type": "execute_result"
    }
   ],
   "source": [
    "pd.crosstab(true_df.Intl_Plan, true_df.Intl_Mins.mean())\n"
   ]
  },
  {
   "cell_type": "code",
   "execution_count": 140,
   "metadata": {
    "collapsed": false
   },
   "outputs": [
    {
     "data": {
      "text/html": [
       "<div>\n",
       "<table border=\"1\" class=\"dataframe\">\n",
       "  <thead>\n",
       "    <tr style=\"text-align: right;\">\n",
       "      <th></th>\n",
       "      <th>Account Length</th>\n",
       "      <th>VMail Message</th>\n",
       "      <th>Day Mins</th>\n",
       "      <th>Eve Mins</th>\n",
       "      <th>Night Mins</th>\n",
       "      <th>Intl_Mins</th>\n",
       "      <th>CustServ Calls</th>\n",
       "      <th>Churn</th>\n",
       "      <th>Intl_Plan</th>\n",
       "      <th>VMail Plan</th>\n",
       "      <th>Day Calls</th>\n",
       "      <th>Day Charge</th>\n",
       "      <th>Eve Calls</th>\n",
       "      <th>Eve Charge</th>\n",
       "      <th>Night Calls</th>\n",
       "      <th>Night Charge</th>\n",
       "      <th>Intl Calls</th>\n",
       "      <th>Intl Charge</th>\n",
       "      <th>Area Code</th>\n",
       "    </tr>\n",
       "  </thead>\n",
       "  <tbody>\n",
       "    <tr>\n",
       "      <th>count</th>\n",
       "      <td>2850.000000</td>\n",
       "      <td>2850.000000</td>\n",
       "      <td>2850.000000</td>\n",
       "      <td>2850.000000</td>\n",
       "      <td>2850.000000</td>\n",
       "      <td>2850.000000</td>\n",
       "      <td>2850.000000</td>\n",
       "      <td>2850.0</td>\n",
       "      <td>2850.000000</td>\n",
       "      <td>2850.000000</td>\n",
       "      <td>2850.000000</td>\n",
       "      <td>2850.000000</td>\n",
       "      <td>2850.000000</td>\n",
       "      <td>2850.000000</td>\n",
       "      <td>2850.000000</td>\n",
       "      <td>2850.000000</td>\n",
       "      <td>2850.000000</td>\n",
       "      <td>2850.000000</td>\n",
       "      <td>2850.000000</td>\n",
       "    </tr>\n",
       "    <tr>\n",
       "      <th>mean</th>\n",
       "      <td>100.793684</td>\n",
       "      <td>8.604561</td>\n",
       "      <td>175.175754</td>\n",
       "      <td>199.043298</td>\n",
       "      <td>200.133193</td>\n",
       "      <td>10.158877</td>\n",
       "      <td>1.449825</td>\n",
       "      <td>0.0</td>\n",
       "      <td>0.065263</td>\n",
       "      <td>0.295439</td>\n",
       "      <td>100.283158</td>\n",
       "      <td>29.780421</td>\n",
       "      <td>100.038596</td>\n",
       "      <td>16.918909</td>\n",
       "      <td>100.058246</td>\n",
       "      <td>9.006074</td>\n",
       "      <td>4.532982</td>\n",
       "      <td>2.743404</td>\n",
       "      <td>437.074737</td>\n",
       "    </tr>\n",
       "    <tr>\n",
       "      <th>std</th>\n",
       "      <td>39.882350</td>\n",
       "      <td>13.913125</td>\n",
       "      <td>50.181655</td>\n",
       "      <td>50.292175</td>\n",
       "      <td>51.105032</td>\n",
       "      <td>2.784489</td>\n",
       "      <td>1.163883</td>\n",
       "      <td>0.0</td>\n",
       "      <td>0.247033</td>\n",
       "      <td>0.456320</td>\n",
       "      <td>19.801157</td>\n",
       "      <td>8.530835</td>\n",
       "      <td>19.958414</td>\n",
       "      <td>4.274863</td>\n",
       "      <td>19.506246</td>\n",
       "      <td>2.299768</td>\n",
       "      <td>2.441984</td>\n",
       "      <td>0.751784</td>\n",
       "      <td>42.306156</td>\n",
       "    </tr>\n",
       "    <tr>\n",
       "      <th>min</th>\n",
       "      <td>1.000000</td>\n",
       "      <td>0.000000</td>\n",
       "      <td>0.000000</td>\n",
       "      <td>0.000000</td>\n",
       "      <td>23.200000</td>\n",
       "      <td>0.000000</td>\n",
       "      <td>0.000000</td>\n",
       "      <td>0.0</td>\n",
       "      <td>0.000000</td>\n",
       "      <td>0.000000</td>\n",
       "      <td>0.000000</td>\n",
       "      <td>0.000000</td>\n",
       "      <td>0.000000</td>\n",
       "      <td>0.000000</td>\n",
       "      <td>33.000000</td>\n",
       "      <td>1.040000</td>\n",
       "      <td>0.000000</td>\n",
       "      <td>0.000000</td>\n",
       "      <td>408.000000</td>\n",
       "    </tr>\n",
       "    <tr>\n",
       "      <th>25%</th>\n",
       "      <td>73.000000</td>\n",
       "      <td>0.000000</td>\n",
       "      <td>142.825000</td>\n",
       "      <td>164.500000</td>\n",
       "      <td>165.900000</td>\n",
       "      <td>8.400000</td>\n",
       "      <td>1.000000</td>\n",
       "      <td>0.0</td>\n",
       "      <td>0.000000</td>\n",
       "      <td>0.000000</td>\n",
       "      <td>87.000000</td>\n",
       "      <td>24.282500</td>\n",
       "      <td>87.000000</td>\n",
       "      <td>13.980000</td>\n",
       "      <td>87.000000</td>\n",
       "      <td>7.470000</td>\n",
       "      <td>3.000000</td>\n",
       "      <td>2.270000</td>\n",
       "      <td>408.000000</td>\n",
       "    </tr>\n",
       "    <tr>\n",
       "      <th>50%</th>\n",
       "      <td>100.000000</td>\n",
       "      <td>0.000000</td>\n",
       "      <td>177.200000</td>\n",
       "      <td>199.600000</td>\n",
       "      <td>200.250000</td>\n",
       "      <td>10.200000</td>\n",
       "      <td>1.000000</td>\n",
       "      <td>0.0</td>\n",
       "      <td>0.000000</td>\n",
       "      <td>0.000000</td>\n",
       "      <td>100.000000</td>\n",
       "      <td>30.120000</td>\n",
       "      <td>100.000000</td>\n",
       "      <td>16.970000</td>\n",
       "      <td>100.000000</td>\n",
       "      <td>9.010000</td>\n",
       "      <td>4.000000</td>\n",
       "      <td>2.750000</td>\n",
       "      <td>415.000000</td>\n",
       "    </tr>\n",
       "    <tr>\n",
       "      <th>75%</th>\n",
       "      <td>127.000000</td>\n",
       "      <td>22.000000</td>\n",
       "      <td>210.300000</td>\n",
       "      <td>233.200000</td>\n",
       "      <td>234.900000</td>\n",
       "      <td>12.000000</td>\n",
       "      <td>2.000000</td>\n",
       "      <td>0.0</td>\n",
       "      <td>0.000000</td>\n",
       "      <td>1.000000</td>\n",
       "      <td>114.000000</td>\n",
       "      <td>35.750000</td>\n",
       "      <td>114.000000</td>\n",
       "      <td>19.820000</td>\n",
       "      <td>113.000000</td>\n",
       "      <td>10.570000</td>\n",
       "      <td>6.000000</td>\n",
       "      <td>3.240000</td>\n",
       "      <td>510.000000</td>\n",
       "    </tr>\n",
       "    <tr>\n",
       "      <th>max</th>\n",
       "      <td>243.000000</td>\n",
       "      <td>51.000000</td>\n",
       "      <td>315.600000</td>\n",
       "      <td>361.800000</td>\n",
       "      <td>395.000000</td>\n",
       "      <td>18.900000</td>\n",
       "      <td>8.000000</td>\n",
       "      <td>0.0</td>\n",
       "      <td>1.000000</td>\n",
       "      <td>1.000000</td>\n",
       "      <td>163.000000</td>\n",
       "      <td>53.650000</td>\n",
       "      <td>170.000000</td>\n",
       "      <td>30.750000</td>\n",
       "      <td>175.000000</td>\n",
       "      <td>17.770000</td>\n",
       "      <td>19.000000</td>\n",
       "      <td>5.100000</td>\n",
       "      <td>510.000000</td>\n",
       "    </tr>\n",
       "  </tbody>\n",
       "</table>\n",
       "</div>"
      ],
      "text/plain": [
       "       Account Length  VMail Message     Day Mins     Eve Mins   Night Mins  \\\n",
       "count     2850.000000    2850.000000  2850.000000  2850.000000  2850.000000   \n",
       "mean       100.793684       8.604561   175.175754   199.043298   200.133193   \n",
       "std         39.882350      13.913125    50.181655    50.292175    51.105032   \n",
       "min          1.000000       0.000000     0.000000     0.000000    23.200000   \n",
       "25%         73.000000       0.000000   142.825000   164.500000   165.900000   \n",
       "50%        100.000000       0.000000   177.200000   199.600000   200.250000   \n",
       "75%        127.000000      22.000000   210.300000   233.200000   234.900000   \n",
       "max        243.000000      51.000000   315.600000   361.800000   395.000000   \n",
       "\n",
       "         Intl_Mins  CustServ Calls   Churn    Intl_Plan   VMail Plan  \\\n",
       "count  2850.000000     2850.000000  2850.0  2850.000000  2850.000000   \n",
       "mean     10.158877        1.449825     0.0     0.065263     0.295439   \n",
       "std       2.784489        1.163883     0.0     0.247033     0.456320   \n",
       "min       0.000000        0.000000     0.0     0.000000     0.000000   \n",
       "25%       8.400000        1.000000     0.0     0.000000     0.000000   \n",
       "50%      10.200000        1.000000     0.0     0.000000     0.000000   \n",
       "75%      12.000000        2.000000     0.0     0.000000     1.000000   \n",
       "max      18.900000        8.000000     0.0     1.000000     1.000000   \n",
       "\n",
       "         Day Calls   Day Charge    Eve Calls   Eve Charge  Night Calls  \\\n",
       "count  2850.000000  2850.000000  2850.000000  2850.000000  2850.000000   \n",
       "mean    100.283158    29.780421   100.038596    16.918909   100.058246   \n",
       "std      19.801157     8.530835    19.958414     4.274863    19.506246   \n",
       "min       0.000000     0.000000     0.000000     0.000000    33.000000   \n",
       "25%      87.000000    24.282500    87.000000    13.980000    87.000000   \n",
       "50%     100.000000    30.120000   100.000000    16.970000   100.000000   \n",
       "75%     114.000000    35.750000   114.000000    19.820000   113.000000   \n",
       "max     163.000000    53.650000   170.000000    30.750000   175.000000   \n",
       "\n",
       "       Night Charge   Intl Calls  Intl Charge    Area Code  \n",
       "count   2850.000000  2850.000000  2850.000000  2850.000000  \n",
       "mean       9.006074     4.532982     2.743404   437.074737  \n",
       "std        2.299768     2.441984     0.751784    42.306156  \n",
       "min        1.040000     0.000000     0.000000   408.000000  \n",
       "25%        7.470000     3.000000     2.270000   408.000000  \n",
       "50%        9.010000     4.000000     2.750000   415.000000  \n",
       "75%       10.570000     6.000000     3.240000   510.000000  \n",
       "max       17.770000    19.000000     5.100000   510.000000  "
      ]
     },
     "execution_count": 140,
     "metadata": {},
     "output_type": "execute_result"
    }
   ],
   "source": [
    "false_df=false_df.rename(columns = {\"Int'l Plan\":'Intl_Plan'})\n",
    "false_df=false_df.rename(columns = {\"Intl Mins\":'Intl_Mins'})\n",
    "#it worked \n",
    "false_df.describe()"
   ]
  },
  {
   "cell_type": "code",
   "execution_count": 143,
   "metadata": {
    "collapsed": false
   },
   "outputs": [
    {
     "data": {
      "text/html": [
       "<div>\n",
       "<table border=\"1\" class=\"dataframe\">\n",
       "  <thead>\n",
       "    <tr style=\"text-align: right;\">\n",
       "      <th>col_0</th>\n",
       "      <th>10.158877193</th>\n",
       "    </tr>\n",
       "    <tr>\n",
       "      <th>Intl_Plan</th>\n",
       "      <th></th>\n",
       "    </tr>\n",
       "  </thead>\n",
       "  <tbody>\n",
       "    <tr>\n",
       "      <th>0</th>\n",
       "      <td>2664</td>\n",
       "    </tr>\n",
       "    <tr>\n",
       "      <th>1</th>\n",
       "      <td>186</td>\n",
       "    </tr>\n",
       "  </tbody>\n",
       "</table>\n",
       "</div>"
      ],
      "text/plain": [
       "col_0      10.158877\n",
       "Intl_Plan           \n",
       "0               2664\n",
       "1                186"
      ]
     },
     "execution_count": 143,
     "metadata": {},
     "output_type": "execute_result"
    }
   ],
   "source": [
    "pd.crosstab(false_df.Intl_Plan, false_df.Intl_Mins.mean())\n"
   ]
  },
  {
   "cell_type": "code",
   "execution_count": null,
   "metadata": {
    "collapsed": true
   },
   "outputs": [],
   "source": [
    "#well, even though the means are the same, a far greater proprotion of people who churn have an international plan"
   ]
  },
  {
   "cell_type": "code",
   "execution_count": null,
   "metadata": {
    "collapsed": true
   },
   "outputs": [],
   "source": [
    "#I think I would recommend the following to this company:\n",
    "#collect more demographic data on where people live, primary reason for getting the service\n",
    "#perhaps make an option to turn off your international plan if you're note using it\n",
    "#or suggest changing the pricing on the international plan\n",
    "#if they could get fewer people to leave the service, they could charge less for the international plan \n",
    "#if they charge less for the international plan, they may get fewer people leaving\n",
    "# i would possibly recommend that they try a few different pricing strategies with different groups, and \n",
    "    #have a control group, and then see how they fare\n",
    "#also, i would recommend that they keep an eye on customers with the following attributes, as they correlate with churn\n",
    "    #international plan == 1\n",
    "    #Day mins being high\n",
    "    #more than 1 customer service call\n",
    "    #no voicemail plan\n",
    "    #high day charge\n",
    "#i'm betting that there are other factors that determine the characteristics of the above features\n",
    "#for example, maybe the people with high day mins, 1+ cust serv call, and no vmail plan are people who are \n",
    "    #using the service to make calls like election polling, or robocalls or scams\n",
    "    #maybe they have other characteristics in common, like their reason for getting the plan\n",
    "    #or the number of calls per day and length, or their age, or something"
   ]
  },
  {
   "cell_type": "code",
   "execution_count": 147,
   "metadata": {
    "collapsed": false
   },
   "outputs": [
    {
     "data": {
      "text/plain": [
       "Account Length    0.016541\n",
       "VMail Message    -0.089728\n",
       "Day Mins          0.205151\n",
       "Eve Mins          0.092796\n",
       "Night Mins        0.035493\n",
       "Intl_Mins         0.068239\n",
       "CustServ Calls    0.208750\n",
       "Churn             1.000000\n",
       "Intl_Plan         0.259852\n",
       "VMail Plan       -0.102148\n",
       "Day Calls         0.018459\n",
       "Day Charge        0.205151\n",
       "Eve Calls         0.009233\n",
       "Eve Charge        0.092786\n",
       "Night Calls       0.006141\n",
       "Night Charge      0.035496\n",
       "Intl Calls       -0.052844\n",
       "Intl Charge       0.068259\n",
       "Area Code         0.006174\n",
       "Name: Churn, dtype: float64"
      ]
     },
     "execution_count": 147,
     "metadata": {},
     "output_type": "execute_result"
    }
   ],
   "source": [
    "df.corr().Churn"
   ]
  },
  {
   "cell_type": "code",
   "execution_count": null,
   "metadata": {
    "collapsed": true
   },
   "outputs": [],
   "source": []
  }
 ],
 "metadata": {
  "anaconda-cloud": {},
  "kernelspec": {
   "display_name": "Python [Root]",
   "language": "python",
   "name": "Python [Root]"
  },
  "language_info": {
   "codemirror_mode": {
    "name": "ipython",
    "version": 2
   },
   "file_extension": ".py",
   "mimetype": "text/x-python",
   "name": "python",
   "nbconvert_exporter": "python",
   "pygments_lexer": "ipython2",
   "version": "2.7.12"
  }
 },
 "nbformat": 4,
 "nbformat_minor": 0
}
